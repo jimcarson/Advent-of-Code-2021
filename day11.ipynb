{
 "cells": [
  {
   "cell_type": "code",
   "execution_count": 1,
   "id": "3eb6b14a-b529-4eaa-841c-1366837c71ce",
   "metadata": {},
   "outputs": [],
   "source": [
    "# Advent of Code, Day 10 - Jim Carson. \n",
    "import numpy as np\n",
    "def parse(puzzle_input):\n",
    "    with open(puzzle_input,\"r\") as fp:\n",
    "        f = fp.read()\n",
    "    return np.array([list(i) for i in f.splitlines()]).astype(int)\n",
    "\n",
    "# This version is similar to day 8 but now we have diagonals. \n",
    "def get_neighbors(d, r, c):\n",
    "    points = set()\n",
    "    for row, column in [ \n",
    "        (r-1, c-1), (r-1, c), (r-1, c+1),\n",
    "        (r  , c-1),           (r  , c+1),\n",
    "        (r+1, c-1), (r+1, c), (r+1, c+1)]:\n",
    "        if 0 <= row < d.shape[0] and 0 <= column < d.shape[1]:\n",
    "            points.add((row, column))\n",
    "    return points\n",
    "\n",
    "def flash(d, r, c, DEBUG=False):\n",
    "    # given an octopus that's flashed, find its neighbors and\n",
    "    # add 1 to them.\n",
    "    for p in get_neighbors(d, r, c):\n",
    "        d[p] += 1\n",
    "        # Since flashing can cause neighbors to flash, check\n",
    "        # recursively.  However, once flashed, they'll not flash\n",
    "        # again\n",
    "        if d[p] == 10:\n",
    "            if DEBUG:\n",
    "                print(\"Dependent Flash: \",p)\n",
    "            flash(d, *p, DEBUG)       \n",
    "\n",
    "def increment_array(d, DEBUG=False):\n",
    "    # Energy level of each octopus increases by 1\n",
    "    d += 1\n",
    "    # These are the initial flashers\n",
    "    for x in np.argwhere(d == 10):\n",
    "        p = (x[0], x[1])\n",
    "        if DEBUG:\n",
    "            print(\"Primary flash: \",p)\n",
    "        flash(d, *p, DEBUG)\n",
    "    numflashes = np.sum(d > 9)\n",
    "    d[d > 9] = 0\n",
    "    return(numflashes)"
   ]
  },
  {
   "cell_type": "code",
   "execution_count": 2,
   "id": "6988bcf7",
   "metadata": {},
   "outputs": [],
   "source": [
    "# This block is used to pretty-print the matrices we're debugging.  \n",
    "from pygments import highlight\n",
    "from pygments.lexers import XmlLexer\n",
    "from pygments.formatters import HtmlFormatter\n",
    "import IPython\n",
    "\n",
    "# See ANSI codes https://jupyterbook.org/content/code-outputs.html\n",
    "fgcolor = \"1;31\" # Red foreground text\n",
    "formatstring = \"\\x1b[1;31m{0:>2}\\x1b[m\"\n",
    "\n",
    "# Given a numpy matrix and a value to highlight, display the matrix\n",
    "# with that highlighting.\n",
    "def highlight_zeros(d, val_highlight = 0):\n",
    "    for i in range(d.shape[0]):\n",
    "        line = \"\"\n",
    "        for j in range(d.shape[1]):\n",
    "            if d[i,j] == val_highlight:\n",
    "                line = line + (formatstring.format(str(d[i,j])))\n",
    "            else:\n",
    "                line = line + (\"{0:>2}\".format(str(d[i,j])))\n",
    "        print(line)"
   ]
  },
  {
   "cell_type": "code",
   "execution_count": 3,
   "id": "2f1826b6",
   "metadata": {},
   "outputs": [],
   "source": [
    "testdata = parse(\"input_files/day11.test.txt\")\n",
    "data = parse(\"input_files/day11.txt\")\n",
    "minitest = parse(\"input_files/day11.mini.txt\")"
   ]
  },
  {
   "cell_type": "code",
   "execution_count": 4,
   "id": "285438bc",
   "metadata": {},
   "outputs": [
    {
     "name": "stdout",
     "output_type": "stream",
     "text": [
      " 1 1 1 1 1\n",
      " 1 9 9 9 1\n",
      " 1 9 1 9 1\n",
      " 1 9 9 9 1\n",
      " 1 1 1 1 1\n",
      "Primary flash:  (1, 1)\n",
      "Primary flash:  (1, 2)\n",
      "Primary flash:  (1, 3)\n",
      "Primary flash:  (2, 1)\n",
      "Primary flash:  (2, 3)\n",
      "Primary flash:  (3, 1)\n",
      "Primary flash:  (3, 2)\n",
      "Primary flash:  (3, 3)\n",
      "Dependent Flash:  (2, 2)\n",
      "9\n",
      " 3 4 5 4 3\n",
      " 4\u001b[1;31m 0\u001b[m\u001b[1;31m 0\u001b[m\u001b[1;31m 0\u001b[m 4\n",
      " 5\u001b[1;31m 0\u001b[m\u001b[1;31m 0\u001b[m\u001b[1;31m 0\u001b[m 5\n",
      " 4\u001b[1;31m 0\u001b[m\u001b[1;31m 0\u001b[m\u001b[1;31m 0\u001b[m 4\n",
      " 3 4 5 4 3\n",
      "0\n",
      " 4 5 6 5 4\n",
      " 5 1 1 1 5\n",
      " 6 1 1 1 6\n",
      " 5 1 1 1 5\n",
      " 4 5 6 5 4\n"
     ]
    }
   ],
   "source": [
    "# sample 1 - minitest, for illustrative purposes.\n",
    "highlight_zeros(minitest)\n",
    "# Nothing in the first\n",
    "print(increment_array(minitest, True))\n",
    "highlight_zeros(minitest)\n",
    "print(increment_array(minitest))\n",
    "highlight_zeros(minitest)"
   ]
  },
  {
   "cell_type": "code",
   "execution_count": 5,
   "id": "8f33faa7",
   "metadata": {},
   "outputs": [
    {
     "name": "stdout",
     "output_type": "stream",
     "text": [
      " 5 4 8 3 1 4 3 2 2 3\n",
      " 2 7 4 5 8 5 4 7 1 1\n",
      " 5 2 6 4 5 5 6 1 7 3\n",
      " 6 1 4 1 3 3 6 1 4 6\n",
      " 6 3 5 7 3 8 5 4 7 8\n",
      " 4 1 6 7 5 2 4 6 4 5\n",
      " 2 1 7 6 8 4 1 7 2 1\n",
      " 6 8 8 2 8 8 1 1 3 4\n",
      " 4 8 4 6 8 4 8 5 5 4\n",
      " 5 2 8 3 7 5 1 5 2 6\n",
      "0\n",
      " 6 5 9 4 2 5 4 3 3 4\n",
      " 3 8 5 6 9 6 5 8 2 2\n",
      " 6 3 7 5 6 6 7 2 8 4\n",
      " 7 2 5 2 4 4 7 2 5 7\n",
      " 7 4 6 8 4 9 6 5 8 9\n",
      " 5 2 7 8 6 3 5 7 5 6\n",
      " 3 2 8 7 9 5 2 8 3 2\n",
      " 7 9 9 3 9 9 2 2 4 5\n",
      " 5 9 5 7 9 5 9 6 6 5\n",
      " 6 3 9 4 8 6 2 6 3 7\n",
      "35\n",
      " 8 8\u001b[1;31m 0\u001b[m 7 4 7 6 5 5 5\n",
      " 5\u001b[1;31m 0\u001b[m 8 9\u001b[1;31m 0\u001b[m 8 7\u001b[1;31m 0\u001b[m 5 4\n",
      " 8 5 9 7 8 8 9 6\u001b[1;31m 0\u001b[m 8\n",
      " 8 4 8 5 7 6 9 6\u001b[1;31m 0\u001b[m\u001b[1;31m 0\u001b[m\n",
      " 8 7\u001b[1;31m 0\u001b[m\u001b[1;31m 0\u001b[m 9\u001b[1;31m 0\u001b[m 8 8\u001b[1;31m 0\u001b[m\u001b[1;31m 0\u001b[m\n",
      " 6 6\u001b[1;31m 0\u001b[m\u001b[1;31m 0\u001b[m\u001b[1;31m 0\u001b[m 8 8 9 8 9\n",
      " 6 8\u001b[1;31m 0\u001b[m\u001b[1;31m 0\u001b[m\u001b[1;31m 0\u001b[m\u001b[1;31m 0\u001b[m 5 9 4 3\n",
      "\u001b[1;31m 0\u001b[m\u001b[1;31m 0\u001b[m\u001b[1;31m 0\u001b[m\u001b[1;31m 0\u001b[m\u001b[1;31m 0\u001b[m\u001b[1;31m 0\u001b[m 7 4 5 6\n",
      " 9\u001b[1;31m 0\u001b[m\u001b[1;31m 0\u001b[m\u001b[1;31m 0\u001b[m\u001b[1;31m 0\u001b[m\u001b[1;31m 0\u001b[m\u001b[1;31m 0\u001b[m 8 7 6\n",
      " 8 7\u001b[1;31m 0\u001b[m\u001b[1;31m 0\u001b[m\u001b[1;31m 0\u001b[m\u001b[1;31m 0\u001b[m 6 8 4 8\n"
     ]
    }
   ],
   "source": [
    "# Test data, for illustrative purposes.\n",
    "highlight_zeros(testdata)\n",
    "# Nothing in the first\n",
    "print(increment_array(testdata, True))\n",
    "highlight_zeros(testdata)\n",
    "print(increment_array(testdata))\n",
    "highlight_zeros(testdata)"
   ]
  },
  {
   "cell_type": "code",
   "execution_count": 6,
   "id": "a63da0ed",
   "metadata": {},
   "outputs": [
    {
     "data": {
      "text/plain": [
       "1755"
      ]
     },
     "execution_count": 6,
     "metadata": {},
     "output_type": "execute_result"
    }
   ],
   "source": [
    "# Part 1, run 100 steps, count cumulative flashes: 1755\n",
    "np.sum([increment_array(data) for i in range(100)])"
   ]
  },
  {
   "cell_type": "code",
   "execution_count": 7,
   "id": "3afca375",
   "metadata": {},
   "outputs": [
    {
     "name": "stdout",
     "output_type": "stream",
     "text": [
      "212\n"
     ]
    }
   ],
   "source": [
    "# Part 2, how many steps until all octopi flash?  212\n",
    "data = parse(\"input_files/day11.txt\")\n",
    "flashes = 0\n",
    "steps = 0\n",
    "while (flashes < data.shape[0]*data.shape[1]):\n",
    "    steps += 1\n",
    "    flashes = increment_array(data)\n",
    "print(steps)"
   ]
  },
  {
   "cell_type": "code",
   "execution_count": null,
   "id": "5a3e9eb4",
   "metadata": {},
   "outputs": [],
   "source": []
  }
 ],
 "metadata": {
  "kernelspec": {
   "display_name": "Python 3 (ipykernel)",
   "language": "python",
   "name": "python3"
  },
  "language_info": {
   "codemirror_mode": {
    "name": "ipython",
    "version": 3
   },
   "file_extension": ".py",
   "mimetype": "text/x-python",
   "name": "python",
   "nbconvert_exporter": "python",
   "pygments_lexer": "ipython3",
   "version": "3.9.7"
  }
 },
 "nbformat": 4,
 "nbformat_minor": 5
}
