{
 "cells": [
  {
   "cell_type": "code",
   "execution_count": 1,
   "id": "3eb6b14a-b529-4eaa-841c-1366837c71ce",
   "metadata": {},
   "outputs": [],
   "source": [
    "# Advent of Code, Day 10 - Jim Carson. \n",
    "import numpy as np\n",
    "DEBUG = False\n",
    "def parse(puzzle_input):\n",
    "    with open(puzzle_input,\"r\") as fp:\n",
    "        f = fp.read()\n",
    "    return np.array([list(i) for i in f.splitlines()]).astype(int)\n",
    "\n",
    "def get_neighbors(d, r, c):\n",
    "    points = set()\n",
    "    for row, column in [ \n",
    "        (r-1, c-1), (r-1, c), (r-1, c+1),\n",
    "        (r  , c-1),           (r , c+1),\n",
    "        (r+1, c-1), (r+1, c), (r+1, c+1)]:\n",
    "        if 0 <= row < d.shape[0] and 0 <= column < d.shape[1]:\n",
    "            points.add((row, column))\n",
    "    return points\n",
    "\n",
    "def flash(d, r, c):\n",
    "    for p in get_neighbors(d, r, c):\n",
    "        d[p] += 1\n",
    "        if d[p] == 10:\n",
    "            flash(d, *p)\n",
    "            d[p] += 1\n",
    "\n",
    "def increment_array(d):\n",
    "    # Energy level of each octopus increases by 1\n",
    "    d += 1\n",
    "    for x in np.argwhere(d == 10):\n",
    "        flash(d, x[0],x[1])\n",
    "    numflashes = np.sum(d > 9)\n",
    "    d[d > 9] = 0\n",
    "    return(numflashes)"
   ]
  },
  {
   "cell_type": "code",
   "execution_count": 2,
   "id": "2f1826b6",
   "metadata": {},
   "outputs": [],
   "source": [
    "testdata = parse(\"input_files/day11.test.txt\")\n",
    "data = parse(\"input_files/day11.txt\")\n",
    "minitest = parse(\"input_files/day11.mini.txt\")"
   ]
  },
  {
   "cell_type": "code",
   "execution_count": 3,
   "id": "a63da0ed",
   "metadata": {},
   "outputs": [
    {
     "data": {
      "text/plain": [
       "1755"
      ]
     },
     "execution_count": 3,
     "metadata": {},
     "output_type": "execute_result"
    }
   ],
   "source": [
    "# Part 1, run 100 steps, count cumulative flashes: 1755\n",
    "np.sum([increment_array(data) for i in range(100)])"
   ]
  },
  {
   "cell_type": "code",
   "execution_count": 4,
   "id": "3afca375",
   "metadata": {},
   "outputs": [
    {
     "name": "stdout",
     "output_type": "stream",
     "text": [
      "212\n"
     ]
    }
   ],
   "source": [
    "# Part 2, how many steps until all octopi flash?  212\n",
    "data = parse(\"input_files/day11.txt\")\n",
    "flashes = 0\n",
    "steps = 0\n",
    "while (flashes < data.shape[0]*data.shape[1]):\n",
    "    steps += 1\n",
    "    flashes = increment_array(data)\n",
    "print(steps)"
   ]
  },
  {
   "cell_type": "code",
   "execution_count": 19,
   "id": "f9150f39",
   "metadata": {},
   "outputs": [
    {
     "name": "stdout",
     "output_type": "stream",
     "text": [
      "212\n"
     ]
    }
   ],
   "source": []
  },
  {
   "cell_type": "code",
   "execution_count": null,
   "id": "8f33faa7",
   "metadata": {},
   "outputs": [],
   "source": []
  }
 ],
 "metadata": {
  "kernelspec": {
   "display_name": "Python 3 (ipykernel)",
   "language": "python",
   "name": "python3"
  },
  "language_info": {
   "codemirror_mode": {
    "name": "ipython",
    "version": 3
   },
   "file_extension": ".py",
   "mimetype": "text/x-python",
   "name": "python",
   "nbconvert_exporter": "python",
   "pygments_lexer": "ipython3",
   "version": "3.9.7"
  }
 },
 "nbformat": 4,
 "nbformat_minor": 5
}
