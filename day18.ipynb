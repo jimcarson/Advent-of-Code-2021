{
 "cells": [
  {
   "cell_type": "code",
   "execution_count": 4,
   "id": "d8c01a10",
   "metadata": {},
   "outputs": [],
   "source": [
    "# Day 18 Snailfish\n",
    "DEBUG = False\n",
    "def parse(f):\n",
    "    with open(f) as fp:\n",
    "        f = fp.read()\n",
    "    return f.splitlines()"
   ]
  },
  {
   "cell_type": "markdown",
   "id": "ff8eeb85",
   "metadata": {},
   "source": [
    "Snailfish numbers must always be reduced, and the process of adding two snailfish numbers can result in snailfish numbers that need to be reduced.  To reduce a snailfish number, you must repeatedly do the first action in this list that applies to the snailfish number:\n",
    "\n",
    "    If any pair is nested inside four pairs, the leftmost such pair explodes.\n",
    "    If any regular number is 10 or greater, the leftmost such regular number splits.\n"
   ]
  },
  {
   "cell_type": "code",
   "execution_count": 5,
   "id": "a615cb7b",
   "metadata": {},
   "outputs": [],
   "source": [
    "def reduce(L):\n",
    "    while True:\n",
    "        if explode(L):\n",
    "            if DEBUG:\n",
    "                print(\"Explode\")\n",
    "            pass\n",
    "        elif split(L):\n",
    "            if DEBUG:\n",
    "                print(\"Split\")\n",
    "            pass\n",
    "        else:\n",
    "            break\n",
    "            \n",
    "def addition(x, y, direction=\"right\"):\n",
    "    if direction == \"left\":\n",
    "        t = x[1]\n",
    "    else:\n",
    "        t = x[0]\n",
    "    if isinstance(t, int):\n",
    "        t += y\n",
    "    else:\n",
    "        addition(t, y, direction)\n",
    "\n",
    "def add_left(x, y):\n",
    "    if isinstance(x[1], int):\n",
    "        x[1] += y\n",
    "    else:\n",
    "        add_left(x[1], y)\n",
    "\n",
    "def add_right(x, y):\n",
    "    if isinstance(x[0], int):\n",
    "        x[0] += y\n",
    "    else:\n",
    "        add_right(x[0], y)\n",
    "\n",
    "def split(L):\n",
    "    if isinstance(L, list):\n",
    "        for i in range(2):\n",
    "            if isinstance(L[i], int):\n",
    "                if L[i] >= 10:\n",
    "                    L[i] = [L[i] // 2, L[i] - L[i] // 2]\n",
    "                    return True\n",
    "            elif split(L[i]):\n",
    "                return True"
   ]
  },
  {
   "cell_type": "code",
   "execution_count": 6,
   "id": "e5e4d29b",
   "metadata": {},
   "outputs": [],
   "source": [
    "def explode(x, nested=0):\n",
    "    if isinstance(x, list):\n",
    "        if nested == 4:\n",
    "            return True, x[0], x[1]\n",
    "\n",
    "        result = explode(x[0], nested + 1)\n",
    "        if result:\n",
    "            zeroed, X, Y = result\n",
    "            if zeroed:\n",
    "                x[0] = 0\n",
    "\n",
    "            if isinstance(x[1], int):\n",
    "                x[1] += Y\n",
    "            else:\n",
    "                add_right(x[1], Y)\n",
    "\n",
    "            return False, X, 0\n",
    "\n",
    "        result = explode(x[1], nested + 1)\n",
    "        if result:\n",
    "            zeroed, X, Y = result\n",
    "            if zeroed:\n",
    "                x[1] = 0\n",
    "\n",
    "            if isinstance(x[0], int):\n",
    "                x[0] += X\n",
    "            else:\n",
    "                add_left(x[0], X)\n",
    "\n",
    "            return False, 0, Y\n"
   ]
  },
  {
   "cell_type": "markdown",
   "id": "14ce189b",
   "metadata": {},
   "source": [
    "To check whether it's the right answer, the snailfish teacher only checks the magnitude of the final sum. The magnitude of a pair is 3 times the magnitude of its left element plus 2 times the magnitude of its right element. The magnitude of a regular number is just that number."
   ]
  },
  {
   "cell_type": "code",
   "execution_count": 7,
   "id": "779c8273",
   "metadata": {},
   "outputs": [],
   "source": [
    "def magnitude(x):\n",
    "    if isinstance(x, int):\n",
    "        return x\n",
    "    return 3 * magnitude(x[0]) + 2 * magnitude(x[1])"
   ]
  },
  {
   "cell_type": "code",
   "execution_count": 8,
   "id": "0b5ba218",
   "metadata": {},
   "outputs": [
    {
     "name": "stdout",
     "output_type": "stream",
     "text": [
      "4140\n"
     ]
    }
   ],
   "source": [
    "# Test case\n",
    "lines = parse(\"input_files/day18.test.txt\")\n",
    "\n",
    "# First number\n",
    "result = eval(lines[0])\n",
    "reduce(result)\n",
    "\n",
    "for L in lines[1:]:\n",
    "    result = [result, eval(L)]\n",
    "    reduce(result)\n",
    "    if DEBUG:\n",
    "        print(result)\n",
    "# 4140\n",
    "print(magnitude(result))"
   ]
  },
  {
   "cell_type": "code",
   "execution_count": 10,
   "id": "338d61d1",
   "metadata": {},
   "outputs": [
    {
     "name": "stdout",
     "output_type": "stream",
     "text": [
      "3816\n"
     ]
    }
   ],
   "source": [
    "# Real case\n",
    "lines = parse(\"input_files/day18.txt\")\n",
    "\n",
    "# First number\n",
    "result = eval(lines[0])\n",
    "reduce(result)\n",
    "\n",
    "for i in lines[1:]:\n",
    "    result = [result, eval(i)]\n",
    "    reduce(result)\n",
    "    if DEBUG:\n",
    "        print(result)\n",
    "\n",
    "# 3816\n",
    "print(magnitude(result))"
   ]
  },
  {
   "cell_type": "code",
   "execution_count": 9,
   "id": "ff49a4bf",
   "metadata": {},
   "outputs": [
    {
     "name": "stdout",
     "output_type": "stream",
     "text": [
      "4819\n"
     ]
    }
   ],
   "source": [
    "largest_magnitude = 0\n",
    "for i in lines:\n",
    "    for j in lines:\n",
    "        if i == j:\n",
    "            continue\n",
    "        result = [eval(i), eval(j)]\n",
    "        reduce(result)\n",
    "        largest_magnitude = max(largest_magnitude, magnitude(result))\n",
    "\n",
    "# 4819\n",
    "print(largest_magnitude)"
   ]
  },
  {
   "cell_type": "code",
   "execution_count": null,
   "id": "9524888d",
   "metadata": {},
   "outputs": [],
   "source": []
  }
 ],
 "metadata": {
  "kernelspec": {
   "display_name": "Python 3 (ipykernel)",
   "language": "python",
   "name": "python3"
  },
  "language_info": {
   "codemirror_mode": {
    "name": "ipython",
    "version": 3
   },
   "file_extension": ".py",
   "mimetype": "text/x-python",
   "name": "python",
   "nbconvert_exporter": "python",
   "pygments_lexer": "ipython3",
   "version": "3.9.7"
  }
 },
 "nbformat": 4,
 "nbformat_minor": 5
}
