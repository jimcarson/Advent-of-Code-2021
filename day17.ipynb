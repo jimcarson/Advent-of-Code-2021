{
 "cells": [
  {
   "cell_type": "code",
   "execution_count": 1,
   "id": "fe758c29",
   "metadata": {},
   "outputs": [],
   "source": [
    "# Advent of Code, Trick Shot Day 17 - Jim Carson. \n",
    "from rich.jupyter import print as rprint\n",
    "import re\n",
    "\n",
    "DEBUG = False\n",
    "\n",
    "TEST_DATA = \"target area: x=20..30, y=-10..-5\"\n",
    "PROD_DATA = \"target area: x=150..171, y=-129..-70\"\n",
    "\n",
    "def parse(s):\n",
    "    min_x, max_x, min_y, max_y = map(int, re.findall(r\"-?\\d+\", s))\n",
    "    return min_x, max_x, min_y, max_y"
   ]
  },
  {
   "cell_type": "markdown",
   "id": "ab4e7e51",
   "metadata": {},
   "source": [
    "The probe's x,y position starts at 0,0. Then, it will follow some trajectory by moving in steps. On each step, these changes occur in the following order:\n",
    "\n",
    "    The probe's x position increases by its x velocity.\n",
    "    The probe's y position increases by its y velocity.\n",
    "    Due to drag, the probe's x velocity changes by 1 toward the value 0; that is, it decreases by 1 if it is greater than 0, increases by 1 if it is less than 0, or does not change if it is already 0.\n",
    "    Due to gravity, the probe's y velocity decreases by 1.\n"
   ]
  },
  {
   "cell_type": "code",
   "execution_count": 2,
   "id": "170e13e2",
   "metadata": {},
   "outputs": [],
   "source": [
    "# Generator for Y\n",
    "def y_position(delta_y, min_y, max_y):\n",
    "    y = 0\n",
    "    steps = 0\n",
    "    while y >= min_y:\n",
    "        if min_y <= y <= max_y:\n",
    "            yield steps\n",
    "        steps = steps + 1\n",
    "        y = y + delta_y\n",
    "        delta_y = delta_y - 1\n",
    "\n",
    "def is_in_landing_zone(step, min_x, max_x, velocity_list = False):\n",
    "    x_velocities = set()\n",
    "    for delta_x in range(0, max_x + 1):\n",
    "        x = 0\n",
    "        tmp_delta_x = delta_x\n",
    "        for i in range(step):\n",
    "            x = x + delta_x\n",
    "            # Due to drag, probe's velocity trends toward zero\n",
    "            if delta_x > 0:\n",
    "                delta_x -= 1\n",
    "        if min_x <= x <= max_x:\n",
    "            if not velocity_list:\n",
    "                return True\n",
    "            x_velocities.add(tmp_delta_x)\n",
    "    return x_velocities\n",
    "\n",
    "def find_highest_y_value(min_x, max_x, min_y, max_y):\n",
    "    delta_y = -min_y\n",
    "    while True:\n",
    "        for step in y_position(delta_y, min_y, max_y):\n",
    "            if is_in_landing_zone(step, min_x, max_x):\n",
    "                return sum(range(1, delta_y + 1))\n",
    "        # Due to gravity, the probe's Y velocity decreases by 1\n",
    "        delta_y = delta_y - 1\n",
    "    return -1\n",
    "\n",
    "def distinct_velocities(min_x, max_x, min_y, max_y):\n",
    "    velocities = 0\n",
    "    for delta_y in range(min_y - 1, 1 - min_y):\n",
    "        distinct_y_vel = set()\n",
    "        for step in y_position(delta_y, min_y, max_y):\n",
    "            distinct_y_vel.update(is_in_landing_zone(step, min_x, max_x, True))\n",
    "        velocities = velocities + len(distinct_y_vel)\n",
    "    return velocities"
   ]
  },
  {
   "cell_type": "code",
   "execution_count": 3,
   "id": "28877993",
   "metadata": {},
   "outputs": [
    {
     "name": "stdout",
     "output_type": "stream",
     "text": [
      "Highest Y value is 8256\n"
     ]
    }
   ],
   "source": [
    "# Part 1: 8256\n",
    "print(\"Highest Y value is %d\" % find_highest_y_value(*parse(PROD_DATA)))"
   ]
  },
  {
   "cell_type": "code",
   "execution_count": 4,
   "id": "445757ec",
   "metadata": {},
   "outputs": [
    {
     "name": "stdout",
     "output_type": "stream",
     "text": [
      "Distinct initial velocities: 2326\n"
     ]
    }
   ],
   "source": [
    "# part 2: 2326\n",
    "print(\"Distinct initial velocities: %d\" % distinct_velocities(*parse(PROD_DATA)))"
   ]
  },
  {
   "cell_type": "code",
   "execution_count": null,
   "id": "badb1125",
   "metadata": {},
   "outputs": [],
   "source": []
  }
 ],
 "metadata": {
  "kernelspec": {
   "display_name": "Python 3 (ipykernel)",
   "language": "python",
   "name": "python3"
  },
  "language_info": {
   "codemirror_mode": {
    "name": "ipython",
    "version": 3
   },
   "file_extension": ".py",
   "mimetype": "text/x-python",
   "name": "python",
   "nbconvert_exporter": "python",
   "pygments_lexer": "ipython3",
   "version": "3.9.7"
  }
 },
 "nbformat": 4,
 "nbformat_minor": 5
}
