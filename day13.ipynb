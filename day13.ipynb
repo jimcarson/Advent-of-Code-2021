{
 "cells": [
  {
   "cell_type": "code",
   "execution_count": 1,
   "id": "fe758c29",
   "metadata": {},
   "outputs": [],
   "source": [
    "# Advent of Code, Transparent Origami Day 13 - Jim Carson. \n",
    "# Rewrote to use numpy arrays (Thanks, Janet for showing me that!),\n",
    "# debugging output colorized from day 11 code\n",
    "#\n",
    "# This is excessively long\n",
    "# \n",
    "\n",
    "import numpy as np\n",
    "from rich.jupyter import print as rprint\n",
    "DEBUG = False\n",
    "\n",
    "# This block is used to pretty-print the matrices we're debugging.  \n",
    "# See ANSI codes https://jupyterbook.org/content/code-outputs.html\n",
    "# fgcolor = \"1;31\" # Red foreground text\n",
    "# formatstring = \"\\x1b[1;31m{0:>1}\\x1b[m\" # Red foreground text\n",
    "\n",
    "class sheet:\n",
    "    def __init__(self, filename):\n",
    "        # Read file\n",
    "        with open(filename,\"r\") as fp:\n",
    "            f = fp.read()\n",
    "        # Split input file by blank line.\n",
    "        coords, instr = f.split(\"\\n\\n\")\n",
    "        # Create data structures to read\n",
    "        self.coordinates = []\n",
    "        self.instructions = []\n",
    "        self.first_instructions = []\n",
    "        # Add coordinates to list\n",
    "        for i in coords.splitlines():\n",
    "            x,y = map(int, i.split(\",\"))\n",
    "            self.coordinates.append((x,y))      \n",
    "        self.max_x = max([x for x,y in self.coordinates])\n",
    "        self.max_y = max([y for x,y in self.coordinates])\n",
    "        if DEBUG:\n",
    "            print(self.max_x, self.max_y)\n",
    "        # Create the paper\n",
    "        self.paper = np.zeros((self.max_x + 1, self.max_y + 1), dtype=int)\n",
    "        # Color in the \"dots\"\n",
    "        for i in self.coordinates:\n",
    "            self.paper[i] = 1\n",
    "        # Add the list of folding instructions\n",
    "        for i in instr.splitlines():\n",
    "            axis, position = i.replace(\"fold along \",\"\").split(\"=\")\n",
    "            if DEBUG:\n",
    "                print(axis, position)\n",
    "            self.instructions.append((axis,int(position)))\n",
    "            if not self.first_instructions:\n",
    "                self.first_instructions.append((axis, position))\n",
    "    \n",
    "    # Since we have a numpy array, we can slice it, flip it, and do a logical or\n",
    "    def fold(self, axis, position, DEBUG=DEBUG):\n",
    "        if axis == 'y':\n",
    "            top = self.paper[:, 0:position]\n",
    "            bottom =  np.flip(self.paper[:, position + 1 :], axis=1)\n",
    "            self.paper = top | bottom\n",
    "        else:\n",
    "            left = self.paper[0:position, :]\n",
    "            right = np.flip(self.paper[position + 1 :, :], axis=0)\n",
    "            self.paper = left | right\n",
    "        if DEBUG:\n",
    "            self.color_grid(match=1)\n",
    "\n",
    "    # output a colorized grid.\n",
    "    def color_grid(self, **kwargs):\n",
    "        x_value_highlight = kwargs.pop('x', None)\n",
    "        y_value_highlight = kwargs.pop('y', None)\n",
    "        match_arg = kwargs.pop(\"match\", None)\n",
    "        highlight_color = kwargs.pop(\"highlight_color\",\"bold dark_red\")\n",
    "        normal_color = kwargs.pop(\"normal_color\",\"#8c8c8c\")\n",
    "        printas = kwargs.pop(\"printas\", \"01\")        \n",
    "        line = \"\"\n",
    "        for j in range(self.paper.shape[1]):   \n",
    "            for i in range(self.paper.shape[0]):         \n",
    "                if i == x_value_highlight or j == y_value_highlight or match_arg == self.paper[i,j]:\n",
    "                    line = line + \"[%s]\" % highlight_color + str(printas[self.paper[i,j]]) + \"[/]\"\n",
    "                else:\n",
    "                    line = line + \"[%s]\" % normal_color + str(printas[self.paper[i,j]]) + \"[/]\"\n",
    "            line = line + \"\\n\"\n",
    "        rprint(line)"
   ]
  },
  {
   "cell_type": "code",
   "execution_count": 2,
   "id": "d3386ce6",
   "metadata": {},
   "outputs": [
    {
     "data": {
      "text/html": [
       "<pre style=\"white-space:pre;overflow-x:auto;line-height:normal;font-family:Menlo,'DejaVu Sans Mono',consolas,'Courier New',monospace\"><span style=\"color: #8c8c8c; text-decoration-color: #8c8c8c; font-weight: bold\">000</span><span style=\"color: #870000; text-decoration-color: #870000; font-weight: bold\">1</span><span style=\"color: #8c8c8c; text-decoration-color: #8c8c8c; font-weight: bold\">00</span><span style=\"color: #870000; text-decoration-color: #870000; font-weight: bold\">1</span><span style=\"color: #8c8c8c; text-decoration-color: #8c8c8c; font-weight: bold\">00</span><span style=\"color: #870000; text-decoration-color: #870000; font-weight: bold\">1</span><span style=\"color: #8c8c8c; text-decoration-color: #8c8c8c; font-weight: bold\">0</span>\n",
       "<span style=\"color: #8c8c8c; text-decoration-color: #8c8c8c; font-weight: bold\">0000</span><span style=\"color: #870000; text-decoration-color: #870000; font-weight: bold\">1</span><span style=\"color: #8c8c8c; text-decoration-color: #8c8c8c; font-weight: bold\">000000</span>\n",
       "<span style=\"color: #8c8c8c; text-decoration-color: #8c8c8c; font-weight: bold\">00000000000</span>\n",
       "<span style=\"color: #870000; text-decoration-color: #870000; font-weight: bold\">1</span><span style=\"color: #8c8c8c; text-decoration-color: #8c8c8c; font-weight: bold\">0000000000</span>\n",
       "<span style=\"color: #8c8c8c; text-decoration-color: #8c8c8c; font-weight: bold\">000</span><span style=\"color: #870000; text-decoration-color: #870000; font-weight: bold\">1</span><span style=\"color: #8c8c8c; text-decoration-color: #8c8c8c; font-weight: bold\">0000</span><span style=\"color: #870000; text-decoration-color: #870000; font-weight: bold\">1</span><span style=\"color: #8c8c8c; text-decoration-color: #8c8c8c; font-weight: bold\">0</span><span style=\"color: #870000; text-decoration-color: #870000; font-weight: bold\">1</span>\n",
       "<span style=\"color: #8c8c8c; text-decoration-color: #8c8c8c; font-weight: bold\">00000000000</span>\n",
       "<span style=\"color: #8c8c8c; text-decoration-color: #8c8c8c; font-weight: bold\">00000000000</span>\n",
       "<span style=\"color: #870000; text-decoration-color: #870000; font-weight: bold\">00000000000</span>\n",
       "<span style=\"color: #8c8c8c; text-decoration-color: #8c8c8c; font-weight: bold\">00000000000</span>\n",
       "<span style=\"color: #8c8c8c; text-decoration-color: #8c8c8c; font-weight: bold\">00000000000</span>\n",
       "<span style=\"color: #8c8c8c; text-decoration-color: #8c8c8c; font-weight: bold\">0</span><span style=\"color: #870000; text-decoration-color: #870000; font-weight: bold\">1</span><span style=\"color: #8c8c8c; text-decoration-color: #8c8c8c; font-weight: bold\">0000</span><span style=\"color: #870000; text-decoration-color: #870000; font-weight: bold\">1</span><span style=\"color: #8c8c8c; text-decoration-color: #8c8c8c; font-weight: bold\">0</span><span style=\"color: #870000; text-decoration-color: #870000; font-weight: bold\">11</span><span style=\"color: #8c8c8c; text-decoration-color: #8c8c8c; font-weight: bold\">0</span>\n",
       "<span style=\"color: #8c8c8c; text-decoration-color: #8c8c8c; font-weight: bold\">0000</span><span style=\"color: #870000; text-decoration-color: #870000; font-weight: bold\">1</span><span style=\"color: #8c8c8c; text-decoration-color: #8c8c8c; font-weight: bold\">000000</span>\n",
       "<span style=\"color: #8c8c8c; text-decoration-color: #8c8c8c; font-weight: bold\">000000</span><span style=\"color: #870000; text-decoration-color: #870000; font-weight: bold\">1</span><span style=\"color: #8c8c8c; text-decoration-color: #8c8c8c; font-weight: bold\">000</span><span style=\"color: #870000; text-decoration-color: #870000; font-weight: bold\">1</span>\n",
       "<span style=\"color: #870000; text-decoration-color: #870000; font-weight: bold\">1</span><span style=\"color: #8c8c8c; text-decoration-color: #8c8c8c; font-weight: bold\">0000000000</span>\n",
       "<span style=\"color: #870000; text-decoration-color: #870000; font-weight: bold\">1</span><span style=\"color: #8c8c8c; text-decoration-color: #8c8c8c; font-weight: bold\">0</span><span style=\"color: #870000; text-decoration-color: #870000; font-weight: bold\">1</span><span style=\"color: #8c8c8c; text-decoration-color: #8c8c8c; font-weight: bold\">00000000</span>\n",
       "\n",
       "</pre>\n"
      ],
      "text/plain": [
       "\u001b[1;38;2;140;140;140m0\u001b[0m\u001b[1;38;2;140;140;140m0\u001b[0m\u001b[1;38;2;140;140;140m0\u001b[0m\u001b[1;38;5;88m1\u001b[0m\u001b[1;38;2;140;140;140m0\u001b[0m\u001b[1;38;2;140;140;140m0\u001b[0m\u001b[1;38;5;88m1\u001b[0m\u001b[1;38;2;140;140;140m0\u001b[0m\u001b[1;38;2;140;140;140m0\u001b[0m\u001b[1;38;5;88m1\u001b[0m\u001b[1;38;2;140;140;140m0\u001b[0m\n",
       "\u001b[1;38;2;140;140;140m0\u001b[0m\u001b[1;38;2;140;140;140m0\u001b[0m\u001b[1;38;2;140;140;140m0\u001b[0m\u001b[1;38;2;140;140;140m0\u001b[0m\u001b[1;38;5;88m1\u001b[0m\u001b[1;38;2;140;140;140m0\u001b[0m\u001b[1;38;2;140;140;140m0\u001b[0m\u001b[1;38;2;140;140;140m0\u001b[0m\u001b[1;38;2;140;140;140m0\u001b[0m\u001b[1;38;2;140;140;140m0\u001b[0m\u001b[1;38;2;140;140;140m0\u001b[0m\n",
       "\u001b[1;38;2;140;140;140m0\u001b[0m\u001b[1;38;2;140;140;140m0\u001b[0m\u001b[1;38;2;140;140;140m0\u001b[0m\u001b[1;38;2;140;140;140m0\u001b[0m\u001b[1;38;2;140;140;140m0\u001b[0m\u001b[1;38;2;140;140;140m0\u001b[0m\u001b[1;38;2;140;140;140m0\u001b[0m\u001b[1;38;2;140;140;140m0\u001b[0m\u001b[1;38;2;140;140;140m0\u001b[0m\u001b[1;38;2;140;140;140m0\u001b[0m\u001b[1;38;2;140;140;140m0\u001b[0m\n",
       "\u001b[1;38;5;88m1\u001b[0m\u001b[1;38;2;140;140;140m0\u001b[0m\u001b[1;38;2;140;140;140m0\u001b[0m\u001b[1;38;2;140;140;140m0\u001b[0m\u001b[1;38;2;140;140;140m0\u001b[0m\u001b[1;38;2;140;140;140m0\u001b[0m\u001b[1;38;2;140;140;140m0\u001b[0m\u001b[1;38;2;140;140;140m0\u001b[0m\u001b[1;38;2;140;140;140m0\u001b[0m\u001b[1;38;2;140;140;140m0\u001b[0m\u001b[1;38;2;140;140;140m0\u001b[0m\n",
       "\u001b[1;38;2;140;140;140m0\u001b[0m\u001b[1;38;2;140;140;140m0\u001b[0m\u001b[1;38;2;140;140;140m0\u001b[0m\u001b[1;38;5;88m1\u001b[0m\u001b[1;38;2;140;140;140m0\u001b[0m\u001b[1;38;2;140;140;140m0\u001b[0m\u001b[1;38;2;140;140;140m0\u001b[0m\u001b[1;38;2;140;140;140m0\u001b[0m\u001b[1;38;5;88m1\u001b[0m\u001b[1;38;2;140;140;140m0\u001b[0m\u001b[1;38;5;88m1\u001b[0m\n",
       "\u001b[1;38;2;140;140;140m0\u001b[0m\u001b[1;38;2;140;140;140m0\u001b[0m\u001b[1;38;2;140;140;140m0\u001b[0m\u001b[1;38;2;140;140;140m0\u001b[0m\u001b[1;38;2;140;140;140m0\u001b[0m\u001b[1;38;2;140;140;140m0\u001b[0m\u001b[1;38;2;140;140;140m0\u001b[0m\u001b[1;38;2;140;140;140m0\u001b[0m\u001b[1;38;2;140;140;140m0\u001b[0m\u001b[1;38;2;140;140;140m0\u001b[0m\u001b[1;38;2;140;140;140m0\u001b[0m\n",
       "\u001b[1;38;2;140;140;140m0\u001b[0m\u001b[1;38;2;140;140;140m0\u001b[0m\u001b[1;38;2;140;140;140m0\u001b[0m\u001b[1;38;2;140;140;140m0\u001b[0m\u001b[1;38;2;140;140;140m0\u001b[0m\u001b[1;38;2;140;140;140m0\u001b[0m\u001b[1;38;2;140;140;140m0\u001b[0m\u001b[1;38;2;140;140;140m0\u001b[0m\u001b[1;38;2;140;140;140m0\u001b[0m\u001b[1;38;2;140;140;140m0\u001b[0m\u001b[1;38;2;140;140;140m0\u001b[0m\n",
       "\u001b[1;38;5;88m0\u001b[0m\u001b[1;38;5;88m0\u001b[0m\u001b[1;38;5;88m0\u001b[0m\u001b[1;38;5;88m0\u001b[0m\u001b[1;38;5;88m0\u001b[0m\u001b[1;38;5;88m0\u001b[0m\u001b[1;38;5;88m0\u001b[0m\u001b[1;38;5;88m0\u001b[0m\u001b[1;38;5;88m0\u001b[0m\u001b[1;38;5;88m0\u001b[0m\u001b[1;38;5;88m0\u001b[0m\n",
       "\u001b[1;38;2;140;140;140m0\u001b[0m\u001b[1;38;2;140;140;140m0\u001b[0m\u001b[1;38;2;140;140;140m0\u001b[0m\u001b[1;38;2;140;140;140m0\u001b[0m\u001b[1;38;2;140;140;140m0\u001b[0m\u001b[1;38;2;140;140;140m0\u001b[0m\u001b[1;38;2;140;140;140m0\u001b[0m\u001b[1;38;2;140;140;140m0\u001b[0m\u001b[1;38;2;140;140;140m0\u001b[0m\u001b[1;38;2;140;140;140m0\u001b[0m\u001b[1;38;2;140;140;140m0\u001b[0m\n",
       "\u001b[1;38;2;140;140;140m0\u001b[0m\u001b[1;38;2;140;140;140m0\u001b[0m\u001b[1;38;2;140;140;140m0\u001b[0m\u001b[1;38;2;140;140;140m0\u001b[0m\u001b[1;38;2;140;140;140m0\u001b[0m\u001b[1;38;2;140;140;140m0\u001b[0m\u001b[1;38;2;140;140;140m0\u001b[0m\u001b[1;38;2;140;140;140m0\u001b[0m\u001b[1;38;2;140;140;140m0\u001b[0m\u001b[1;38;2;140;140;140m0\u001b[0m\u001b[1;38;2;140;140;140m0\u001b[0m\n",
       "\u001b[1;38;2;140;140;140m0\u001b[0m\u001b[1;38;5;88m1\u001b[0m\u001b[1;38;2;140;140;140m0\u001b[0m\u001b[1;38;2;140;140;140m0\u001b[0m\u001b[1;38;2;140;140;140m0\u001b[0m\u001b[1;38;2;140;140;140m0\u001b[0m\u001b[1;38;5;88m1\u001b[0m\u001b[1;38;2;140;140;140m0\u001b[0m\u001b[1;38;5;88m1\u001b[0m\u001b[1;38;5;88m1\u001b[0m\u001b[1;38;2;140;140;140m0\u001b[0m\n",
       "\u001b[1;38;2;140;140;140m0\u001b[0m\u001b[1;38;2;140;140;140m0\u001b[0m\u001b[1;38;2;140;140;140m0\u001b[0m\u001b[1;38;2;140;140;140m0\u001b[0m\u001b[1;38;5;88m1\u001b[0m\u001b[1;38;2;140;140;140m0\u001b[0m\u001b[1;38;2;140;140;140m0\u001b[0m\u001b[1;38;2;140;140;140m0\u001b[0m\u001b[1;38;2;140;140;140m0\u001b[0m\u001b[1;38;2;140;140;140m0\u001b[0m\u001b[1;38;2;140;140;140m0\u001b[0m\n",
       "\u001b[1;38;2;140;140;140m0\u001b[0m\u001b[1;38;2;140;140;140m0\u001b[0m\u001b[1;38;2;140;140;140m0\u001b[0m\u001b[1;38;2;140;140;140m0\u001b[0m\u001b[1;38;2;140;140;140m0\u001b[0m\u001b[1;38;2;140;140;140m0\u001b[0m\u001b[1;38;5;88m1\u001b[0m\u001b[1;38;2;140;140;140m0\u001b[0m\u001b[1;38;2;140;140;140m0\u001b[0m\u001b[1;38;2;140;140;140m0\u001b[0m\u001b[1;38;5;88m1\u001b[0m\n",
       "\u001b[1;38;5;88m1\u001b[0m\u001b[1;38;2;140;140;140m0\u001b[0m\u001b[1;38;2;140;140;140m0\u001b[0m\u001b[1;38;2;140;140;140m0\u001b[0m\u001b[1;38;2;140;140;140m0\u001b[0m\u001b[1;38;2;140;140;140m0\u001b[0m\u001b[1;38;2;140;140;140m0\u001b[0m\u001b[1;38;2;140;140;140m0\u001b[0m\u001b[1;38;2;140;140;140m0\u001b[0m\u001b[1;38;2;140;140;140m0\u001b[0m\u001b[1;38;2;140;140;140m0\u001b[0m\n",
       "\u001b[1;38;5;88m1\u001b[0m\u001b[1;38;2;140;140;140m0\u001b[0m\u001b[1;38;5;88m1\u001b[0m\u001b[1;38;2;140;140;140m0\u001b[0m\u001b[1;38;2;140;140;140m0\u001b[0m\u001b[1;38;2;140;140;140m0\u001b[0m\u001b[1;38;2;140;140;140m0\u001b[0m\u001b[1;38;2;140;140;140m0\u001b[0m\u001b[1;38;2;140;140;140m0\u001b[0m\u001b[1;38;2;140;140;140m0\u001b[0m\u001b[1;38;2;140;140;140m0\u001b[0m\n",
       "\n"
      ]
     },
     "metadata": {},
     "output_type": "display_data"
    }
   ],
   "source": [
    "# Test example, showing colorization of ones and the first Y fold.\n",
    "s = sheet(\"input_files/day13.test.txt\")\n",
    "(axis, position) = s.instructions[0]\n",
    "s.color_grid(match=1, y=position)"
   ]
  },
  {
   "cell_type": "code",
   "execution_count": 3,
   "id": "25f4253f",
   "metadata": {},
   "outputs": [
    {
     "data": {
      "text/html": [
       "<pre style=\"white-space:pre;overflow-x:auto;line-height:normal;font-family:Menlo,'DejaVu Sans Mono',consolas,'Courier New',monospace\"><span style=\"color: #870000; text-decoration-color: #870000; font-weight: bold\">1</span><span style=\"color: #8c8c8c; text-decoration-color: #8c8c8c; font-weight: bold\">0</span><span style=\"color: #870000; text-decoration-color: #870000; font-weight: bold\">11</span><span style=\"color: #8c8c8c; text-decoration-color: #8c8c8c; font-weight: bold\">00</span><span style=\"color: #870000; text-decoration-color: #870000; font-weight: bold\">1</span><span style=\"color: #8c8c8c; text-decoration-color: #8c8c8c; font-weight: bold\">00</span><span style=\"color: #870000; text-decoration-color: #870000; font-weight: bold\">1</span><span style=\"color: #8c8c8c; text-decoration-color: #8c8c8c; font-weight: bold\">0</span>\n",
       "<span style=\"color: #870000; text-decoration-color: #870000; font-weight: bold\">1</span><span style=\"color: #8c8c8c; text-decoration-color: #8c8c8c; font-weight: bold\">000</span><span style=\"color: #870000; text-decoration-color: #870000; font-weight: bold\">1</span><span style=\"color: #8c8c8c; text-decoration-color: #8c8c8c; font-weight: bold\">000000</span>\n",
       "<span style=\"color: #8c8c8c; text-decoration-color: #8c8c8c; font-weight: bold\">000000</span><span style=\"color: #870000; text-decoration-color: #870000; font-weight: bold\">1</span><span style=\"color: #8c8c8c; text-decoration-color: #8c8c8c; font-weight: bold\">000</span><span style=\"color: #870000; text-decoration-color: #870000; font-weight: bold\">1</span>\n",
       "<span style=\"color: #870000; text-decoration-color: #870000; font-weight: bold\">1</span><span style=\"color: #8c8c8c; text-decoration-color: #8c8c8c; font-weight: bold\">000</span><span style=\"color: #870000; text-decoration-color: #870000; font-weight: bold\">1</span><span style=\"color: #8c8c8c; text-decoration-color: #8c8c8c; font-weight: bold\">000000</span>\n",
       "<span style=\"color: #8c8c8c; text-decoration-color: #8c8c8c; font-weight: bold\">0</span><span style=\"color: #870000; text-decoration-color: #870000; font-weight: bold\">1</span><span style=\"color: #8c8c8c; text-decoration-color: #8c8c8c; font-weight: bold\">0</span><span style=\"color: #870000; text-decoration-color: #870000; font-weight: bold\">1</span><span style=\"color: #8c8c8c; text-decoration-color: #8c8c8c; font-weight: bold\">00</span><span style=\"color: #870000; text-decoration-color: #870000; font-weight: bold\">1</span><span style=\"color: #8c8c8c; text-decoration-color: #8c8c8c; font-weight: bold\">0</span><span style=\"color: #870000; text-decoration-color: #870000; font-weight: bold\">111</span>\n",
       "<span style=\"color: #8c8c8c; text-decoration-color: #8c8c8c; font-weight: bold\">00000000000</span>\n",
       "<span style=\"color: #8c8c8c; text-decoration-color: #8c8c8c; font-weight: bold\">00000000000</span>\n",
       "\n",
       "</pre>\n"
      ],
      "text/plain": [
       "\u001b[1;38;5;88m1\u001b[0m\u001b[1;38;2;140;140;140m0\u001b[0m\u001b[1;38;5;88m1\u001b[0m\u001b[1;38;5;88m1\u001b[0m\u001b[1;38;2;140;140;140m0\u001b[0m\u001b[1;38;2;140;140;140m0\u001b[0m\u001b[1;38;5;88m1\u001b[0m\u001b[1;38;2;140;140;140m0\u001b[0m\u001b[1;38;2;140;140;140m0\u001b[0m\u001b[1;38;5;88m1\u001b[0m\u001b[1;38;2;140;140;140m0\u001b[0m\n",
       "\u001b[1;38;5;88m1\u001b[0m\u001b[1;38;2;140;140;140m0\u001b[0m\u001b[1;38;2;140;140;140m0\u001b[0m\u001b[1;38;2;140;140;140m0\u001b[0m\u001b[1;38;5;88m1\u001b[0m\u001b[1;38;2;140;140;140m0\u001b[0m\u001b[1;38;2;140;140;140m0\u001b[0m\u001b[1;38;2;140;140;140m0\u001b[0m\u001b[1;38;2;140;140;140m0\u001b[0m\u001b[1;38;2;140;140;140m0\u001b[0m\u001b[1;38;2;140;140;140m0\u001b[0m\n",
       "\u001b[1;38;2;140;140;140m0\u001b[0m\u001b[1;38;2;140;140;140m0\u001b[0m\u001b[1;38;2;140;140;140m0\u001b[0m\u001b[1;38;2;140;140;140m0\u001b[0m\u001b[1;38;2;140;140;140m0\u001b[0m\u001b[1;38;2;140;140;140m0\u001b[0m\u001b[1;38;5;88m1\u001b[0m\u001b[1;38;2;140;140;140m0\u001b[0m\u001b[1;38;2;140;140;140m0\u001b[0m\u001b[1;38;2;140;140;140m0\u001b[0m\u001b[1;38;5;88m1\u001b[0m\n",
       "\u001b[1;38;5;88m1\u001b[0m\u001b[1;38;2;140;140;140m0\u001b[0m\u001b[1;38;2;140;140;140m0\u001b[0m\u001b[1;38;2;140;140;140m0\u001b[0m\u001b[1;38;5;88m1\u001b[0m\u001b[1;38;2;140;140;140m0\u001b[0m\u001b[1;38;2;140;140;140m0\u001b[0m\u001b[1;38;2;140;140;140m0\u001b[0m\u001b[1;38;2;140;140;140m0\u001b[0m\u001b[1;38;2;140;140;140m0\u001b[0m\u001b[1;38;2;140;140;140m0\u001b[0m\n",
       "\u001b[1;38;2;140;140;140m0\u001b[0m\u001b[1;38;5;88m1\u001b[0m\u001b[1;38;2;140;140;140m0\u001b[0m\u001b[1;38;5;88m1\u001b[0m\u001b[1;38;2;140;140;140m0\u001b[0m\u001b[1;38;2;140;140;140m0\u001b[0m\u001b[1;38;5;88m1\u001b[0m\u001b[1;38;2;140;140;140m0\u001b[0m\u001b[1;38;5;88m1\u001b[0m\u001b[1;38;5;88m1\u001b[0m\u001b[1;38;5;88m1\u001b[0m\n",
       "\u001b[1;38;2;140;140;140m0\u001b[0m\u001b[1;38;2;140;140;140m0\u001b[0m\u001b[1;38;2;140;140;140m0\u001b[0m\u001b[1;38;2;140;140;140m0\u001b[0m\u001b[1;38;2;140;140;140m0\u001b[0m\u001b[1;38;2;140;140;140m0\u001b[0m\u001b[1;38;2;140;140;140m0\u001b[0m\u001b[1;38;2;140;140;140m0\u001b[0m\u001b[1;38;2;140;140;140m0\u001b[0m\u001b[1;38;2;140;140;140m0\u001b[0m\u001b[1;38;2;140;140;140m0\u001b[0m\n",
       "\u001b[1;38;2;140;140;140m0\u001b[0m\u001b[1;38;2;140;140;140m0\u001b[0m\u001b[1;38;2;140;140;140m0\u001b[0m\u001b[1;38;2;140;140;140m0\u001b[0m\u001b[1;38;2;140;140;140m0\u001b[0m\u001b[1;38;2;140;140;140m0\u001b[0m\u001b[1;38;2;140;140;140m0\u001b[0m\u001b[1;38;2;140;140;140m0\u001b[0m\u001b[1;38;2;140;140;140m0\u001b[0m\u001b[1;38;2;140;140;140m0\u001b[0m\u001b[1;38;2;140;140;140m0\u001b[0m\n",
       "\n"
      ]
     },
     "metadata": {},
     "output_type": "display_data"
    }
   ],
   "source": [
    "# fold once\n",
    "s.fold(axis, position)\n",
    "s.color_grid(match=1)"
   ]
  },
  {
   "cell_type": "code",
   "execution_count": 4,
   "id": "b3966467",
   "metadata": {},
   "outputs": [
    {
     "data": {
      "text/plain": [
       "678"
      ]
     },
     "execution_count": 4,
     "metadata": {},
     "output_type": "execute_result"
    }
   ],
   "source": [
    "# Part 1: 678\n",
    "s = sheet(\"input_files/day13.txt\")\n",
    "s.fold(*s.instructions[0])\n",
    "np.sum(s.paper>0)"
   ]
  },
  {
   "cell_type": "code",
   "execution_count": 5,
   "id": "869cdb61",
   "metadata": {},
   "outputs": [
    {
     "data": {
      "text/html": [
       "<pre style=\"white-space:pre;overflow-x:auto;line-height:normal;font-family:Menlo,'DejaVu Sans Mono',consolas,'Courier New',monospace\"><span style=\"color: #034005; text-decoration-color: #034005\">████</span><span style=\"color: #8c8c8c; text-decoration-color: #8c8c8c\">  </span><span style=\"color: #034005; text-decoration-color: #034005\">██</span><span style=\"color: #8c8c8c; text-decoration-color: #8c8c8c\">  </span><span style=\"color: #034005; text-decoration-color: #034005\">████</span><span style=\"color: #8c8c8c; text-decoration-color: #8c8c8c\"> </span><span style=\"color: #034005; text-decoration-color: #034005\">█</span><span style=\"color: #8c8c8c; text-decoration-color: #8c8c8c\">  </span><span style=\"color: #034005; text-decoration-color: #034005\">█</span><span style=\"color: #8c8c8c; text-decoration-color: #8c8c8c\"> </span><span style=\"color: #034005; text-decoration-color: #034005\">█</span><span style=\"color: #8c8c8c; text-decoration-color: #8c8c8c\">    </span><span style=\"color: #034005; text-decoration-color: #034005\">█</span><span style=\"color: #8c8c8c; text-decoration-color: #8c8c8c\">  </span><span style=\"color: #034005; text-decoration-color: #034005\">█</span><span style=\"color: #8c8c8c; text-decoration-color: #8c8c8c\"> </span><span style=\"color: #034005; text-decoration-color: #034005\">████</span><span style=\"color: #8c8c8c; text-decoration-color: #8c8c8c\"> </span><span style=\"color: #034005; text-decoration-color: #034005\">████</span><span style=\"color: #8c8c8c; text-decoration-color: #8c8c8c\"> </span>\n",
       "<span style=\"color: #034005; text-decoration-color: #034005\">█</span><span style=\"color: #8c8c8c; text-decoration-color: #8c8c8c\">    </span><span style=\"color: #034005; text-decoration-color: #034005\">█</span><span style=\"color: #8c8c8c; text-decoration-color: #8c8c8c\">  </span><span style=\"color: #034005; text-decoration-color: #034005\">█</span><span style=\"color: #8c8c8c; text-decoration-color: #8c8c8c\"> </span><span style=\"color: #034005; text-decoration-color: #034005\">█</span><span style=\"color: #8c8c8c; text-decoration-color: #8c8c8c\">    </span><span style=\"color: #034005; text-decoration-color: #034005\">█</span><span style=\"color: #8c8c8c; text-decoration-color: #8c8c8c\">  </span><span style=\"color: #034005; text-decoration-color: #034005\">█</span><span style=\"color: #8c8c8c; text-decoration-color: #8c8c8c\"> </span><span style=\"color: #034005; text-decoration-color: #034005\">█</span><span style=\"color: #8c8c8c; text-decoration-color: #8c8c8c\">    </span><span style=\"color: #034005; text-decoration-color: #034005\">█</span><span style=\"color: #8c8c8c; text-decoration-color: #8c8c8c\">  </span><span style=\"color: #034005; text-decoration-color: #034005\">█</span><span style=\"color: #8c8c8c; text-decoration-color: #8c8c8c\">    </span><span style=\"color: #034005; text-decoration-color: #034005\">█</span><span style=\"color: #8c8c8c; text-decoration-color: #8c8c8c\"> </span><span style=\"color: #034005; text-decoration-color: #034005\">█</span><span style=\"color: #8c8c8c; text-decoration-color: #8c8c8c\">    </span>\n",
       "<span style=\"color: #034005; text-decoration-color: #034005\">███</span><span style=\"color: #8c8c8c; text-decoration-color: #8c8c8c\">  </span><span style=\"color: #034005; text-decoration-color: #034005\">█</span><span style=\"color: #8c8c8c; text-decoration-color: #8c8c8c\">    </span><span style=\"color: #034005; text-decoration-color: #034005\">███</span><span style=\"color: #8c8c8c; text-decoration-color: #8c8c8c\">  </span><span style=\"color: #034005; text-decoration-color: #034005\">████</span><span style=\"color: #8c8c8c; text-decoration-color: #8c8c8c\"> </span><span style=\"color: #034005; text-decoration-color: #034005\">█</span><span style=\"color: #8c8c8c; text-decoration-color: #8c8c8c\">    </span><span style=\"color: #034005; text-decoration-color: #034005\">████</span><span style=\"color: #8c8c8c; text-decoration-color: #8c8c8c\">   </span><span style=\"color: #034005; text-decoration-color: #034005\">█</span><span style=\"color: #8c8c8c; text-decoration-color: #8c8c8c\">  </span><span style=\"color: #034005; text-decoration-color: #034005\">███</span><span style=\"color: #8c8c8c; text-decoration-color: #8c8c8c\">  </span>\n",
       "<span style=\"color: #034005; text-decoration-color: #034005\">█</span><span style=\"color: #8c8c8c; text-decoration-color: #8c8c8c\">    </span><span style=\"color: #034005; text-decoration-color: #034005\">█</span><span style=\"color: #8c8c8c; text-decoration-color: #8c8c8c\">    </span><span style=\"color: #034005; text-decoration-color: #034005\">█</span><span style=\"color: #8c8c8c; text-decoration-color: #8c8c8c\">    </span><span style=\"color: #034005; text-decoration-color: #034005\">█</span><span style=\"color: #8c8c8c; text-decoration-color: #8c8c8c\">  </span><span style=\"color: #034005; text-decoration-color: #034005\">█</span><span style=\"color: #8c8c8c; text-decoration-color: #8c8c8c\"> </span><span style=\"color: #034005; text-decoration-color: #034005\">█</span><span style=\"color: #8c8c8c; text-decoration-color: #8c8c8c\">    </span><span style=\"color: #034005; text-decoration-color: #034005\">█</span><span style=\"color: #8c8c8c; text-decoration-color: #8c8c8c\">  </span><span style=\"color: #034005; text-decoration-color: #034005\">█</span><span style=\"color: #8c8c8c; text-decoration-color: #8c8c8c\">  </span><span style=\"color: #034005; text-decoration-color: #034005\">█</span><span style=\"color: #8c8c8c; text-decoration-color: #8c8c8c\">   </span><span style=\"color: #034005; text-decoration-color: #034005\">█</span><span style=\"color: #8c8c8c; text-decoration-color: #8c8c8c\">    </span>\n",
       "<span style=\"color: #034005; text-decoration-color: #034005\">█</span><span style=\"color: #8c8c8c; text-decoration-color: #8c8c8c\">    </span><span style=\"color: #034005; text-decoration-color: #034005\">█</span><span style=\"color: #8c8c8c; text-decoration-color: #8c8c8c\">  </span><span style=\"color: #034005; text-decoration-color: #034005\">█</span><span style=\"color: #8c8c8c; text-decoration-color: #8c8c8c\"> </span><span style=\"color: #034005; text-decoration-color: #034005\">█</span><span style=\"color: #8c8c8c; text-decoration-color: #8c8c8c\">    </span><span style=\"color: #034005; text-decoration-color: #034005\">█</span><span style=\"color: #8c8c8c; text-decoration-color: #8c8c8c\">  </span><span style=\"color: #034005; text-decoration-color: #034005\">█</span><span style=\"color: #8c8c8c; text-decoration-color: #8c8c8c\"> </span><span style=\"color: #034005; text-decoration-color: #034005\">█</span><span style=\"color: #8c8c8c; text-decoration-color: #8c8c8c\">    </span><span style=\"color: #034005; text-decoration-color: #034005\">█</span><span style=\"color: #8c8c8c; text-decoration-color: #8c8c8c\">  </span><span style=\"color: #034005; text-decoration-color: #034005\">█</span><span style=\"color: #8c8c8c; text-decoration-color: #8c8c8c\"> </span><span style=\"color: #034005; text-decoration-color: #034005\">█</span><span style=\"color: #8c8c8c; text-decoration-color: #8c8c8c\">    </span><span style=\"color: #034005; text-decoration-color: #034005\">█</span><span style=\"color: #8c8c8c; text-decoration-color: #8c8c8c\">    </span>\n",
       "<span style=\"color: #034005; text-decoration-color: #034005\">████</span><span style=\"color: #8c8c8c; text-decoration-color: #8c8c8c\">  </span><span style=\"color: #034005; text-decoration-color: #034005\">██</span><span style=\"color: #8c8c8c; text-decoration-color: #8c8c8c\">  </span><span style=\"color: #034005; text-decoration-color: #034005\">█</span><span style=\"color: #8c8c8c; text-decoration-color: #8c8c8c\">    </span><span style=\"color: #034005; text-decoration-color: #034005\">█</span><span style=\"color: #8c8c8c; text-decoration-color: #8c8c8c\">  </span><span style=\"color: #034005; text-decoration-color: #034005\">█</span><span style=\"color: #8c8c8c; text-decoration-color: #8c8c8c\"> </span><span style=\"color: #034005; text-decoration-color: #034005\">████</span><span style=\"color: #8c8c8c; text-decoration-color: #8c8c8c\"> </span><span style=\"color: #034005; text-decoration-color: #034005\">█</span><span style=\"color: #8c8c8c; text-decoration-color: #8c8c8c\">  </span><span style=\"color: #034005; text-decoration-color: #034005\">█</span><span style=\"color: #8c8c8c; text-decoration-color: #8c8c8c\"> </span><span style=\"color: #034005; text-decoration-color: #034005\">████</span><span style=\"color: #8c8c8c; text-decoration-color: #8c8c8c\"> </span><span style=\"color: #034005; text-decoration-color: #034005\">█</span><span style=\"color: #8c8c8c; text-decoration-color: #8c8c8c\">    </span>\n",
       "\n",
       "</pre>\n"
      ],
      "text/plain": [
       "\u001b[38;2;3;64;5m█\u001b[0m\u001b[38;2;3;64;5m█\u001b[0m\u001b[38;2;3;64;5m█\u001b[0m\u001b[38;2;3;64;5m█\u001b[0m\u001b[38;2;140;140;140m \u001b[0m\u001b[38;2;140;140;140m \u001b[0m\u001b[38;2;3;64;5m█\u001b[0m\u001b[38;2;3;64;5m█\u001b[0m\u001b[38;2;140;140;140m \u001b[0m\u001b[38;2;140;140;140m \u001b[0m\u001b[38;2;3;64;5m█\u001b[0m\u001b[38;2;3;64;5m█\u001b[0m\u001b[38;2;3;64;5m█\u001b[0m\u001b[38;2;3;64;5m█\u001b[0m\u001b[38;2;140;140;140m \u001b[0m\u001b[38;2;3;64;5m█\u001b[0m\u001b[38;2;140;140;140m \u001b[0m\u001b[38;2;140;140;140m \u001b[0m\u001b[38;2;3;64;5m█\u001b[0m\u001b[38;2;140;140;140m \u001b[0m\u001b[38;2;3;64;5m█\u001b[0m\u001b[38;2;140;140;140m \u001b[0m\u001b[38;2;140;140;140m \u001b[0m\u001b[38;2;140;140;140m \u001b[0m\u001b[38;2;140;140;140m \u001b[0m\u001b[38;2;3;64;5m█\u001b[0m\u001b[38;2;140;140;140m \u001b[0m\u001b[38;2;140;140;140m \u001b[0m\u001b[38;2;3;64;5m█\u001b[0m\u001b[38;2;140;140;140m \u001b[0m\u001b[38;2;3;64;5m█\u001b[0m\u001b[38;2;3;64;5m█\u001b[0m\u001b[38;2;3;64;5m█\u001b[0m\u001b[38;2;3;64;5m█\u001b[0m\u001b[38;2;140;140;140m \u001b[0m\u001b[38;2;3;64;5m█\u001b[0m\u001b[38;2;3;64;5m█\u001b[0m\u001b[38;2;3;64;5m█\u001b[0m\u001b[38;2;3;64;5m█\u001b[0m\u001b[38;2;140;140;140m \u001b[0m\n",
       "\u001b[38;2;3;64;5m█\u001b[0m\u001b[38;2;140;140;140m \u001b[0m\u001b[38;2;140;140;140m \u001b[0m\u001b[38;2;140;140;140m \u001b[0m\u001b[38;2;140;140;140m \u001b[0m\u001b[38;2;3;64;5m█\u001b[0m\u001b[38;2;140;140;140m \u001b[0m\u001b[38;2;140;140;140m \u001b[0m\u001b[38;2;3;64;5m█\u001b[0m\u001b[38;2;140;140;140m \u001b[0m\u001b[38;2;3;64;5m█\u001b[0m\u001b[38;2;140;140;140m \u001b[0m\u001b[38;2;140;140;140m \u001b[0m\u001b[38;2;140;140;140m \u001b[0m\u001b[38;2;140;140;140m \u001b[0m\u001b[38;2;3;64;5m█\u001b[0m\u001b[38;2;140;140;140m \u001b[0m\u001b[38;2;140;140;140m \u001b[0m\u001b[38;2;3;64;5m█\u001b[0m\u001b[38;2;140;140;140m \u001b[0m\u001b[38;2;3;64;5m█\u001b[0m\u001b[38;2;140;140;140m \u001b[0m\u001b[38;2;140;140;140m \u001b[0m\u001b[38;2;140;140;140m \u001b[0m\u001b[38;2;140;140;140m \u001b[0m\u001b[38;2;3;64;5m█\u001b[0m\u001b[38;2;140;140;140m \u001b[0m\u001b[38;2;140;140;140m \u001b[0m\u001b[38;2;3;64;5m█\u001b[0m\u001b[38;2;140;140;140m \u001b[0m\u001b[38;2;140;140;140m \u001b[0m\u001b[38;2;140;140;140m \u001b[0m\u001b[38;2;140;140;140m \u001b[0m\u001b[38;2;3;64;5m█\u001b[0m\u001b[38;2;140;140;140m \u001b[0m\u001b[38;2;3;64;5m█\u001b[0m\u001b[38;2;140;140;140m \u001b[0m\u001b[38;2;140;140;140m \u001b[0m\u001b[38;2;140;140;140m \u001b[0m\u001b[38;2;140;140;140m \u001b[0m\n",
       "\u001b[38;2;3;64;5m█\u001b[0m\u001b[38;2;3;64;5m█\u001b[0m\u001b[38;2;3;64;5m█\u001b[0m\u001b[38;2;140;140;140m \u001b[0m\u001b[38;2;140;140;140m \u001b[0m\u001b[38;2;3;64;5m█\u001b[0m\u001b[38;2;140;140;140m \u001b[0m\u001b[38;2;140;140;140m \u001b[0m\u001b[38;2;140;140;140m \u001b[0m\u001b[38;2;140;140;140m \u001b[0m\u001b[38;2;3;64;5m█\u001b[0m\u001b[38;2;3;64;5m█\u001b[0m\u001b[38;2;3;64;5m█\u001b[0m\u001b[38;2;140;140;140m \u001b[0m\u001b[38;2;140;140;140m \u001b[0m\u001b[38;2;3;64;5m█\u001b[0m\u001b[38;2;3;64;5m█\u001b[0m\u001b[38;2;3;64;5m█\u001b[0m\u001b[38;2;3;64;5m█\u001b[0m\u001b[38;2;140;140;140m \u001b[0m\u001b[38;2;3;64;5m█\u001b[0m\u001b[38;2;140;140;140m \u001b[0m\u001b[38;2;140;140;140m \u001b[0m\u001b[38;2;140;140;140m \u001b[0m\u001b[38;2;140;140;140m \u001b[0m\u001b[38;2;3;64;5m█\u001b[0m\u001b[38;2;3;64;5m█\u001b[0m\u001b[38;2;3;64;5m█\u001b[0m\u001b[38;2;3;64;5m█\u001b[0m\u001b[38;2;140;140;140m \u001b[0m\u001b[38;2;140;140;140m \u001b[0m\u001b[38;2;140;140;140m \u001b[0m\u001b[38;2;3;64;5m█\u001b[0m\u001b[38;2;140;140;140m \u001b[0m\u001b[38;2;140;140;140m \u001b[0m\u001b[38;2;3;64;5m█\u001b[0m\u001b[38;2;3;64;5m█\u001b[0m\u001b[38;2;3;64;5m█\u001b[0m\u001b[38;2;140;140;140m \u001b[0m\u001b[38;2;140;140;140m \u001b[0m\n",
       "\u001b[38;2;3;64;5m█\u001b[0m\u001b[38;2;140;140;140m \u001b[0m\u001b[38;2;140;140;140m \u001b[0m\u001b[38;2;140;140;140m \u001b[0m\u001b[38;2;140;140;140m \u001b[0m\u001b[38;2;3;64;5m█\u001b[0m\u001b[38;2;140;140;140m \u001b[0m\u001b[38;2;140;140;140m \u001b[0m\u001b[38;2;140;140;140m \u001b[0m\u001b[38;2;140;140;140m \u001b[0m\u001b[38;2;3;64;5m█\u001b[0m\u001b[38;2;140;140;140m \u001b[0m\u001b[38;2;140;140;140m \u001b[0m\u001b[38;2;140;140;140m \u001b[0m\u001b[38;2;140;140;140m \u001b[0m\u001b[38;2;3;64;5m█\u001b[0m\u001b[38;2;140;140;140m \u001b[0m\u001b[38;2;140;140;140m \u001b[0m\u001b[38;2;3;64;5m█\u001b[0m\u001b[38;2;140;140;140m \u001b[0m\u001b[38;2;3;64;5m█\u001b[0m\u001b[38;2;140;140;140m \u001b[0m\u001b[38;2;140;140;140m \u001b[0m\u001b[38;2;140;140;140m \u001b[0m\u001b[38;2;140;140;140m \u001b[0m\u001b[38;2;3;64;5m█\u001b[0m\u001b[38;2;140;140;140m \u001b[0m\u001b[38;2;140;140;140m \u001b[0m\u001b[38;2;3;64;5m█\u001b[0m\u001b[38;2;140;140;140m \u001b[0m\u001b[38;2;140;140;140m \u001b[0m\u001b[38;2;3;64;5m█\u001b[0m\u001b[38;2;140;140;140m \u001b[0m\u001b[38;2;140;140;140m \u001b[0m\u001b[38;2;140;140;140m \u001b[0m\u001b[38;2;3;64;5m█\u001b[0m\u001b[38;2;140;140;140m \u001b[0m\u001b[38;2;140;140;140m \u001b[0m\u001b[38;2;140;140;140m \u001b[0m\u001b[38;2;140;140;140m \u001b[0m\n",
       "\u001b[38;2;3;64;5m█\u001b[0m\u001b[38;2;140;140;140m \u001b[0m\u001b[38;2;140;140;140m \u001b[0m\u001b[38;2;140;140;140m \u001b[0m\u001b[38;2;140;140;140m \u001b[0m\u001b[38;2;3;64;5m█\u001b[0m\u001b[38;2;140;140;140m \u001b[0m\u001b[38;2;140;140;140m \u001b[0m\u001b[38;2;3;64;5m█\u001b[0m\u001b[38;2;140;140;140m \u001b[0m\u001b[38;2;3;64;5m█\u001b[0m\u001b[38;2;140;140;140m \u001b[0m\u001b[38;2;140;140;140m \u001b[0m\u001b[38;2;140;140;140m \u001b[0m\u001b[38;2;140;140;140m \u001b[0m\u001b[38;2;3;64;5m█\u001b[0m\u001b[38;2;140;140;140m \u001b[0m\u001b[38;2;140;140;140m \u001b[0m\u001b[38;2;3;64;5m█\u001b[0m\u001b[38;2;140;140;140m \u001b[0m\u001b[38;2;3;64;5m█\u001b[0m\u001b[38;2;140;140;140m \u001b[0m\u001b[38;2;140;140;140m \u001b[0m\u001b[38;2;140;140;140m \u001b[0m\u001b[38;2;140;140;140m \u001b[0m\u001b[38;2;3;64;5m█\u001b[0m\u001b[38;2;140;140;140m \u001b[0m\u001b[38;2;140;140;140m \u001b[0m\u001b[38;2;3;64;5m█\u001b[0m\u001b[38;2;140;140;140m \u001b[0m\u001b[38;2;3;64;5m█\u001b[0m\u001b[38;2;140;140;140m \u001b[0m\u001b[38;2;140;140;140m \u001b[0m\u001b[38;2;140;140;140m \u001b[0m\u001b[38;2;140;140;140m \u001b[0m\u001b[38;2;3;64;5m█\u001b[0m\u001b[38;2;140;140;140m \u001b[0m\u001b[38;2;140;140;140m \u001b[0m\u001b[38;2;140;140;140m \u001b[0m\u001b[38;2;140;140;140m \u001b[0m\n",
       "\u001b[38;2;3;64;5m█\u001b[0m\u001b[38;2;3;64;5m█\u001b[0m\u001b[38;2;3;64;5m█\u001b[0m\u001b[38;2;3;64;5m█\u001b[0m\u001b[38;2;140;140;140m \u001b[0m\u001b[38;2;140;140;140m \u001b[0m\u001b[38;2;3;64;5m█\u001b[0m\u001b[38;2;3;64;5m█\u001b[0m\u001b[38;2;140;140;140m \u001b[0m\u001b[38;2;140;140;140m \u001b[0m\u001b[38;2;3;64;5m█\u001b[0m\u001b[38;2;140;140;140m \u001b[0m\u001b[38;2;140;140;140m \u001b[0m\u001b[38;2;140;140;140m \u001b[0m\u001b[38;2;140;140;140m \u001b[0m\u001b[38;2;3;64;5m█\u001b[0m\u001b[38;2;140;140;140m \u001b[0m\u001b[38;2;140;140;140m \u001b[0m\u001b[38;2;3;64;5m█\u001b[0m\u001b[38;2;140;140;140m \u001b[0m\u001b[38;2;3;64;5m█\u001b[0m\u001b[38;2;3;64;5m█\u001b[0m\u001b[38;2;3;64;5m█\u001b[0m\u001b[38;2;3;64;5m█\u001b[0m\u001b[38;2;140;140;140m \u001b[0m\u001b[38;2;3;64;5m█\u001b[0m\u001b[38;2;140;140;140m \u001b[0m\u001b[38;2;140;140;140m \u001b[0m\u001b[38;2;3;64;5m█\u001b[0m\u001b[38;2;140;140;140m \u001b[0m\u001b[38;2;3;64;5m█\u001b[0m\u001b[38;2;3;64;5m█\u001b[0m\u001b[38;2;3;64;5m█\u001b[0m\u001b[38;2;3;64;5m█\u001b[0m\u001b[38;2;140;140;140m \u001b[0m\u001b[38;2;3;64;5m█\u001b[0m\u001b[38;2;140;140;140m \u001b[0m\u001b[38;2;140;140;140m \u001b[0m\u001b[38;2;140;140;140m \u001b[0m\u001b[38;2;140;140;140m \u001b[0m\n",
       "\n"
      ]
     },
     "metadata": {},
     "output_type": "display_data"
    }
   ],
   "source": [
    "# Part 2: ECFHLHZF\n",
    "s = sheet(\"input_files/day13.txt\")\n",
    "for axis, position in s.instructions:\n",
    "    s.fold(axis, position)\n",
    "s.color_grid(match=1, printas=\" \\u2588\", highlight_color=\"#034005\")"
   ]
  },
  {
   "cell_type": "code",
   "execution_count": null,
   "id": "c2a46680",
   "metadata": {},
   "outputs": [],
   "source": []
  },
  {
   "cell_type": "code",
   "execution_count": null,
   "id": "392eb381",
   "metadata": {},
   "outputs": [],
   "source": []
  }
 ],
 "metadata": {
  "kernelspec": {
   "display_name": "Python 3 (ipykernel)",
   "language": "python",
   "name": "python3"
  },
  "language_info": {
   "codemirror_mode": {
    "name": "ipython",
    "version": 3
   },
   "file_extension": ".py",
   "mimetype": "text/x-python",
   "name": "python",
   "nbconvert_exporter": "python",
   "pygments_lexer": "ipython3",
   "version": "3.9.7"
  }
 },
 "nbformat": 4,
 "nbformat_minor": 5
}
