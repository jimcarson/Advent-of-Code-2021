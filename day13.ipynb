{
 "cells": [
  {
   "cell_type": "code",
   "execution_count": 1,
   "id": "fe758c29",
   "metadata": {},
   "outputs": [],
   "source": [
    "# Advent of Code, Transparent Origami Day 13 - Jim Carson. \n",
    "# Rewrote to use numpy arrays (Thanks, Janet for showing me that!),\n",
    "# debugging output colorized from day 11 code\n",
    "#\n",
    "# This is excessively long\n",
    "# \n",
    "\n",
    "import numpy as np\n",
    "\n",
    "DEBUG = False\n",
    "\n",
    "# This block is used to pretty-print the matrices we're debugging.  \n",
    "# See ANSI codes https://jupyterbook.org/content/code-outputs.html\n",
    "fgcolor = \"1;31\" # Red foreground text\n",
    "formatstring = \"\\x1b[1;31m{0:>1}\\x1b[m\"\n",
    "\n",
    "class sheet:\n",
    "    def __init__(self, filename):\n",
    "        # Read file\n",
    "        with open(filename,\"r\") as fp:\n",
    "            f = fp.read()\n",
    "        # Split input file by blank line.\n",
    "        coords, instr = f.split(\"\\n\\n\")\n",
    "        # Create data structures to read\n",
    "        self.coordinates = []\n",
    "        self.instructions = []\n",
    "        self.first_instructions = []\n",
    "        # Add coordinates to list\n",
    "        for i in coords.splitlines():\n",
    "            x,y = map(int, i.split(\",\"))\n",
    "            self.coordinates.append((x,y))      \n",
    "        self.max_x = max([x for x,y in self.coordinates])\n",
    "        self.max_y = max([y for x,y in self.coordinates])\n",
    "        if DEBUG:\n",
    "            print(self.max_x, self.max_y)\n",
    "        # Create the paper\n",
    "        self.paper = np.zeros((self.max_x + 1, self.max_y + 1), dtype=int)\n",
    "        # Color in the \"dots\"\n",
    "        for i in self.coordinates:\n",
    "            self.paper[i] = 1\n",
    "        # Add the list of folding instructions\n",
    "        for i in instr.splitlines():\n",
    "            axis, position = i.replace(\"fold along \",\"\").split(\"=\")\n",
    "            if DEBUG:\n",
    "                print(axis, position)\n",
    "            self.instructions.append((axis,int(position)))\n",
    "            if not self.first_instructions:\n",
    "                self.first_instructions.append((axis, position))\n",
    "    \n",
    "    # Since we have a numpy array, we can slice it, flip it, and do a logical or\n",
    "    def fold(self, axis, position, DEBUG=DEBUG):\n",
    "        if axis == 'y':\n",
    "            top = self.paper[:, 0:position]\n",
    "            bottom =  np.flip(self.paper[:, position + 1 :], axis=1)\n",
    "            self.paper = top | bottom\n",
    "        else:\n",
    "            left = self.paper[0:position, :]\n",
    "            right = np.flip(self.paper[position + 1 :, :], axis=0)\n",
    "            self.paper = left | right\n",
    "        if DEBUG:\n",
    "            self.color_grid(match=1)\n",
    "\n",
    "    # output a colorized grid.\n",
    "    def color_grid(self, **kwargs):\n",
    "        x_value_highlight = kwargs.pop('x', None)\n",
    "        y_value_highlight = kwargs.pop('y', None)\n",
    "        match_arg = kwargs.pop(\"match\", None)\n",
    "        printas = kwargs.pop(\"printas\", \"01\")\n",
    "        \n",
    "        for j in range(self.paper.shape[1]):\n",
    "            line = \"\"\n",
    "            for i in range(self.paper.shape[0]):         \n",
    "                if i == x_value_highlight or j == y_value_highlight or match_arg == self.paper[i,j]:\n",
    "                    line = line + (formatstring.format(str(printas[self.paper[i,j]])))\n",
    "                else:\n",
    "                    line = line + (\"{0:>1}\".format(str(printas[self.paper[i,j]])))\n",
    "            print(line)\n",
    "        \n",
    "    def print(self):\n",
    "        dot = \".*\"\n",
    "        print(\"\\n\".join(\"\".join([dot[i] for i in line]) for line in self.paper.T))\n"
   ]
  },
  {
   "cell_type": "code",
   "execution_count": 2,
   "id": "d3386ce6",
   "metadata": {},
   "outputs": [
    {
     "name": "stdout",
     "output_type": "stream",
     "text": [
      "000\u001b[1;31m1\u001b[m00\u001b[1;31m1\u001b[m00\u001b[1;31m1\u001b[m0\n",
      "0000\u001b[1;31m1\u001b[m000000\n",
      "00000000000\n",
      "\u001b[1;31m1\u001b[m0000000000\n",
      "000\u001b[1;31m1\u001b[m0000\u001b[1;31m1\u001b[m0\u001b[1;31m1\u001b[m\n",
      "00000000000\n",
      "00000000000\n",
      "\u001b[1;31m0\u001b[m\u001b[1;31m0\u001b[m\u001b[1;31m0\u001b[m\u001b[1;31m0\u001b[m\u001b[1;31m0\u001b[m\u001b[1;31m0\u001b[m\u001b[1;31m0\u001b[m\u001b[1;31m0\u001b[m\u001b[1;31m0\u001b[m\u001b[1;31m0\u001b[m\u001b[1;31m0\u001b[m\n",
      "00000000000\n",
      "00000000000\n",
      "0\u001b[1;31m1\u001b[m0000\u001b[1;31m1\u001b[m0\u001b[1;31m1\u001b[m\u001b[1;31m1\u001b[m0\n",
      "0000\u001b[1;31m1\u001b[m000000\n",
      "000000\u001b[1;31m1\u001b[m000\u001b[1;31m1\u001b[m\n",
      "\u001b[1;31m1\u001b[m0000000000\n",
      "\u001b[1;31m1\u001b[m0\u001b[1;31m1\u001b[m00000000\n"
     ]
    }
   ],
   "source": [
    "# Test example, showing colorization\n",
    "s = sheet(\"input_files/day13.test.txt\")\n",
    "(axis, position) = s.instructions[0]\n",
    "s.color_grid(match=1, y=position)"
   ]
  },
  {
   "cell_type": "code",
   "execution_count": 3,
   "id": "25f4253f",
   "metadata": {},
   "outputs": [
    {
     "name": "stdout",
     "output_type": "stream",
     "text": [
      "\u001b[1;31m1\u001b[m0\u001b[1;31m1\u001b[m\u001b[1;31m1\u001b[m00\u001b[1;31m1\u001b[m00\u001b[1;31m1\u001b[m0\n",
      "\u001b[1;31m1\u001b[m000\u001b[1;31m1\u001b[m000000\n",
      "000000\u001b[1;31m1\u001b[m000\u001b[1;31m1\u001b[m\n",
      "\u001b[1;31m1\u001b[m000\u001b[1;31m1\u001b[m000000\n",
      "0\u001b[1;31m1\u001b[m0\u001b[1;31m1\u001b[m00\u001b[1;31m1\u001b[m0\u001b[1;31m1\u001b[m\u001b[1;31m1\u001b[m\u001b[1;31m1\u001b[m\n",
      "00000000000\n",
      "00000000000\n"
     ]
    }
   ],
   "source": [
    "# fold once\n",
    "s.fold(axis, position)\n",
    "s.color_grid(match=1)"
   ]
  },
  {
   "cell_type": "code",
   "execution_count": 4,
   "id": "b3966467",
   "metadata": {},
   "outputs": [
    {
     "data": {
      "text/plain": [
       "678"
      ]
     },
     "execution_count": 4,
     "metadata": {},
     "output_type": "execute_result"
    }
   ],
   "source": [
    "# Part 1: 678\n",
    "s = sheet(\"input_files/day13.txt\")\n",
    "s.fold(*s.instructions[0])\n",
    "np.sum(s.paper>0)"
   ]
  },
  {
   "cell_type": "code",
   "execution_count": 5,
   "id": "869cdb61",
   "metadata": {},
   "outputs": [
    {
     "name": "stdout",
     "output_type": "stream",
     "text": [
      "\u001b[1;31m#\u001b[m\u001b[1;31m#\u001b[m\u001b[1;31m#\u001b[m\u001b[1;31m#\u001b[m  \u001b[1;31m#\u001b[m\u001b[1;31m#\u001b[m  \u001b[1;31m#\u001b[m\u001b[1;31m#\u001b[m\u001b[1;31m#\u001b[m\u001b[1;31m#\u001b[m \u001b[1;31m#\u001b[m  \u001b[1;31m#\u001b[m \u001b[1;31m#\u001b[m    \u001b[1;31m#\u001b[m  \u001b[1;31m#\u001b[m \u001b[1;31m#\u001b[m\u001b[1;31m#\u001b[m\u001b[1;31m#\u001b[m\u001b[1;31m#\u001b[m \u001b[1;31m#\u001b[m\u001b[1;31m#\u001b[m\u001b[1;31m#\u001b[m\u001b[1;31m#\u001b[m \n",
      "\u001b[1;31m#\u001b[m    \u001b[1;31m#\u001b[m  \u001b[1;31m#\u001b[m \u001b[1;31m#\u001b[m    \u001b[1;31m#\u001b[m  \u001b[1;31m#\u001b[m \u001b[1;31m#\u001b[m    \u001b[1;31m#\u001b[m  \u001b[1;31m#\u001b[m    \u001b[1;31m#\u001b[m \u001b[1;31m#\u001b[m    \n",
      "\u001b[1;31m#\u001b[m\u001b[1;31m#\u001b[m\u001b[1;31m#\u001b[m  \u001b[1;31m#\u001b[m    \u001b[1;31m#\u001b[m\u001b[1;31m#\u001b[m\u001b[1;31m#\u001b[m  \u001b[1;31m#\u001b[m\u001b[1;31m#\u001b[m\u001b[1;31m#\u001b[m\u001b[1;31m#\u001b[m \u001b[1;31m#\u001b[m    \u001b[1;31m#\u001b[m\u001b[1;31m#\u001b[m\u001b[1;31m#\u001b[m\u001b[1;31m#\u001b[m   \u001b[1;31m#\u001b[m  \u001b[1;31m#\u001b[m\u001b[1;31m#\u001b[m\u001b[1;31m#\u001b[m  \n",
      "\u001b[1;31m#\u001b[m    \u001b[1;31m#\u001b[m    \u001b[1;31m#\u001b[m    \u001b[1;31m#\u001b[m  \u001b[1;31m#\u001b[m \u001b[1;31m#\u001b[m    \u001b[1;31m#\u001b[m  \u001b[1;31m#\u001b[m  \u001b[1;31m#\u001b[m   \u001b[1;31m#\u001b[m    \n",
      "\u001b[1;31m#\u001b[m    \u001b[1;31m#\u001b[m  \u001b[1;31m#\u001b[m \u001b[1;31m#\u001b[m    \u001b[1;31m#\u001b[m  \u001b[1;31m#\u001b[m \u001b[1;31m#\u001b[m    \u001b[1;31m#\u001b[m  \u001b[1;31m#\u001b[m \u001b[1;31m#\u001b[m    \u001b[1;31m#\u001b[m    \n",
      "\u001b[1;31m#\u001b[m\u001b[1;31m#\u001b[m\u001b[1;31m#\u001b[m\u001b[1;31m#\u001b[m  \u001b[1;31m#\u001b[m\u001b[1;31m#\u001b[m  \u001b[1;31m#\u001b[m    \u001b[1;31m#\u001b[m  \u001b[1;31m#\u001b[m \u001b[1;31m#\u001b[m\u001b[1;31m#\u001b[m\u001b[1;31m#\u001b[m\u001b[1;31m#\u001b[m \u001b[1;31m#\u001b[m  \u001b[1;31m#\u001b[m \u001b[1;31m#\u001b[m\u001b[1;31m#\u001b[m\u001b[1;31m#\u001b[m\u001b[1;31m#\u001b[m \u001b[1;31m#\u001b[m    \n"
     ]
    }
   ],
   "source": [
    "# Part 2: ECFHLHZF\n",
    "s = sheet(\"input_files/day13.txt\")\n",
    "for axis, position in s.instructions:\n",
    "    s.fold(axis, position)\n",
    "s.color_grid(match=1, printas=\" #\")"
   ]
  },
  {
   "cell_type": "code",
   "execution_count": null,
   "id": "c1d09d3e",
   "metadata": {},
   "outputs": [],
   "source": []
  }
 ],
 "metadata": {
  "kernelspec": {
   "display_name": "Python 3 (ipykernel)",
   "language": "python",
   "name": "python3"
  },
  "language_info": {
   "codemirror_mode": {
    "name": "ipython",
    "version": 3
   },
   "file_extension": ".py",
   "mimetype": "text/x-python",
   "name": "python",
   "nbconvert_exporter": "python",
   "pygments_lexer": "ipython3",
   "version": "3.9.7"
  }
 },
 "nbformat": 4,
 "nbformat_minor": 5
}
