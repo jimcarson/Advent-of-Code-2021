{
 "cells": [
  {
   "cell_type": "code",
   "execution_count": 1,
   "id": "a1ef3566-72fd-435a-8136-a498c4b0508e",
   "metadata": {},
   "outputs": [],
   "source": [
    "import numpy as np\n",
    "BINGO = 0\n",
    "NUM_CALLED = 0\n",
    "DIAGONAL_ALLOWED = False"
   ]
  },
  {
   "cell_type": "code",
   "execution_count": 2,
   "id": "25f87386-d1f9-490a-a03b-dd23590bfabc",
   "metadata": {},
   "outputs": [],
   "source": [
    "def IsBingo(card):\n",
    "    for i in range (5):\n",
    "        row_bingo=np.sum(card[i:,])\n",
    "        col_bingo=np.sum(card[:,i])\n",
    "        if row_bingo == BINGO or col_bingo == BINGO:\n",
    "            return (True)\n",
    "    if DIAGONAL_ALLOWED:\n",
    "        diagonal_bingo=np.sum(np.diag(card))\n",
    "        diagonal1_bingo=np.sum(np.diag(np.fliplr(card)))\n",
    "        if  diagonal_bingo == BINGO or diagonal1_bingo == BINGO:\n",
    "            return(True)\n",
    "    return(False)"
   ]
  },
  {
   "cell_type": "code",
   "execution_count": 3,
   "id": "429ef570-428c-47e9-ba25-b9361a201211",
   "metadata": {},
   "outputs": [],
   "source": [
    "def s(l):\n",
    "    return [int(s) for s in l.split()]"
   ]
  },
  {
   "cell_type": "code",
   "execution_count": 4,
   "id": "87587dff-a1ab-484f-a363-d48e17d3c201",
   "metadata": {},
   "outputs": [],
   "source": [
    "def set_board(b,num):\n",
    "    for i in range(len(b)):\n",
    "        for j in range(len(b[i])):\n",
    "            if b[i][j] == num:\n",
    "                b[i][j] = NUM_CALLED\n",
    "                break"
   ]
  },
  {
   "cell_type": "code",
   "execution_count": 5,
   "id": "b88b5009-08f8-4ced-9f2d-811b725ec139",
   "metadata": {},
   "outputs": [],
   "source": [
    "def check_boards(b, ignored_boards=()):\n",
    "    for i in range(len(b)):\n",
    "        if i in ignored_boards:\n",
    "            continue\n",
    "        if IsBingo(b[i]):\n",
    "            return((np.sum(b[i])))\n",
    "    return -1"
   ]
  },
  {
   "cell_type": "code",
   "execution_count": 6,
   "id": "21d365e5-1175-43be-baf5-79163bb73828",
   "metadata": {},
   "outputs": [],
   "source": [
    "def reset_boards(l):\n",
    "    # Reset for exercise 2 where we find th elast board\n",
    "    boards = {}\n",
    "    boardcount = 0\n",
    "    for i in range(2,len(l),6):\n",
    "        boards[boardcount] = np.zeros((5,5))\n",
    "        for j in range(5):\n",
    "            boards[boardcount][j] = s(l[i+j])\n",
    "        boardcount = boardcount + 1\n",
    "    return(boards)"
   ]
  },
  {
   "cell_type": "code",
   "execution_count": 7,
   "id": "eccf46de-9d9e-41df-8a52-f981aed175c1",
   "metadata": {},
   "outputs": [],
   "source": [
    "file = \"day04.txt\"\n",
    "with open(file,\"r\") as fp:\n",
    "    tmp = fp.read()"
   ]
  },
  {
   "cell_type": "code",
   "execution_count": 8,
   "id": "03cc3c9c-6417-407c-8dad-378a385d0d9b",
   "metadata": {},
   "outputs": [],
   "source": [
    "l = tmp.split(\"\\n\")"
   ]
  },
  {
   "cell_type": "code",
   "execution_count": 9,
   "id": "05081c3f-45d1-4eb7-b96d-bc74053aa660",
   "metadata": {},
   "outputs": [],
   "source": [
    "sequence = [int(i) for i in l[0].split(\",\")]"
   ]
  },
  {
   "cell_type": "code",
   "execution_count": 10,
   "id": "370d710c-434a-4a23-aabc-0537738d58f1",
   "metadata": {},
   "outputs": [],
   "source": [
    "boards = reset_boards(l)"
   ]
  },
  {
   "cell_type": "code",
   "execution_count": 11,
   "id": "cc5a5825-7990-4781-a9a0-1fadc7f42a8a",
   "metadata": {},
   "outputs": [
    {
     "name": "stdout",
     "output_type": "stream",
     "text": [
      "Last number: 14, board # 51, board sum = 824\n",
      "Total = 11536\n"
     ]
    }
   ],
   "source": [
    "Done = False\n",
    "for i in sequence:\n",
    "    if Done:\n",
    "        break\n",
    "    for b in boards:\n",
    "        set_board(boards[b],i)\n",
    "        r = check_boards(boards)\n",
    "        if r >= 0:\n",
    "            print(\"Last number: %d, board # %d, board sum = %d\\nTotal = %d\"\n",
    "                      % (i, b, r, i*r))\n",
    "            # print(boards[b])\n",
    "            Done = True\n",
    "            break"
   ]
  },
  {
   "cell_type": "code",
   "execution_count": 12,
   "id": "f52041b2-0eaf-41d8-8254-95628eb368fe",
   "metadata": {},
   "outputs": [],
   "source": [
    "# Part 2\n",
    "boards = reset_boards(l)"
   ]
  },
  {
   "cell_type": "code",
   "execution_count": 13,
   "id": "f9872d9a-1479-423e-96b9-1753a0eb9e20",
   "metadata": {},
   "outputs": [
    {
     "name": "stdout",
     "output_type": "stream",
     "text": [
      "Last number: 6, board # 87, board sum = 214\n",
      "Total = 1284\n"
     ]
    }
   ],
   "source": [
    "winners = {}\n",
    "Done = False\n",
    "for i in sequence:\n",
    "    if Done:\n",
    "        continue\n",
    "    for b in boards:\n",
    "        if b in winners.keys():\n",
    "            continue\n",
    "        set_board(boards[b],i)\n",
    "        if IsBingo(boards[b]):\n",
    "            # Squid wins\n",
    "            winners[b] = i \n",
    "        if len(boards) - len(winners.keys()) <= 0:\n",
    "            print(\"Last number: %d, board # %d, board sum = %d\\nTotal = %d\"\n",
    "                      % (i, b, np.sum(boards[b]), i*np.sum(boards[b])))\n",
    "            # print(boards[b])\n",
    "            Done = True"
   ]
  },
  {
   "cell_type": "code",
   "execution_count": 26,
   "id": "82447d8f-78ce-40a5-ba30-8162deaf7e86",
   "metadata": {},
   "outputs": [
    {
     "name": "stdout",
     "output_type": "stream",
     "text": [
      "{51: 14, 96: 69, 2: 63, 6: 5, 25: 67, 35: 67, 68: 60, 40: 34, 60: 39, 69: 39, 32: 84, 94: 84, 34: 94, 79: 94, 44: 29, 64: 24, 47: 38, 57: 38, 92: 38, 98: 38, 30: 43, 18: 51, 54: 51, 84: 51, 50: 64, 14: 18, 81: 18, 5: 27, 53: 52, 67: 52, 76: 52, 28: 47, 52: 47, 9: 74, 15: 74, 55: 74, 82: 74, 38: 59, 63: 59, 22: 22, 71: 22, 10: 85, 90: 85, 41: 65, 56: 65, 74: 65, 78: 65, 85: 65, 86: 2, 75: 99, 88: 99, 77: 70, 93: 70, 0: 33, 91: 33, 8: 91, 45: 91, 73: 91, 80: 91, 23: 53, 33: 53, 46: 53, 7: 93, 20: 93, 3: 9, 21: 9, 39: 82, 65: 8, 66: 8, 72: 8, 12: 50, 48: 50, 49: 50, 19: 7, 24: 7, 29: 7, 13: 56, 31: 30, 95: 30, 16: 36, 27: 36, 36: 36, 42: 36, 70: 36, 1: 89, 58: 89, 62: 89, 61: 71, 97: 71, 59: 21, 89: 21, 26: 31, 83: 31, 4: 88, 11: 26, 37: 16, 17: 75, 43: 75, 99: 87, 87: 6}\n"
     ]
    }
   ],
   "source": [
    "print(winners)"
   ]
  },
  {
   "cell_type": "code",
   "execution_count": null,
   "id": "953ad05d-82f8-41b5-bb4b-2f9c0025639d",
   "metadata": {},
   "outputs": [],
   "source": []
  }
 ],
 "metadata": {
  "kernelspec": {
   "display_name": "Python 3 (ipykernel)",
   "language": "python",
   "name": "python3"
  },
  "language_info": {
   "codemirror_mode": {
    "name": "ipython",
    "version": 3
   },
   "file_extension": ".py",
   "mimetype": "text/x-python",
   "name": "python",
   "nbconvert_exporter": "python",
   "pygments_lexer": "ipython3",
   "version": "3.9.5"
  }
 },
 "nbformat": 4,
 "nbformat_minor": 5
}
