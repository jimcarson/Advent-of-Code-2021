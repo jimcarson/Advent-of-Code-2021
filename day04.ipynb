{
 "cells": [
  {
   "cell_type": "code",
   "execution_count": 1,
   "id": "6be406ea-661a-49d7-9536-4a04e01c9145",
   "metadata": {},
   "outputs": [],
   "source": [
    "# Advent of Code - after my previous solution, I wanted to set up a class. \n",
    "# Jim Carson 2021-12-04\n",
    "import numpy as np"
   ]
  },
  {
   "cell_type": "code",
   "execution_count": 2,
   "id": "a2ca28cf-4d55-4629-8462-d4014dd9bb86",
   "metadata": {},
   "outputs": [],
   "source": [
    "# \n",
    "# Structure of l:list of strings.   First line is a sequence of numbers to call.\n",
    "# Line 2: newline\n",
    "# After this, next five lines is a bingo board.  Subsequent boards are separated by a newline\n",
    "# Line 3-7 bingo board\n",
    "def reset_boards(l, skip=5, start_line = 2):\n",
    "    boards = []\n",
    "    boardcount = 0\n",
    "    for i in range(start_line,len(l),skip+1):\n",
    "        boards.append(BingoCard(l[i:i+skip],boardcount))\n",
    "        boardcount+= 1\n",
    "    return(boards)"
   ]
  },
  {
   "cell_type": "code",
   "execution_count": 3,
   "id": "953ad05d-82f8-41b5-bb4b-2f9c0025639d",
   "metadata": {},
   "outputs": [],
   "source": [
    "import numpy as np\n",
    "class BingoCard:\n",
    "    BINGO = 0\n",
    "    def __init__(self, v, i = 0):\n",
    "        self.board = np.array([i.split() for i in v]).astype(float)\n",
    "        self.boardsize = len(v)\n",
    "        self.bingo = False\n",
    "        self.diagonal_allowed = False\n",
    "        self.boardid = i\n",
    "        self.last_matched = np.nan\n",
    "        self.number_for_bingo = np.nan\n",
    "        pass\n",
    "\n",
    "    def called_number(self, v):\n",
    "        for i in range(self.boardsize):\n",
    "            for j in range(self.boardsize):\n",
    "                if self.board[i][j] == v:\n",
    "                    self.last_matched = v\n",
    "                    self.board[i][j] = np.nan\n",
    "                    self.IsBingo()\n",
    "                    if self.bingo:\n",
    "                        self.number_for_bingo = v\n",
    "                    return\n",
    "    \n",
    "    def IsBingo(self):\n",
    "        if 0 in [np.nansum(i) for i in self.board]:\n",
    "            self.bingo = True\n",
    "            return\n",
    "        if 0 in [np.nansum(i) for i in self.board.T]:\n",
    "            self.bingo = True\n",
    "            return\n",
    "        if self.diagonal_allowed:\n",
    "            diagonal_bingo=np.nansum(np.diag(self.board))\n",
    "            diagonal1_bingo=np.nansum(np.diag(np.fliplr(self.board)))\n",
    "            if diagonal_bingo == BINGO or diagonal1_bingo == BINGO:\n",
    "                self.bingo = True\n",
    "        return self.bingo\n",
    "    \n",
    "    def print_board(self):\n",
    "        print(\"Board ID %d\" %self.boardid)\n",
    "        print(\"\\tBingo?\\t%s\" % self.bingo)\n",
    "        print(\"\\tLast number matched:\\t%d\" % self.last_matched)\n",
    "        print(\"\\tNumber for the bingo:\\t%d\" % self.number_for_bingo)\n",
    "        print(\"\\tSum:\\t%d\" % np.nansum(self.board))\n",
    "        print(self.board)\n",
    "        return"
   ]
  },
  {
   "cell_type": "code",
   "execution_count": 4,
   "id": "429ef570-428c-47e9-ba25-b9361a201211",
   "metadata": {},
   "outputs": [],
   "source": [
    "# split the string into numbers.  The sequence is slightly different as it's separated by commas.\n",
    "def s(l, d=None):\n",
    "    return [int(s) for s in l.split(d)]"
   ]
  },
  {
   "cell_type": "code",
   "execution_count": 5,
   "id": "eccf46de-9d9e-41df-8a52-f981aed175c1",
   "metadata": {},
   "outputs": [],
   "source": [
    "file = \"day04.txt\"\n",
    "with open(file,\"r\") as fp:\n",
    "    tmp = fp.read()\n",
    "l = tmp.split(\"\\n\")\n",
    "sequence = s(l[0],',')"
   ]
  },
  {
   "cell_type": "code",
   "execution_count": 6,
   "id": "370d710c-434a-4a23-aabc-0537738d58f1",
   "metadata": {},
   "outputs": [],
   "source": [
    "boards = reset_boards(l)"
   ]
  },
  {
   "cell_type": "code",
   "execution_count": 7,
   "id": "cc5a5825-7990-4781-a9a0-1fadc7f42a8a",
   "metadata": {},
   "outputs": [
    {
     "name": "stdout",
     "output_type": "stream",
     "text": [
      "Answer is 11536.000000\n"
     ]
    }
   ],
   "source": [
    "# part 1 - find the first board that's a winner.\n",
    "Done = False\n",
    "for i in sequence:\n",
    "    for b in boards:\n",
    "        b.called_number(i)\n",
    "        if b.bingo:\n",
    "            print(\"Answer is %f\" % (b.number_for_bingo  *np.nansum(b.board)))\n",
    "            # b.print_board()\n",
    "            Done = True\n",
    "            break\n",
    "    if Done:\n",
    "        break"
   ]
  },
  {
   "cell_type": "code",
   "execution_count": 8,
   "id": "f52041b2-0eaf-41d8-8254-95628eb368fe",
   "metadata": {},
   "outputs": [],
   "source": [
    "# Part 2 - we want to find the last board that's a winner.\n",
    "boards = reset_boards(l)"
   ]
  },
  {
   "cell_type": "code",
   "execution_count": 9,
   "id": "54ad1860-1e13-4226-97d1-fd8d45aab275",
   "metadata": {},
   "outputs": [
    {
     "name": "stdout",
     "output_type": "stream",
     "text": [
      "Answer is 1284.000000\n",
      "Board ID 87\n",
      "\tBingo?\tTrue\n",
      "\tLast number matched:\t6\n",
      "\tNumber for the bingo:\t6\n",
      "\tSum:\t214\n",
      "[[nan nan nan nan 92.]\n",
      " [nan nan 61. nan nan]\n",
      " [32. nan nan nan nan]\n",
      " [nan  4. 25. nan nan]\n",
      " [nan nan nan nan nan]]\n"
     ]
    }
   ],
   "source": [
    "winners = set()\n",
    "Done = False\n",
    "for i in sequence:\n",
    "    # print(i,np.sum([k.bingo for k in boards]))\n",
    "    for b in boards:\n",
    "        if b.boardid in winners:\n",
    "            continue\n",
    "        b.called_number(i)\n",
    "        if b.bingo:\n",
    "            # Squid wins\n",
    "            winners.add(b.boardid) \n",
    "        if len(boards) - len(winners) == 0:\n",
    "            Done = True\n",
    "            break\n",
    "    if Done:\n",
    "        print(\"Answer is %f\" %\n",
    "              (b.number_for_bingo  *np.nansum(b.board)))\n",
    "        b.print_board()\n",
    "        break\n",
    "    "
   ]
  },
  {
   "cell_type": "code",
   "execution_count": null,
   "id": "88ba6e6c-5ddc-4ad7-b208-9e264fa9d782",
   "metadata": {},
   "outputs": [],
   "source": []
  }
 ],
 "metadata": {
  "kernelspec": {
   "display_name": "Python 3 (ipykernel)",
   "language": "python",
   "name": "python3"
  },
  "language_info": {
   "codemirror_mode": {
    "name": "ipython",
    "version": 3
   },
   "file_extension": ".py",
   "mimetype": "text/x-python",
   "name": "python",
   "nbconvert_exporter": "python",
   "pygments_lexer": "ipython3",
   "version": "3.9.5"
  }
 },
 "nbformat": 4,
 "nbformat_minor": 5
}
