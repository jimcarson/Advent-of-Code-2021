{
 "cells": [
  {
   "cell_type": "code",
   "execution_count": 1,
   "id": "fe758c29",
   "metadata": {},
   "outputs": [],
   "source": [
    "# Advent of Code, Extended Polymerization Day 15 - Jim Carson. \n",
    "from rich.jupyter import print as rprint\n",
    "import numpy as np\n",
    "import heapq\n",
    "\n",
    "DEBUG = False\n",
    "\n",
    "def parse(puzzle_input):\n",
    "    with open(puzzle_input,\"r\") as fp:\n",
    "        f = fp.read().splitlines()\n",
    "    return np.array([list(map(int, i)) for i in f])\n",
    "\n",
    "def get_neighbors(d, r, c):\n",
    "    points = set()\n",
    "    for row, column in [ \n",
    "                    (r-1, c), \n",
    "        (r  , c-1),           (r  , c+1),\n",
    "                    (r+1, c)             ]:\n",
    "        if 0 <= row < d.shape[0] and 0 <= column < d.shape[1]:\n",
    "            points.add((row, column))\n",
    "    return points\n",
    "\n",
    "def find_path(a):\n",
    "    already_visited = np.zeros(a.shape)\n",
    "    width = a.shape[0]\n",
    "    height = a.shape[1]\n",
    "    endpoint = (width - 1, height - 1)\n",
    "    startpoint = (0, 0, 0)\n",
    "    paths = [startpoint]\n",
    "\n",
    "    done = False\n",
    "    while not done:\n",
    "        risk_factor, x, y = heapq.heappop(paths)\n",
    "        if already_visited[x][y]:\n",
    "            continue\n",
    "        if (x, y) == endpoint:\n",
    "            done = True\n",
    "        else:\n",
    "            already_visited[x][y] = 1\n",
    "            for dx, dy in get_neighbors(a, x, y):\n",
    "                if already_visited[dx][dy]:\n",
    "                    continue\n",
    "                heapq.heappush(paths, (risk_factor + a[dx][dy], dx, dy))\n",
    "    return(risk_factor)"
   ]
  },
  {
   "cell_type": "code",
   "execution_count": 2,
   "id": "c8c59642",
   "metadata": {},
   "outputs": [
    {
     "name": "stdout",
     "output_type": "stream",
     "text": [
      "Risk factor: 487\n"
     ]
    }
   ],
   "source": [
    "a = parse(\"input_files/day15.txt\")\n",
    "print(\"Risk factor: %d\" % find_path(a))"
   ]
  },
  {
   "cell_type": "code",
   "execution_count": 3,
   "id": "aac747b7",
   "metadata": {},
   "outputs": [],
   "source": [
    "# Embiggen the array 5 wide, adding 1 each time.  If an element equals 9, map it to 1\n",
    "# To do this, I had to use np.mod, then map zeroes to 1 incrementally.\n",
    "a = parse(\"input_Files/day15.txt\")\n",
    "tmp = a\n",
    "for i in range(1, 5):\n",
    "    tmp = np.mod(tmp + 1, 10)\n",
    "    tmp[tmp == 0] = 1\n",
    "    # print(tmp)\n",
    "    a = np.append(a, tmp, axis=1)\n",
    "# Embiggen the array 5 high.\n",
    "tmp = a\n",
    "for i in range(1, 5):\n",
    "    tmp = np.mod(tmp + 1, 10)\n",
    "    tmp[tmp == 0] = 1\n",
    "    # print(tmp)\n",
    "    a = np.append(a, tmp, axis=0)"
   ]
  },
  {
   "cell_type": "code",
   "execution_count": 4,
   "id": "0a8ffbd4",
   "metadata": {},
   "outputs": [
    {
     "name": "stdout",
     "output_type": "stream",
     "text": [
      "Risk factor: 2821\n"
     ]
    }
   ],
   "source": [
    "print(\"Risk factor: %d\" % find_path(a))"
   ]
  },
  {
   "cell_type": "code",
   "execution_count": null,
   "id": "79961a9d",
   "metadata": {},
   "outputs": [],
   "source": []
  }
 ],
 "metadata": {
  "kernelspec": {
   "display_name": "Python 3 (ipykernel)",
   "language": "python",
   "name": "python3"
  },
  "language_info": {
   "codemirror_mode": {
    "name": "ipython",
    "version": 3
   },
   "file_extension": ".py",
   "mimetype": "text/x-python",
   "name": "python",
   "nbconvert_exporter": "python",
   "pygments_lexer": "ipython3",
   "version": "3.9.7"
  }
 },
 "nbformat": 4,
 "nbformat_minor": 5
}
