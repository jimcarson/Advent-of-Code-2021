{
 "cells": [
  {
   "cell_type": "code",
   "execution_count": 1,
   "id": "fe758c29",
   "metadata": {},
   "outputs": [],
   "source": [
    "# Advent of Code, Chiton Day 15 - Jim Carson. \n",
    "#\n",
    "# This article was very helpful: https://realpython.com/python-heapq-module/\n",
    "#\n",
    "from rich.jupyter import print as rprint\n",
    "import numpy as np\n",
    "import heapq\n",
    "\n",
    "DEBUG = False\n",
    "\n",
    "def parse(puzzle_input):\n",
    "    with open(puzzle_input,\"r\") as fp:\n",
    "        f = fp.read().splitlines()\n",
    "    return np.array([list(map(int, i)) for i in f])\n",
    "\n",
    "# Redo this to turn it into a generator.\n",
    "def get_neighbors(d, r, c):\n",
    "    for row, column in [ \n",
    "                    (r-1, c), \n",
    "        (r  , c-1),           (r  , c+1),\n",
    "                    (r+1, c)             ]:\n",
    "        if 0 <= row < d.shape[0] and 0 <= column < d.shape[1]:\n",
    "            yield((row, column))\n",
    "\n",
    "def find_path(a, startpoint = (0, 0, 0), endpoint = None, debug=DEBUG):\n",
    "    (width, height) = a.shape\n",
    "    already_visited = np.zeros((width, height))\n",
    "    if not endpoint:\n",
    "        endpoint = (width - 1, height - 1)\n",
    "    paths = [startpoint]\n",
    "    \n",
    "    done = False\n",
    "    while not done:\n",
    "        risk_factor, x, y = heapq.heappop(paths)\n",
    "        if (x, y) == endpoint:\n",
    "            done = True\n",
    "        elif already_visited[(x, y)]:\n",
    "            continue\n",
    "        else:\n",
    "            already_visited[(x, y)] = 1\n",
    "            for dx, dy in get_neighbors(a, x, y):\n",
    "                if not already_visited[(dx, dy)]:\n",
    "                    heapq.heappush(paths, (risk_factor + a[(dx, dy)], dx, dy))\n",
    "    return(risk_factor)"
   ]
  },
  {
   "cell_type": "code",
   "execution_count": 2,
   "id": "b310c2bb",
   "metadata": {},
   "outputs": [
    {
     "name": "stdout",
     "output_type": "stream",
     "text": [
      "Risk factor (test case): 14\n"
     ]
    }
   ],
   "source": [
    "a = parse(\"input_files/day15.mini.txt\")\n",
    "print(\"Risk factor (test case): %d\" % find_path(a))"
   ]
  },
  {
   "cell_type": "code",
   "execution_count": 3,
   "id": "12c3e042",
   "metadata": {},
   "outputs": [
    {
     "name": "stdout",
     "output_type": "stream",
     "text": [
      "Risk factor (test case): 40\n",
      "Wall time: 2.01 ms\n"
     ]
    }
   ],
   "source": [
    "%%time\n",
    "a = parse(\"input_files/day15.test.txt\")\n",
    "print(\"Risk factor (test case): %d\" % find_path(a))"
   ]
  },
  {
   "cell_type": "code",
   "execution_count": 4,
   "id": "c8c59642",
   "metadata": {},
   "outputs": [
    {
     "name": "stdout",
     "output_type": "stream",
     "text": [
      "Risk factor: 487\n",
      "Wall time: 65.2 ms\n"
     ]
    }
   ],
   "source": [
    "%%time\n",
    "a = parse(\"input_files/day15.txt\")\n",
    "print(\"Risk factor: %d\" % find_path(a))"
   ]
  },
  {
   "cell_type": "code",
   "execution_count": 5,
   "id": "aac747b7",
   "metadata": {},
   "outputs": [
    {
     "name": "stdout",
     "output_type": "stream",
     "text": [
      "Wall time: 8.54 ms\n"
     ]
    }
   ],
   "source": [
    "%%time\n",
    "# Embiggen the array 5 wide, adding 1 each time.  If an element equals 9, map it to 1\n",
    "# To do this, I had to use np.mod, then map zeroes to 1 incrementally.\n",
    "a = parse(\"input_Files/day15.txt\")\n",
    "tmp = a\n",
    "for i in range(1, 5):\n",
    "    tmp = np.mod(tmp + 1, 10)\n",
    "    tmp[tmp == 0] = 1\n",
    "    a = np.append(a, tmp, axis=1)\n",
    "# Now, do the same vertically.  \n",
    "tmp = a\n",
    "for i in range(1, 5):\n",
    "    tmp = np.mod(tmp + 1, 10)\n",
    "    tmp[tmp == 0] = 1\n",
    "    a = np.append(a, tmp, axis=0)\n",
    "\n",
    "# print(a.shape)\n",
    "# np.savetxt(\"hugematrix.txt\", a.astype(int), delimiter=\"\")"
   ]
  },
  {
   "cell_type": "code",
   "execution_count": 6,
   "id": "0a8ffbd4",
   "metadata": {},
   "outputs": [
    {
     "name": "stdout",
     "output_type": "stream",
     "text": [
      "Risk factor: 2821\n",
      "Wall time: 1.47 s\n"
     ]
    }
   ],
   "source": [
    "%%time\n",
    "print(\"Risk factor: %d\" % find_path(a))"
   ]
  },
  {
   "cell_type": "code",
   "execution_count": null,
   "id": "36acad6b",
   "metadata": {},
   "outputs": [],
   "source": []
  }
 ],
 "metadata": {
  "kernelspec": {
   "display_name": "Python 3 (ipykernel)",
   "language": "python",
   "name": "python3"
  },
  "language_info": {
   "codemirror_mode": {
    "name": "ipython",
    "version": 3
   },
   "file_extension": ".py",
   "mimetype": "text/x-python",
   "name": "python",
   "nbconvert_exporter": "python",
   "pygments_lexer": "ipython3",
   "version": "3.9.7"
  }
 },
 "nbformat": 4,
 "nbformat_minor": 5
}
