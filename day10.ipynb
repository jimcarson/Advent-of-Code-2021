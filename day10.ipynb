{
 "cells": [
  {
   "cell_type": "code",
   "execution_count": 84,
   "id": "3eb6b14a-b529-4eaa-841c-1366837c71ce",
   "metadata": {},
   "outputs": [],
   "source": [
    "# Advent of Code, Day 10 - Jim Carson. \n",
    "import numpy as np\n",
    "DEBUG = False\n",
    "def parse(puzzle_input):\n",
    "    with open(puzzle_input,\"r\") as fp:\n",
    "        f = fp.read().splitlines()\n",
    "    return f\n",
    "\n",
    "onoff = {  '(' : ')',  '[' : ']',  '<' : '>',  '{' : '}',\n",
    "           ')' : '(',  ']' : '[',  '>' : '<',  '}' : '{',\n",
    "}\n",
    "corrupt = { ')': 3, ']': 57, '}': 1197, '>': 25137 }\n",
    "\n",
    "fix = { '(': 1, '[': 2, '{': 3, '<': 4 }\n",
    "\n",
    "testdata = parse(\"input_files/day10.test.txt\")\n",
    "data = parse(\"input_files/day10.txt\")"
   ]
  },
  {
   "cell_type": "markdown",
   "id": "02f8cc35",
   "metadata": {},
   "source": [
    "Some of the lines aren't corrupted, just incomplete; you can ignore these lines for now. The remaining five lines are corrupted:\n",
    "\n",
    "    {([(<{}[<>[]}>{[]{[(<()> - Expected ], but found } instead.\n",
    "    [[<[([]))<([[{}[[()]]] - Expected ], but found ) instead.\n",
    "    [{[{({}]{}}([{[{{{}}([] - Expected ), but found ] instead.\n",
    "    [<(<(<(<{}))><([]([]() - Expected >, but found ) instead.\n",
    "    <{([([[(<>()){}]>(<<{{ - Expected ], but found > instead.\n"
   ]
  },
  {
   "cell_type": "code",
   "execution_count": 158,
   "id": "a1da993e",
   "metadata": {},
   "outputs": [],
   "source": [
    "def find_corrupted_lines(i, corrupt_only=False, debug=DEBUG):\n",
    "    score = 0\n",
    "    v = []\n",
    "    for s in list(i):\n",
    "        if s in [\"[\", \"(\", \"{\", \"<\"]:\n",
    "            v.append(s)\n",
    "        elif s in [\"]\", \")\", \"}\", \">\"]:\n",
    "            q = v.pop()\n",
    "            if onoff[q] != s:\n",
    "                if corrupt_only:\n",
    "                    return corrupt[s]\n",
    "                    if debug:\n",
    "                        print(\"Expected %s, but found %s instead\" % (onoff[q],s))\n",
    "                else:\n",
    "                    return 0\n",
    "    if corrupt_only:\n",
    "        return 0\n",
    "    complete_by = []\n",
    "    for i in v:\n",
    "        complete_by.insert(0,onoff[i])\n",
    "    for j in list(complete_by):\n",
    "        score = score * 5 + fix[onoff[j]]\n",
    "    if debug:\n",
    "        print(\"Complete by adding %s\" % \"\".join(complete_by), score)\n",
    "    return (score)\n",
    "    "
   ]
  },
  {
   "cell_type": "code",
   "execution_count": 161,
   "id": "eca0671b",
   "metadata": {},
   "outputs": [
    {
     "data": {
      "text/plain": [
       "26397"
      ]
     },
     "execution_count": 161,
     "metadata": {},
     "output_type": "execute_result"
    }
   ],
   "source": [
    "# Part 1: 166191\n",
    "np.sum([find_corrupted_lines(i, True) for i in data])"
   ]
  },
  {
   "cell_type": "code",
   "execution_count": 170,
   "id": "3c42ac7a",
   "metadata": {
    "scrolled": true
   },
   "outputs": [
    {
     "data": {
      "text/plain": [
       "1152088313.0"
      ]
     },
     "execution_count": 170,
     "metadata": {},
     "output_type": "execute_result"
    }
   ],
   "source": [
    "# Part 2:  1152088313\n",
    "scorelist = []\n",
    "for i in data:\n",
    "    s = find_corrupted_lines(i, False)\n",
    "    if s > 0:\n",
    "        scorelist.append(s)\n",
    "np.median(scorelist)"
   ]
  },
  {
   "cell_type": "code",
   "execution_count": null,
   "id": "556ac89f",
   "metadata": {},
   "outputs": [],
   "source": []
  }
 ],
 "metadata": {
  "kernelspec": {
   "display_name": "Python 3 (ipykernel)",
   "language": "python",
   "name": "python3"
  },
  "language_info": {
   "codemirror_mode": {
    "name": "ipython",
    "version": 3
   },
   "file_extension": ".py",
   "mimetype": "text/x-python",
   "name": "python",
   "nbconvert_exporter": "python",
   "pygments_lexer": "ipython3",
   "version": "3.9.7"
  }
 },
 "nbformat": 4,
 "nbformat_minor": 5
}
