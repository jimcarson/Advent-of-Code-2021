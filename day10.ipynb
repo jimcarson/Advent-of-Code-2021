{
 "cells": [
  {
   "cell_type": "code",
   "execution_count": 126,
   "id": "3eb6b14a-b529-4eaa-841c-1366837c71ce",
   "metadata": {},
   "outputs": [],
   "source": [
    "# Advent of Code, Day 10 - Jim Carson. \n",
    "import math\n",
    "DEBUG = False\n",
    "def parse(puzzle_input):\n",
    "    with open(puzzle_input,\"r\") as fp:\n",
    "        f = fp.read().splitlines()\n",
    "    return f\n",
    "\n",
    "onoff = {\n",
    "    '(' : ')',\n",
    "    '[' : ']',\n",
    "    '<' : '>',\n",
    "    '{' : '}',\n",
    "    ')' : '(',\n",
    "    ']' : '[',\n",
    "    '>' : '<',\n",
    "    '}' : '{',\n",
    "}\n",
    "corrupt = {\n",
    "    ')': 3,\n",
    "    ']': 57,\n",
    "    '}': 1197,\n",
    "    '>': 25137\n",
    "}\n",
    "\n",
    "fix = {\n",
    "    '(': 1,\n",
    "    '[': 2,\n",
    "    '{': 3,\n",
    "    '<': 4   \n",
    "}\n",
    "\n",
    "testdata = parse(\"input_files/day10.test.txt\")\n",
    "data = parse(\"input_files/day10.txt\")"
   ]
  },
  {
   "cell_type": "markdown",
   "id": "02f8cc35",
   "metadata": {},
   "source": [
    "Some of the lines aren't corrupted, just incomplete; you can ignore these lines for now. The remaining five lines are corrupted:\n",
    "\n",
    "    {([(<{}[<>[]}>{[]{[(<()> - Expected ], but found } instead.\n",
    "    [[<[([]))<([[{}[[()]]] - Expected ], but found ) instead.\n",
    "    [{[{({}]{}}([{[{{{}}([] - Expected ), but found ] instead.\n",
    "    [<(<(<(<{}))><([]([]() - Expected >, but found ) instead.\n",
    "    <{([([[(<>()){}]>(<<{{ - Expected ], but found > instead.\n"
   ]
  },
  {
   "cell_type": "code",
   "execution_count": 127,
   "id": "a1da993e",
   "metadata": {},
   "outputs": [],
   "source": [
    "def find_corrupted_lines(i, firsterror=True):\n",
    "    errors = \"\"\n",
    "    corrupted = False\n",
    "    incomplete = False\n",
    "    error_score = 0\n",
    "    corrupt_score = 0\n",
    "    v = deque()\n",
    "    for s in list(i):\n",
    "        if s in [\"[\", \"(\", \"{\", \"<\"]:\n",
    "            v.append(s)\n",
    "        elif s in [\"]\", \")\", \"}\", \">\"]:\n",
    "            q = v.pop()\n",
    "            if onoff[q] != s:\n",
    "                corrupted = True\n",
    "                if DEBUG:\n",
    "                    print(\"Expected %s, but found %s instead\" % (onoff[q],s))\n",
    "                corrupt_score = corrupt_score + corrupt[s]\n",
    "                if firsterror:\n",
    "                    return (corrupted, incomplete, corrupt_score, error_score)\n",
    "    return (corrupted, incomplete, corrupt_score, error_score)"
   ]
  },
  {
   "cell_type": "code",
   "execution_count": 128,
   "id": "eca0671b",
   "metadata": {},
   "outputs": [
    {
     "name": "stdout",
     "output_type": "stream",
     "text": [
      "166191 0\n"
     ]
    }
   ],
   "source": [
    "# Part 1: 166191\n",
    "linenum = 0\n",
    "errscore = 0\n",
    "total_score = 0\n",
    "for i in data:\n",
    "    (corrupted, incomplete, corrupt_score, error_score) = find_corrupted_lines(i, True)\n",
    "    if corrupted:\n",
    "                total_score = total_score + corrupt_score\n",
    "    linenum+=1\n",
    "print(total_score, error_score)"
   ]
  },
  {
   "cell_type": "code",
   "execution_count": 129,
   "id": "a896607a",
   "metadata": {},
   "outputs": [],
   "source": [
    "def fix_lines(i):\n",
    "    errors = \"\"\n",
    "    corrupted = False\n",
    "    incomplete = False\n",
    "    error_score = 0\n",
    "    corrupt_score = 0\n",
    "    v = deque()\n",
    "    for s in list(i):\n",
    "        if s in [\"[\", \"(\", \"{\", \"<\"]:\n",
    "            v.append(s)\n",
    "        elif s in [\"]\", \")\", \"}\", \">\"]:\n",
    "            q = v.pop()\n",
    "            if onoff[q] != s:\n",
    "                corrupted = True\n",
    "                corrupt_score = corrupt_score + corrupt[s]\n",
    "                return (corrupted, incomplete, corrupt_score, error_score, \"\")\n",
    "    # now we have leftover\n",
    "    if v:\n",
    "        incomplete = True\n",
    "    complete_by = []\n",
    "    for i in v:\n",
    "        complete_by.insert(0,onoff[i])\n",
    "    for j in list(complete_by):\n",
    "        error_score = error_score * 5\n",
    "        error_score = error_score + fix[onoff[j]]\n",
    "    # print(\"Complete by adding %s\" % \"\".join(complete_by), error_score)\n",
    "    return (corrupted, incomplete, corrupt_score, error_score, complete_by)"
   ]
  },
  {
   "cell_type": "code",
   "execution_count": 131,
   "id": "3c42ac7a",
   "metadata": {
    "scrolled": true
   },
   "outputs": [
    {
     "data": {
      "text/plain": [
       "1152088313"
      ]
     },
     "execution_count": 131,
     "metadata": {},
     "output_type": "execute_result"
    }
   ],
   "source": [
    "# Part 2:  1152088313\n",
    "linenum = 0\n",
    "errscore = 0\n",
    "total_score = 0\n",
    "scorelist = []\n",
    "for i in data:\n",
    "    (corrupted, incomplete, corrupt_score, error_score, complete_by) = fix_lines(i)\n",
    "    if incomplete:\n",
    "        error_score = 0\n",
    "        for j in (complete_by):\n",
    "            error_score = error_score * 5\n",
    "            error_score = error_score + fix[onoff[j]]\n",
    "        total_score = total_score + error_score\n",
    "        scorelist.append(error_score)\n",
    "scorelist.sort()\n",
    "scorelist[int(len(scorelist)/2)]"
   ]
  },
  {
   "cell_type": "code",
   "execution_count": null,
   "id": "9611d3ba",
   "metadata": {},
   "outputs": [],
   "source": [
    "# 1152088313"
   ]
  }
 ],
 "metadata": {
  "kernelspec": {
   "display_name": "Python 3 (ipykernel)",
   "language": "python",
   "name": "python3"
  },
  "language_info": {
   "codemirror_mode": {
    "name": "ipython",
    "version": 3
   },
   "file_extension": ".py",
   "mimetype": "text/x-python",
   "name": "python",
   "nbconvert_exporter": "python",
   "pygments_lexer": "ipython3",
   "version": "3.9.7"
  }
 },
 "nbformat": 4,
 "nbformat_minor": 5
}
