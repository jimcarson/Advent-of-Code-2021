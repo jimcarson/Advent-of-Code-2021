{
 "cells": [
  {
   "cell_type": "code",
   "execution_count": 1,
   "id": "3eb6b14a-b529-4eaa-841c-1366837c71ce",
   "metadata": {},
   "outputs": [],
   "source": [
    "# Advent of Code, Day 10 - Jim Carson. \n",
    "import numpy as np\n",
    "DEBUG = False\n",
    "def parse(puzzle_input):\n",
    "    with open(puzzle_input,\"r\") as fp:\n",
    "        f = fp.read().splitlines()\n",
    "    return f\n",
    "\n",
    "onoff = {  '(' : ')',  '[' : ']',  '<' : '>',  '{' : '}',\n",
    "           ')' : '(',  ']' : '[',  '>' : '<',  '}' : '{',\n",
    "}\n",
    "corrupt = { ')': 3, ']': 57, '}': 1197, '>': 25137 }\n",
    "fix = { '(': 1, '[': 2, '{': 3, '<': 4 }\n",
    "\n",
    "testdata = parse(\"input_files/day10.test.txt\")\n",
    "data = parse(\"input_files/day10.txt\")"
   ]
  },
  {
   "cell_type": "markdown",
   "id": "02f8cc35",
   "metadata": {},
   "source": [
    "Some of the lines aren't corrupted, just incomplete; you can ignore these lines for now. The remaining five lines are corrupted:\n",
    "\n",
    "    {([(<{}[<>[]}>{[]{[(<()> - Expected ], but found } instead.\n",
    "    [[<[([]))<([[{}[[()]]] - Expected ], but found ) instead.\n",
    "    [{[{({}]{}}([{[{{{}}([] - Expected ), but found ] instead.\n",
    "    [<(<(<(<{}))><([]([]() - Expected >, but found ) instead.\n",
    "    <{([([[(<>()){}]>(<<{{ - Expected ], but found > instead.\n",
    "\n",
    "Stop at the first incorrect closing character on each corrupted line."
   ]
  },
  {
   "cell_type": "code",
   "execution_count": 2,
   "id": "a1da993e",
   "metadata": {},
   "outputs": [],
   "source": [
    "def find_corrupted_lines(i, corrupt_only=False, debug=DEBUG):\n",
    "    score = 0\n",
    "    v = []\n",
    "    for s in list(i):\n",
    "        if s in [\"[\", \"(\", \"{\", \"<\"]:\n",
    "            v.append(s)\n",
    "        elif s in [\"]\", \")\", \"}\", \">\"]:\n",
    "            q = v.pop()\n",
    "            if onoff[q] != s:\n",
    "                if corrupt_only:\n",
    "                    if debug:\n",
    "                        print(\"Expected %s, but found %s instead\" % (onoff[q],s))\n",
    "                    return corrupt[s]\n",
    "                return 0\n",
    "    if corrupt_only:\n",
    "        return 0\n",
    "    complete_by = []\n",
    "    for i in v:\n",
    "        complete_by.insert(0,onoff[i])\n",
    "    for j in list(complete_by):\n",
    "        score = score * 5 + fix[onoff[j]]\n",
    "    if debug:\n",
    "        print(\"Complete by adding %s\" % \"\".join(complete_by), score)\n",
    "    return (score)\n",
    "    "
   ]
  },
  {
   "cell_type": "markdown",
   "id": "cde9d31c",
   "metadata": {},
   "source": [
    "To calculate the syntax error score for a line, take the first illegal character on the line and look it up in the following table:\n",
    "\n",
    "    ): 3 points.\n",
    "    ]: 57 points.\n",
    "    }: 1197 points.\n",
    "    >: 25137 points.\n",
    "\n",
    "Find the first illegal character in each corrupted line of the navigation subsystem. What is the total syntax error score for those errors?"
   ]
  },
  {
   "cell_type": "code",
   "execution_count": 3,
   "id": "eca0671b",
   "metadata": {},
   "outputs": [
    {
     "data": {
      "text/plain": [
       "166191"
      ]
     },
     "execution_count": 3,
     "metadata": {},
     "output_type": "execute_result"
    }
   ],
   "source": [
    "# Part 1: 166191\n",
    "np.sum([find_corrupted_lines(i, True) for i in data])"
   ]
  },
  {
   "cell_type": "markdown",
   "id": "f3a74903",
   "metadata": {},
   "source": [
    "Now, discard the corrupted lines. The remaining lines are incomplete.\n",
    "\n",
    "Incomplete lines don't have any incorrect characters - instead, they're missing some closing characters at the end of the line. To repair the navigation subsystem, you just need to figure out the sequence of closing characters that complete all open chunks in the line.\n",
    "\n",
    "You can only use closing characters (), ], }, or >), and you must add them in the correct order so that only legal pairs are formed and all chunks end up closed.\n",
    "\n",
    "Start with a total score of 0. Then, for each character, multiply the total score by 5 and then increase the total score by the point value given for the character in the following table:\n",
    "\n",
    "    ): 1 point.\n",
    "    ]: 2 points.\n",
    "    }: 3 points.\n",
    "    >: 4 points.\n",
    "\n",
    "So, ])}> would be scored as follows:\n",
    "\n",
    "    Start with a total score of 0.\n",
    "    Multiply the total score by 5 to get 0, then add the value of ] (2) to get a new total score of 2.\n",
    "    Multiply the total score by 5 to get 10, then add the value of ) (1) to get a new total score of 11.\n",
    "    Multiply the total score by 5 to get 55, then add the value of } (3) to get a new total score of 58.\n",
    "    Multiply the total score by 5 to get 290, then add the value of > (4) to get a new total score of 294.\n",
    "\n",
    "Autocomplete tools are an odd bunch: the winner is found by sorting all of the scores and then taking the **middle** score. (There will always be an odd number of scores to consider.) "
   ]
  },
  {
   "cell_type": "code",
   "execution_count": 4,
   "id": "3c42ac7a",
   "metadata": {
    "scrolled": true
   },
   "outputs": [
    {
     "data": {
      "text/plain": [
       "1152088313.0"
      ]
     },
     "execution_count": 4,
     "metadata": {},
     "output_type": "execute_result"
    }
   ],
   "source": [
    "# Part 2:  1152088313\n",
    "scorelist = []\n",
    "for i in data:\n",
    "    s = find_corrupted_lines(i, False)\n",
    "    if s > 0:\n",
    "        scorelist.append(s)\n",
    "np.median(scorelist)"
   ]
  },
  {
   "cell_type": "code",
   "execution_count": null,
   "id": "556ac89f",
   "metadata": {},
   "outputs": [],
   "source": []
  }
 ],
 "metadata": {
  "kernelspec": {
   "display_name": "Python 3 (ipykernel)",
   "language": "python",
   "name": "python3"
  },
  "language_info": {
   "codemirror_mode": {
    "name": "ipython",
    "version": 3
   },
   "file_extension": ".py",
   "mimetype": "text/x-python",
   "name": "python",
   "nbconvert_exporter": "python",
   "pygments_lexer": "ipython3",
   "version": "3.9.7"
  }
 },
 "nbformat": 4,
 "nbformat_minor": 5
}
