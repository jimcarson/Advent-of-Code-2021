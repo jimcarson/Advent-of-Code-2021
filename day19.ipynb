{
 "cells": [
  {
   "cell_type": "code",
   "execution_count": 1,
   "id": "fe758c29",
   "metadata": {},
   "outputs": [],
   "source": [
    "# Advent of Code, Beacon Scanner Day 19\n",
    "from rich.jupyter import print as rprint\n",
    "import numpy as np\n",
    "\n",
    "DEBUG = False\n",
    "MATCH = 12\n",
    "\n",
    "# return a list of lists, each sublist containing beacon points relative to the scanner\n",
    "def parse(input_file):\n",
    "    lines = [\n",
    "        [[tuple(int(x) for x in l.split(\",\"))] for l in l[1:]]\n",
    "        for l in [\n",
    "            l.strip().split(\"\\n\")\n",
    "            for l in open(input_file).read().split(\"\\n\\n\")\n",
    "        ]\n",
    "    ]\n",
    "    return lines\n",
    "\n",
    "def distance(x, y):\n",
    "    return np.linalg.norm(np.array(x) - np.array(y))\n",
    "\n",
    "def inverse(matrix):\n",
    "    return np.linalg.inv(matrix).astype(int)\n",
    "\n",
    "def add(x, y):\n",
    "    return tuple(np.array(x) + np.array(y))\n",
    "\n",
    "def negative(x):\n",
    "    return tuple(-1 * np.array(x))\n",
    "\n",
    "def first_beacon(lines):\n",
    "    beacon_1 = []\n",
    "    for scanner in lines:\n",
    "        for beacon_1 in scanner:\n",
    "            beacon_1.append({distance(beacon_1[0], _[0]) for _ in scanner})\n",
    "\n",
    "def create_beaconmap(lines, debug=DEBUG):\n",
    "    beaconcount = len(lines)\n",
    "    beacon_map = {}\n",
    "    for i in range(beaconcount):\n",
    "        for j in range(i+1, beaconcount):\n",
    "            for x in lines[i]:\n",
    "                if debug:\n",
    "                    rprint(\"CB: [%d,%d]\" % (i,j), x)\n",
    "                for y in lines[j]:\n",
    "                    if len(x[1] & y[1]) >= MATCH:\n",
    "                        if debug:\n",
    "                            print(\"match\",x[1] & y[1])\n",
    "                        beacon_map.setdefault((i, j), set()).add((x[0], y[0]))\n",
    "    return beacon_map\n",
    "\n",
    "def generate_orientations(beaconmap, orientations, debug=DEBUG):\n",
    "    transforms = {}\n",
    "    for b,vals in beaconmap.items():\n",
    "        if DEBUG:\n",
    "            rprint(\"GO:\", b, vals)\n",
    "        for orientation in orientations:\n",
    "            s = set()\n",
    "            for val in vals:\n",
    "                s.add(distance(val[0], np.dot(val[1],orientation)))\n",
    "            if debug:\n",
    "                rprint(\"GO: Result set:\",s)\n",
    "            if len(s) == 1:\n",
    "                X, Y = val[0], np.dot(val[1],orientation)\n",
    "                transforms[b] = [(add(X,negative(Y)), orientation)]\n",
    "                break\n",
    "    return transforms\n",
    "\n",
    "def apply_transforms(lines, transforms, debug=DEBUG):\n",
    "    beaconcount = len(lines)\n",
    "    positions = []\n",
    "    points = {p[0] for p in lines[0]}\n",
    "\n",
    "    for i in range(1, beaconcount):\n",
    "        for p in lines[i]:\n",
    "            testpoint = (0,0,0)\n",
    "            point = p[0]\n",
    "            for trans in transforms[(0,i)]:\n",
    "                testpoint = add(trans[0], np.dot(testpoint, trans[1]))\n",
    "                point = add(trans[0], np.dot(point, trans[1]))\n",
    "                if debug:\n",
    "                    rprint(i, p, trans[0], point)\n",
    "            points.add(point)\n",
    "        positions.append(testpoint)\n",
    "        if debug:\n",
    "            rprint(\"AT:\", i, positions)\n",
    "    if debug:\n",
    "        rprint(\"AT:\", points, positions)\n",
    "    return(points, positions)"
   ]
  },
  {
   "cell_type": "code",
   "execution_count": 2,
   "id": "69cdad56-92fb-461d-9437-e73c49b8ccfb",
   "metadata": {},
   "outputs": [],
   "source": [
    "def iterate_over_beacons(t, beaconcount):\n",
    "    # relative to the first beacon\n",
    "    while len([*filter(lambda x: x[0] == 0, t)]) < beaconcount - 1:\n",
    "        for i in range(beaconcount):\n",
    "            for j in range(beaconcount):\n",
    "                for k in range(beaconcount):\n",
    "                    # don't do the same point\n",
    "                    if j == k or i == k:\n",
    "                        continue\n",
    "                    if (\n",
    "                        (relative_1 := t.get((i, j)))\n",
    "                        and not (i, k) in t\n",
    "                        and (relative_2 := t.get((j, k)))\n",
    "                    ):\n",
    "                        t[(i, k)] = [*relative_2, *relative_1]\n",
    "                    if (\n",
    "                        (relative_1 := t.get((i, j)))\n",
    "                        and not (i, k) in t\n",
    "                        and (relative_2 := t.get((k, j)))\n",
    "                    ):\n",
    "                        t[(i, k)] = [\n",
    "                        *[\n",
    "                            (np.dot(negative(v[0]), inv := inverse(v[1])), inv)\n",
    "                            for v in reversed(relative_2)\n",
    "                        ],\n",
    "                        *relative_1,\n",
    "                    ]\n",
    "    return t"
   ]
  },
  {
   "cell_type": "code",
   "execution_count": 3,
   "id": "44dc4855",
   "metadata": {},
   "outputs": [],
   "source": [
    "def scan_o_matic(input_file):\n",
    "    lines = parse(input_file)\n",
    "    beaconcount = len(lines)\n",
    "    \n",
    "    beacon_1 = first_beacon(lines)\n",
    "    beaconmap = create_beaconmap(lines)\n",
    "    \n",
    "    transforms = generate_orientations(beaconmap, orientations)\n",
    "    transforms = iterate_over_beacons(transforms, beaconcount)\n",
    "    points, positions = apply_transforms(lines, transforms)\n",
    "    return positions, points"
   ]
  },
  {
   "cell_type": "code",
   "execution_count": 4,
   "id": "3c543ef4-0ca5-4316-b3e2-cb62af586452",
   "metadata": {},
   "outputs": [],
   "source": [
    "# x, y, z\n",
    "directions =(( 1, 0, 0), ( 0, 1, 0), ( 0, 0, 1), (-1, 0, 0), ( 0,-1, 0), ( 0, 0,-1))\n",
    "\n",
    "orientations = [\n",
    "    (x, y, z)\n",
    "    for x in directions\n",
    "    for y in directions\n",
    "    for z in directions\n",
    "    if np.linalg.det((x, y, z)) == 1\n",
    "]"
   ]
  },
  {
   "cell_type": "code",
   "execution_count": 5,
   "id": "08b98b8f",
   "metadata": {},
   "outputs": [
    {
     "data": {
      "text/html": [
       "<pre style=\"white-space:pre;overflow-x:auto;line-height:normal;font-family:Menlo,'DejaVu Sans Mono',consolas,'Courier New',monospace\"><span style=\"color: #008080; text-decoration-color: #008080; font-weight: bold\">79</span>\n",
       "</pre>\n"
      ],
      "text/plain": [
       "\u001b[1;36m79\u001b[0m\n"
      ]
     },
     "metadata": {},
     "output_type": "display_data"
    },
    {
     "data": {
      "text/html": [
       "<pre style=\"white-space:pre;overflow-x:auto;line-height:normal;font-family:Menlo,'DejaVu Sans Mono',consolas,'Courier New',monospace\"><span style=\"color: #008080; text-decoration-color: #008080; font-weight: bold\">3621</span>\n",
       "</pre>\n"
      ],
      "text/plain": [
       "\u001b[1;36m3621\u001b[0m\n"
      ]
     },
     "metadata": {},
     "output_type": "display_data"
    }
   ],
   "source": [
    "positions, points = scan_o_matic(\"input_files/day19.test.txt\")\n",
    "# part 1: 79\n",
    "rprint(len(points))\n",
    "# Part 2: 3621\n",
    "rprint(np.max([np.sum(np.abs(add(i,negative(j)))) for i in positions for j in positions]))"
   ]
  },
  {
   "cell_type": "code",
   "execution_count": 6,
   "id": "4bd0ead6",
   "metadata": {},
   "outputs": [
    {
     "data": {
      "text/html": [
       "<pre style=\"white-space:pre;overflow-x:auto;line-height:normal;font-family:Menlo,'DejaVu Sans Mono',consolas,'Courier New',monospace\"><span style=\"color: #008080; text-decoration-color: #008080; font-weight: bold\">318</span>\n",
       "</pre>\n"
      ],
      "text/plain": [
       "\u001b[1;36m318\u001b[0m\n"
      ]
     },
     "metadata": {},
     "output_type": "display_data"
    },
    {
     "data": {
      "text/html": [
       "<pre style=\"white-space:pre;overflow-x:auto;line-height:normal;font-family:Menlo,'DejaVu Sans Mono',consolas,'Courier New',monospace\"><span style=\"color: #008080; text-decoration-color: #008080; font-weight: bold\">12166</span>\n",
       "</pre>\n"
      ],
      "text/plain": [
       "\u001b[1;36m12166\u001b[0m\n"
      ]
     },
     "metadata": {},
     "output_type": "display_data"
    }
   ],
   "source": [
    "positions, points = scan_o_matic(\"input_files/day19.txt\")\n",
    "# part 1: 318\n",
    "rprint(len(points))\n",
    "# Part 2: 12166\n",
    "rprint(np.max([np.sum(np.abs(add(i,negative(j)))) for i in positions for j in positions]))"
   ]
  },
  {
   "cell_type": "code",
   "execution_count": null,
   "id": "e68d02a5",
   "metadata": {},
   "outputs": [],
   "source": []
  }
 ],
 "metadata": {
  "kernelspec": {
   "display_name": "Python 3 (ipykernel)",
   "language": "python",
   "name": "python3"
  },
  "language_info": {
   "codemirror_mode": {
    "name": "ipython",
    "version": 3
   },
   "file_extension": ".py",
   "mimetype": "text/x-python",
   "name": "python",
   "nbconvert_exporter": "python",
   "pygments_lexer": "ipython3",
   "version": "3.9.5"
  }
 },
 "nbformat": 4,
 "nbformat_minor": 5
}
