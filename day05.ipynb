{
 "cells": [
  {
   "cell_type": "code",
   "execution_count": 1,
   "id": "bb09b973-f406-40f0-8bc1-cac97e958cae",
   "metadata": {},
   "outputs": [],
   "source": [
    "# Advent of Code, Day 5 - Jim Carson.  Cleaned up the code a little bit.\n",
    "import pandas as pd\n",
    "import numpy as np\n",
    "\n",
    "# Read the file, take advantage of pandas being able to handle multiple delimiters.\n",
    "# we will remove the empty columns and return a data frame and a matrix of the floor\n",
    "def parse(puzzle_input):\n",
    "    df = pd.read_csv(puzzle_input, sep=\",| |->\", engine=\"python\" , header=None)\n",
    "    df.dropna(axis=1, inplace=True)\n",
    "    df.columns = [\"X1\",\"Y1\",\"X2\",\"Y2\"]\n",
    "    a = np.zeros((1+max(df.max()),1+max(df.max())))\n",
    "    return(df,a)\n",
    "\n",
    "# since points can be in any order and for horizontal, vertical or diagonal results,\n",
    "# create an iterator rather than dealing with range and off-by-one errors.  \n",
    "def generate_points(x1, y1, x2, y2):\n",
    "    idx, idy = x1, y1\n",
    "    while (idx != x2) or (idy != y2):\n",
    "        yield (idx, idy)\n",
    "        idx += np.sign(x2 - x1)\n",
    "        idy += np.sign(y2 - y1)\n",
    "    yield idx, idy\n",
    "\n",
    "def update_matrix(a, x1, y1, x2, y2, ignore_diagonals = False):\n",
    "    if ignore_diagonals and (x1 != x2 and y1 != y2):\n",
    "        return(a)\n",
    "    for x,y in generate_points(x1,y1,x2,y2):\n",
    "            a[x,y] = a[x,y] +1 \n",
    "    return(a)\n",
    "\n",
    "def calculate(f, ignore_diagonals = False):\n",
    "    df,a = parse(f)\n",
    "    for i in df.index:\n",
    "        x = df.loc[i]\n",
    "        update_matrix(a, x.X1, x.Y1, x.X2, x.Y2, ignore_diagonals)\n",
    "    return (np.sum(a > 1))"
   ]
  },
  {
   "cell_type": "code",
   "execution_count": 2,
   "id": "08200055-3f90-4c26-8579-a8ed6c80c2e9",
   "metadata": {},
   "outputs": [
    {
     "name": "stdout",
     "output_type": "stream",
     "text": [
      "5\n",
      "12\n"
     ]
    }
   ],
   "source": [
    "# test part 1: should show 5\n",
    "print(calculate(\"input_files/day05.test.txt\", True))\n",
    "# test part 2: should show 12\n",
    "print(calculate(\"input_files/day05.test.txt\"))"
   ]
  },
  {
   "cell_type": "code",
   "execution_count": 3,
   "id": "aabf18d0-9189-4c48-9047-35b7dfff7a0f",
   "metadata": {},
   "outputs": [
    {
     "name": "stdout",
     "output_type": "stream",
     "text": [
      "7142\n",
      "20012\n"
     ]
    }
   ],
   "source": [
    "# part 1: should show 7142\n",
    "print(calculate(\"input_files/day05.txt\", True))\n",
    "# test part 2: should show 20012\n",
    "print(calculate(\"input_files/day05.txt\"))"
   ]
  },
  {
   "cell_type": "code",
   "execution_count": null,
   "id": "d57c5686-2ada-4c33-8971-d7e8d284995c",
   "metadata": {},
   "outputs": [],
   "source": []
  }
 ],
 "metadata": {
  "kernelspec": {
   "display_name": "Python 3 (ipykernel)",
   "language": "python",
   "name": "python3"
  },
  "language_info": {
   "codemirror_mode": {
    "name": "ipython",
    "version": 3
   },
   "file_extension": ".py",
   "mimetype": "text/x-python",
   "name": "python",
   "nbconvert_exporter": "python",
   "pygments_lexer": "ipython3",
   "version": "3.9.7"
  }
 },
 "nbformat": 4,
 "nbformat_minor": 5
}
