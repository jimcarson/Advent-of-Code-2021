{
 "cells": [
  {
   "cell_type": "code",
   "execution_count": 1,
   "id": "bb09b973-f406-40f0-8bc1-cac97e958cae",
   "metadata": {},
   "outputs": [],
   "source": [
    "import pandas as pd\n",
    "import numpy as np\n",
    "def parse(puzzle_input):\n",
    "    df = pd.read_csv(puzzle_input, sep=\",| |->\", engine=\"python\" , header=None)\n",
    "    df.dropna(axis=1, inplace=True)\n",
    "    df.columns = [\"X1\",\"Y1\",\"X2\",\"Y2\"]\n",
    "    a = np.zeros((1+max(df.max()),1+max(df.max())))\n",
    "    return(df,a)\n",
    "\n",
    "def generate_points(x1, y1, x2, y2):\n",
    "    dx = np.sign(x2 - x1)\n",
    "    dy = np.sign(y2 - y1)\n",
    "\n",
    "    idx, idy = x1, y1\n",
    "    while (idx != x2) or (idy != y2):\n",
    "        yield (idx, idy)\n",
    "        idx += dx\n",
    "        idy += dy\n",
    "    yield idx, idy\n"
   ]
  },
  {
   "cell_type": "code",
   "execution_count": 2,
   "id": "5f378542-0df6-4996-a92e-7027cec264a8",
   "metadata": {},
   "outputs": [],
   "source": [
    "def update_matrix(a, x1, y1, x2, y2, ignore_diagonals = True):\n",
    "    diagonal = (x1 != x2 and y1 != y2)\n",
    "    if diagonal and ignore_diagonals:\n",
    "        return(a)\n",
    "    for x,y in generate_points(x1,y1,x2,y2):\n",
    "            a[x,y] = a[x,y] +1 \n",
    "    return(a)"
   ]
  },
  {
   "cell_type": "code",
   "execution_count": 3,
   "id": "08200055-3f90-4c26-8579-a8ed6c80c2e9",
   "metadata": {},
   "outputs": [
    {
     "name": "stdout",
     "output_type": "stream",
     "text": [
      "5\n"
     ]
    }
   ],
   "source": [
    "# test part 1: should show 5\n",
    "df,a = parse(\"day05.test.txt\")\n",
    "for i in df.index:\n",
    "    x = df.loc[i]\n",
    "    update_matrix(a, x.X1, x.Y1, x.X2, x.Y2)\n",
    "print(np.sum(a > 1))\n"
   ]
  },
  {
   "cell_type": "code",
   "execution_count": 4,
   "id": "aabf18d0-9189-4c48-9047-35b7dfff7a0f",
   "metadata": {},
   "outputs": [
    {
     "name": "stdout",
     "output_type": "stream",
     "text": [
      "12\n"
     ]
    }
   ],
   "source": [
    "# test part 2: should show 12\n",
    "df,a = parse(\"day05.test.txt\")\n",
    "for i in df.index:\n",
    "    x = df.loc[i]\n",
    "    update_matrix(a, x.X1, x.Y1, x.X2, x.Y2, False)\n",
    "    # print(a)\n",
    "print(np.sum(a > 1))"
   ]
  },
  {
   "cell_type": "code",
   "execution_count": 5,
   "id": "b46c5121-01f0-432a-b420-0250a9cc03ed",
   "metadata": {},
   "outputs": [
    {
     "name": "stdout",
     "output_type": "stream",
     "text": [
      "7142\n"
     ]
    }
   ],
   "source": [
    "# part 1\n",
    "df,a = parse(\"day05.txt\")\n",
    "for i in df.index:\n",
    "    x = df.loc[i]\n",
    "    update_matrix(a, x.X1, x.Y1, x.X2, x.Y2)\n",
    "print(np.sum(a > 1))"
   ]
  },
  {
   "cell_type": "code",
   "execution_count": 6,
   "id": "761e0fbd-250e-4e8a-bbfe-0cd79c1ee54c",
   "metadata": {},
   "outputs": [
    {
     "name": "stdout",
     "output_type": "stream",
     "text": [
      "20012\n"
     ]
    }
   ],
   "source": [
    "# part 2\n",
    "df,a = parse(\"day05.txt\")\n",
    "for i in df.index:\n",
    "    x = df.loc[i]\n",
    "    update_matrix(a, x.X1, x.Y1, x.X2, x.Y2, False)\n",
    "    # print(a)\n",
    "print(np.sum(a > 1))"
   ]
  },
  {
   "cell_type": "code",
   "execution_count": null,
   "id": "82adfe4b-30ce-4ced-9a1f-ad875d78d98f",
   "metadata": {},
   "outputs": [],
   "source": []
  }
 ],
 "metadata": {
  "kernelspec": {
   "display_name": "Python 3 (ipykernel)",
   "language": "python",
   "name": "python3"
  },
  "language_info": {
   "codemirror_mode": {
    "name": "ipython",
    "version": 3
   },
   "file_extension": ".py",
   "mimetype": "text/x-python",
   "name": "python",
   "nbconvert_exporter": "python",
   "pygments_lexer": "ipython3",
   "version": "3.9.5"
  }
 },
 "nbformat": 4,
 "nbformat_minor": 5
}
