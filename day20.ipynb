{
 "cells": [
  {
   "cell_type": "code",
   "execution_count": 1,
   "id": "a2a1e8bc-445d-4f47-aecc-3601b48e3267",
   "metadata": {},
   "outputs": [],
   "source": [
    "# Day 20 AOC Trench Map\n",
    "import numpy as np\n",
    "import matplotlib.pyplot as plt\n",
    "\n",
    "class Image:\n",
    "    def __init__(self, filename):\n",
    "        with open(input_file, \"r\") as fp:\n",
    "            f = fp.read()\n",
    "        ie, image = f.split(\"\\n\\n\")\n",
    "        self.pixel = {\n",
    "            \"#\" : 1,  # light\n",
    "            \".\" : 0   # dark\n",
    "        }\n",
    "        self.revpixel = {\n",
    "            1 : \"\\u2b1b\",  # light\n",
    "            0 : \"\\u2b1c\"   # dark\n",
    "        }\n",
    "        image_enhancement = [self.pixel[i] for i in list(ie)]\n",
    "        img = image.splitlines()\n",
    "        imgarray = np.zeros((len(img),len(img[0])), dtype=int)\n",
    "        for i in range(len(img)):\n",
    "            for j in range(len(img[0])):\n",
    "                imgarray[i,j] = self.pixel[img[i][j]]\n",
    "        self.image = imgarray\n",
    "        self.enhancement = image_enhancement\n",
    "        self.surrounding = 0\n",
    "\n",
    "    def enhance(self):\n",
    "        pad = np.pad(self.image, 2, constant_values=self.surrounding)\n",
    "\n",
    "        new_image = np.zeros(pad.shape, dtype=int)\n",
    "        for i in range(0, pad.shape[0] - 2):\n",
    "            for j in range(0, pad.shape[1] - 2):\n",
    "                sub_array = pad[i : i + 3, j : j + 3].flatten()\n",
    "                new_image[i, j] = self.enhancement[int(\"\".join([str(i) for i in sub_array]),2)]\n",
    "        self.image = new_image[0:-2, 0:-2]\n",
    "        self.surrounding = self.enhancement[int(9 * str(self.surrounding),2)]\n",
    "\n",
    "        return self.image, self.surrounding\n",
    "\n",
    "    def count_lit(self):\n",
    "        return np.sum(self.image)\n",
    "\n",
    "    def plot(self):\n",
    "        fig, ax = plt.subplots()\n",
    "        # marker = \"s\"\n",
    "        y,x = np.argwhere(self.image == 1).T\n",
    "        plt.scatter(x,y)\n",
    "        plt.gca().invert_yaxis()\n",
    "        plt.axis(\"off\")\n",
    "        plt.show()\n",
    "        \n",
    "    def __repr__(self): \n",
    "        s = \"\"\n",
    "        for i in range(self.image.shape[0]):\n",
    "            s = s + \"\".join([self.revpixel[self.image[i,j]] for j in range(self.image.shape[1])])+\"\\n\"\n",
    "        return s"
   ]
  },
  {
   "cell_type": "code",
   "execution_count": 2,
   "id": "f311ecaa-dd10-4286-81da-7ca25c24b469",
   "metadata": {},
   "outputs": [],
   "source": [
    "input_file = \"input_files/day20.test.txt\"\n",
    "image = Image(input_file)"
   ]
  },
  {
   "cell_type": "code",
   "execution_count": 3,
   "id": "cafb538d-31ae-4f63-9ee7-cc9101126449",
   "metadata": {},
   "outputs": [
    {
     "name": "stdout",
     "output_type": "stream",
     "text": [
      "⬜⬛⬛⬜⬛⬛⬜\n",
      "⬛⬜⬜⬛⬜⬛⬜\n",
      "⬛⬛⬜⬛⬜⬜⬛\n",
      "⬛⬛⬛⬛⬜⬜⬛\n",
      "⬜⬛⬜⬜⬛⬛⬜\n",
      "⬜⬜⬛⬛⬜⬜⬛\n",
      "⬜⬜⬜⬛⬜⬛⬜\n",
      "\n"
     ]
    }
   ],
   "source": [
    "image.enhance()\n",
    "print(image)"
   ]
  },
  {
   "cell_type": "code",
   "execution_count": 4,
   "id": "cc1ff4ee-6b2a-4045-8a97-acd6f1341831",
   "metadata": {},
   "outputs": [
    {
     "name": "stdout",
     "output_type": "stream",
     "text": [
      "⬜⬜⬜⬜⬜⬜⬜⬛⬜\n",
      "⬜⬛⬜⬜⬛⬜⬛⬜⬜\n",
      "⬛⬜⬛⬜⬜⬜⬛⬛⬛\n",
      "⬛⬜⬜⬜⬛⬛⬜⬛⬜\n",
      "⬛⬜⬜⬜⬜⬜⬛⬜⬛\n",
      "⬜⬛⬜⬛⬛⬛⬛⬛⬜\n",
      "⬜⬜⬛⬜⬛⬛⬛⬛⬛\n",
      "⬜⬜⬜⬛⬛⬜⬛⬛⬜\n",
      "⬜⬜⬜⬜⬛⬛⬛⬜⬜\n",
      "\n"
     ]
    }
   ],
   "source": [
    "image.enhance()\n",
    "print(image)"
   ]
  },
  {
   "cell_type": "code",
   "execution_count": 5,
   "id": "99676252",
   "metadata": {},
   "outputs": [
    {
     "name": "stdout",
     "output_type": "stream",
     "text": [
      "⬜⬜⬜⬜⬜⬜⬜⬜⬛⬛⬜\n",
      "⬜⬜⬛⬛⬜⬛⬜⬛⬛⬛⬜\n",
      "⬜⬛⬛⬛⬜⬜⬛⬜⬛⬜⬛\n",
      "⬛⬛⬛⬜⬜⬛⬜⬛⬜⬛⬛\n",
      "⬛⬛⬛⬛⬜⬛⬛⬜⬛⬜⬜\n",
      "⬛⬛⬛⬜⬜⬛⬜⬜⬜⬛⬛\n",
      "⬜⬛⬜⬛⬜⬜⬜⬜⬛⬜⬜\n",
      "⬜⬜⬛⬛⬜⬛⬜⬜⬛⬜⬛\n",
      "⬜⬜⬜⬛⬜⬛⬛⬛⬛⬜⬜\n",
      "⬜⬜⬜⬜⬛⬛⬛⬛⬜⬜⬜\n",
      "⬜⬜⬜⬜⬜⬛⬜⬛⬜⬜⬜\n",
      "\n"
     ]
    }
   ],
   "source": [
    "image.enhance()\n",
    "print(image)"
   ]
  },
  {
   "cell_type": "code",
   "execution_count": 6,
   "id": "6878f1fe-1a39-4ebf-8f96-92c26fd0004a",
   "metadata": {},
   "outputs": [
    {
     "data": {
      "text/plain": [
       "35"
      ]
     },
     "execution_count": 6,
     "metadata": {},
     "output_type": "execute_result"
    }
   ],
   "source": [
    "input_file = \"input_files/day20.test.txt\"\n",
    "image = Image(input_file)\n",
    "image.enhance()\n",
    "image.enhance()\n",
    "image.count_lit()\n",
    "# Test case, part 1: 35"
   ]
  },
  {
   "cell_type": "code",
   "execution_count": 7,
   "id": "a02f6ae3-c71e-4a96-92fc-1b32870c8834",
   "metadata": {},
   "outputs": [
    {
     "name": "stdout",
     "output_type": "stream",
     "text": [
      "Step 50, lit: 3351\n"
     ]
    }
   ],
   "source": [
    "image = Image(input_file)\n",
    "for i in range(50):\n",
    "    image.enhance()\n",
    "print(\"Step %d, lit: %d\" % (i+1, image.count_lit()))\n",
    "# Test case, part 2: 3551"
   ]
  },
  {
   "cell_type": "code",
   "execution_count": 8,
   "id": "3fff290c-e5b8-4390-bca2-f5b1ff54a82d",
   "metadata": {},
   "outputs": [
    {
     "data": {
      "text/plain": [
       "5663"
      ]
     },
     "execution_count": 8,
     "metadata": {},
     "output_type": "execute_result"
    }
   ],
   "source": [
    "input_file = \"input_files/day20.txt\"\n",
    "image = Image(input_file)\n",
    "image.enhance()\n",
    "image.enhance()\n",
    "image.count_lit()\n",
    "# Test case, part 1: 5663"
   ]
  },
  {
   "cell_type": "code",
   "execution_count": 9,
   "id": "15966466-d224-46fc-a2f8-758aa5c709d8",
   "metadata": {},
   "outputs": [
    {
     "name": "stdout",
     "output_type": "stream",
     "text": [
      "Step 50, lit: 19638\n"
     ]
    }
   ],
   "source": [
    "image = Image(input_file)\n",
    "for i in range(50):\n",
    "    image.enhance()\n",
    "print(\"Step %d, lit: %d\" % (i + 1, image.count_lit()))\n",
    "# Expecting 19638"
   ]
  },
  {
   "cell_type": "code",
   "execution_count": 10,
   "id": "549276f4",
   "metadata": {},
   "outputs": [
    {
     "data": {
      "image/png": "[encoded data removed]",
      "text/plain": [
       "<Figure size 432x288 with 1 Axes>"
      ]
     },
     "metadata": {
      "needs_background": "light"
     },
     "output_type": "display_data"
    }
   ],
   "source": [
    "image.plot()"
   ]
  },
  {
   "cell_type": "code",
   "execution_count": null,
   "id": "b7ae8551",
   "metadata": {},
   "outputs": [],
   "source": []
  }
 ],
 "metadata": {
  "kernelspec": {
   "display_name": "Python 3 (ipykernel)",
   "language": "python",
   "name": "python3"
  },
  "language_info": {
   "codemirror_mode": {
    "name": "ipython",
    "version": 3
   },
   "file_extension": ".py",
   "mimetype": "text/x-python",
   "name": "python",
   "nbconvert_exporter": "python",
   "pygments_lexer": "ipython3",
   "version": "3.9.5"
  }
 },
 "nbformat": 4,
 "nbformat_minor": 5
}
