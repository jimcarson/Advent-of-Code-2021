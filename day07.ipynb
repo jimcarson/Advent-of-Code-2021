{
 "cells": [
  {
   "cell_type": "code",
   "execution_count": 1,
   "id": "3eb6b14a-b529-4eaa-841c-1366837c71ce",
   "metadata": {},
   "outputs": [],
   "source": [
    "# Advent of Code, Day 7 - Jim Carson. \n",
    "import numpy as np\n",
    "\n",
    "# Roll up input into lifecycle : quantity\n",
    "def parse(puzzle_input):\n",
    "    with open(puzzle_input,\"r\") as fp:\n",
    "        f = fp.read()\n",
    "    return np.array([int(i) for i in f.split(\",\")])"
   ]
  },
  {
   "cell_type": "code",
   "execution_count": 2,
   "id": "3d6e77b8-1c9a-4b47-a75f-aaab041e609b",
   "metadata": {},
   "outputs": [],
   "source": [
    "testdata = parse(\"input_files/day07.test.txt\")\n",
    "data = parse(\"input_files/day07.txt\")"
   ]
  },
  {
   "cell_type": "code",
   "execution_count": 3,
   "id": "617ef424",
   "metadata": {},
   "outputs": [],
   "source": [
    "dist = { i : i * (i + 1) / 2 for i in range(min(data), max(data)+1 )}"
   ]
  },
  {
   "cell_type": "code",
   "execution_count": 4,
   "id": "309db0e0-e5ef-4df6-a363-5fe17e71cc7c",
   "metadata": {},
   "outputs": [],
   "source": [
    "def fuel_calc(l, pos):\n",
    "    return np.sum(abs(l - pos))\n",
    "\n",
    "def find_min_pos(d, increasing = False):\n",
    "    dist = {}\n",
    "    s = 0\n",
    "    for i in range(min(d), max(d) + 1):\n",
    "        dist[i] = s\n",
    "        if increasing:\n",
    "            s = s + (i - 1) + 1\n",
    "        else: \n",
    "            s = 1\n",
    "    fpos = np.inf\n",
    "    min_value = np.inf\n",
    "    for i in range(min(d), max(d)):\n",
    "        f = fuel_calc(d,i)\n",
    "        if f < min_value:\n",
    "            fpos = i\n",
    "            min_value = f\n",
    "    return(fpos, min_value)"
   ]
  },
  {
   "cell_type": "code",
   "execution_count": 5,
   "id": "81715824",
   "metadata": {},
   "outputs": [
    {
     "name": "stdout",
     "output_type": "stream",
     "text": [
      "2 37\n"
     ]
    }
   ],
   "source": [
    "# part 1, test slot 2, cost 37\n",
    "f,m = find_min_pos(testdata)\n",
    "print(f,m)"
   ]
  },
  {
   "cell_type": "code",
   "execution_count": 6,
   "id": "ad78d19d",
   "metadata": {},
   "outputs": [
    {
     "name": "stdout",
     "output_type": "stream",
     "text": [
      "323 336040\n"
     ]
    }
   ],
   "source": [
    "# part 1, 323, cost 336,040\n",
    "f,m = find_min_pos(data)\n",
    "print(f,m)"
   ]
  },
  {
   "cell_type": "code",
   "execution_count": 7,
   "id": "b0a8da4f",
   "metadata": {},
   "outputs": [],
   "source": [
    "def find_min_pos2(d):\n",
    "    fpos = max(d)\n",
    "    min_value = np.inf\n",
    "    for i in range(min(d), max(d)):\n",
    "        f = fuel_calc2(d,i)\n",
    "        if f < min_value:\n",
    "            print(i,f)\n",
    "            fpos = i\n",
    "            min_value = f\n",
    "    return(fpos, min_value)"
   ]
  },
  {
   "cell_type": "code",
   "execution_count": 8,
   "id": "3b130673",
   "metadata": {},
   "outputs": [],
   "source": [
    "def fuel_calc2(d):\n",
    "    fpos = max(d)\n",
    "    mpos = min(d)\n",
    "    qpos = 0\n",
    "    mindist = np.inf\n",
    "    for i in range(mpos, fpos+1):\n",
    "        s = 0\n",
    "        for j in d:         \n",
    "            s = s + dist[abs(i-j)]\n",
    "        if s < mindist:\n",
    "            # print(qpos, mindist)\n",
    "            mindist = s\n",
    "            qpos = i\n",
    "    print(qpos, mindist)"
   ]
  },
  {
   "cell_type": "code",
   "execution_count": 9,
   "id": "dd1a7bf1",
   "metadata": {},
   "outputs": [
    {
     "name": "stdout",
     "output_type": "stream",
     "text": [
      "5 168.0\n"
     ]
    }
   ],
   "source": [
    "fuel_calc2(testdata)\n",
    "# 168"
   ]
  },
  {
   "cell_type": "code",
   "execution_count": 10,
   "id": "dfaa7c82",
   "metadata": {},
   "outputs": [
    {
     "name": "stdout",
     "output_type": "stream",
     "text": [
      "463 94813675.0\n"
     ]
    }
   ],
   "source": [
    "fuel_calc2(data) \n",
    "# 94813675"
   ]
  },
  {
   "cell_type": "code",
   "execution_count": null,
   "id": "e892e3e8",
   "metadata": {},
   "outputs": [],
   "source": []
  }
 ],
 "metadata": {
  "kernelspec": {
   "display_name": "Python 3 (ipykernel)",
   "language": "python",
   "name": "python3"
  },
  "language_info": {
   "codemirror_mode": {
    "name": "ipython",
    "version": 3
   },
   "file_extension": ".py",
   "mimetype": "text/x-python",
   "name": "python",
   "nbconvert_exporter": "python",
   "pygments_lexer": "ipython3",
   "version": "3.9.7"
  }
 },
 "nbformat": 4,
 "nbformat_minor": 5
}
