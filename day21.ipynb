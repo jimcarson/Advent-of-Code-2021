{
 "cells": [
  {
   "cell_type": "code",
   "execution_count": 1,
   "id": "3a388c12",
   "metadata": {},
   "outputs": [],
   "source": [
    "# Day 21 Dirac Dice"
   ]
  },
  {
   "cell_type": "code",
   "execution_count": 2,
   "id": "e540ba41",
   "metadata": {},
   "outputs": [],
   "source": [
    "from itertools import product, cycle, islice\n",
    "\n",
    "def parse_file(input_file):\n",
    "    with open(input_file) as fp:\n",
    "        f = fp.read()\n",
    "    p = f.splitlines()\n",
    "    startpos = [int(i.split()[-1]) for i in p]\n",
    "    return startpos\n",
    "\n",
    "# Roll three 3-sided dice, return sum as an iterator\n",
    "def quantum_dice(dievalues = [1, 2, 3], ntimes=3):\n",
    "    for _ in product(dievalues, repeat=ntimes):\n",
    "        yield sum(list(_))\n",
    "\n",
    "# Like modulo, but values go from 1 .. modulo, inclusive.\n",
    "def mod1(n, modulo = 10):\n",
    "    return (n - 1) % modulo + 1"
   ]
  },
  {
   "cell_type": "code",
   "execution_count": 3,
   "id": "903c920e",
   "metadata": {},
   "outputs": [
    {
     "name": "stdout",
     "output_type": "stream",
     "text": [
      "805932\n"
     ]
    }
   ],
   "source": [
    "player_position = parse_file(\"input_files/day21.txt\")\n",
    "deterministic_die = cycle(range(1, 101))\n",
    "player = cycle([0,1])\n",
    "\n",
    "rolls, player, player_score = 0, 0, [0, 0]\n",
    "while True:\n",
    "    rolls += 3\n",
    "    player_position[player] = mod1(player_position[player] + sum(islice(deterministic_die, 3)))\n",
    "    player_score[player] += player_position[player]\n",
    "    if player_score[player] >= 1000:\n",
    "        break\n",
    "    player = int(not(player))\n",
    "    \n",
    "# part 1 805932\n",
    "print(rolls * min(player_score))"
   ]
  },
  {
   "cell_type": "code",
   "execution_count": 4,
   "id": "dd988ac9",
   "metadata": {},
   "outputs": [],
   "source": [
    "def universe(position_A, position_B, score_A = 0, score_B = 0):\n",
    "    u = (position_A, position_B, score_A, score_B)\n",
    "    # if this universe has been visited, stop\n",
    "    if u in universes:\n",
    "        return universes[u]\n",
    "    \n",
    "    player_score = [0, 0]\n",
    "    for roll in quantum_dice():\n",
    "        position = mod1(position_A + roll)\n",
    "        score = score_A + position\n",
    "        if score >= 21:\n",
    "            player_score[0] += 1\n",
    "        else:\n",
    "            # Now switch players and call recursively.\n",
    "            (s1, s0) = universe(position_B, position, score_B, score)\n",
    "            player_score[0] += s0\n",
    "            player_score[1] += s1\n",
    "    universes[u] = player_score\n",
    "    return player_score"
   ]
  },
  {
   "cell_type": "code",
   "execution_count": 5,
   "id": "79145cb4",
   "metadata": {},
   "outputs": [
    {
     "name": "stdout",
     "output_type": "stream",
     "text": [
      "444356092776315\n"
     ]
    }
   ],
   "source": [
    "player_position = parse_file(\"input_files/day21.test.txt\")\n",
    "universes = {}\n",
    "scores = universe(player_position[0], player_position[1])\n",
    "print(max(scores))\n",
    "# 444356092776315\n",
    "# print(len(universes))"
   ]
  },
  {
   "cell_type": "code",
   "execution_count": 6,
   "id": "f920c5b2",
   "metadata": {},
   "outputs": [
    {
     "name": "stdout",
     "output_type": "stream",
     "text": [
      "133029050096658\n"
     ]
    }
   ],
   "source": [
    "player_position = parse_file(\"input_files/day21.txt\")\n",
    "universes = {}\n",
    "scores = universe(player_position[0], player_position[1])\n",
    "print(max(scores))\n",
    "# 133029050096658\n",
    "# print(len(universes))"
   ]
  },
  {
   "cell_type": "code",
   "execution_count": 7,
   "id": "0378a774",
   "metadata": {},
   "outputs": [
    {
     "data": {
      "text/plain": [
       "17031"
      ]
     },
     "execution_count": 7,
     "metadata": {},
     "output_type": "execute_result"
    }
   ],
   "source": [
    "len(universes)"
   ]
  },
  {
   "cell_type": "code",
   "execution_count": null,
   "id": "7aa47d36",
   "metadata": {},
   "outputs": [],
   "source": []
  }
 ],
 "metadata": {
  "kernelspec": {
   "display_name": "Python 3 (ipykernel)",
   "language": "python",
   "name": "python3"
  },
  "language_info": {
   "codemirror_mode": {
    "name": "ipython",
    "version": 3
   },
   "file_extension": ".py",
   "mimetype": "text/x-python",
   "name": "python",
   "nbconvert_exporter": "python",
   "pygments_lexer": "ipython3",
   "version": "3.9.7"
  }
 },
 "nbformat": 4,
 "nbformat_minor": 5
}
