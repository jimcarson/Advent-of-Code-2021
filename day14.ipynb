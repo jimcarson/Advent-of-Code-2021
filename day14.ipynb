{
 "cells": [
  {
   "cell_type": "code",
   "execution_count": 1,
   "id": "fe758c29",
   "metadata": {},
   "outputs": [],
   "source": [
    "# Advent of Code, Extended Polymerization Day 14 - Jim Carson. \n",
    "# \n",
    "from collections import defaultdict\n",
    "DEBUG = False\n",
    "def parse(f):\n",
    "    with open(f,\"r\") as fp:\n",
    "        f = fp.read()\n",
    "    pt, tmp = f.split(\"\\n\\n\")\n",
    "    pir = {}\n",
    "    for i in tmp.splitlines():\n",
    "        adjacents, v = i.split(\" -> \")\n",
    "        pir[adjacents] = v\n",
    "    return pt, pir\n",
    "\n",
    "# First, brute-force method.\n",
    "def add_poly(pairs, transitions):\n",
    "    t = [pairs[i:i+2] for i in range(len(pairs)-1)]\n",
    "    newpoly = []\n",
    "    for i in t:\n",
    "        newpoly.append(i[0]+transitions[i])\n",
    "        if DEBUG:\n",
    "            print(\"DEBUG: %s -> %s = %s\" % (i, transitions[i], newpoly))\n",
    "    newpoly.append(i[1])\n",
    "    return \"\".join([i for i in newpoly])\n",
    "\n",
    "# Using just the keys\n",
    "def poly(pairs, transitions):\n",
    "    new_pairs = defaultdict(int)\n",
    "    for pair in pairs:\n",
    "        tmp = pair[0] + transitions[pair]\n",
    "        new_pairs[tmp] += pairs[pair]\n",
    "        tmp = transitions[pair] + pair[1]\n",
    "        new_pairs[tmp] += pairs[pair]\n",
    "    return new_pairs\n",
    "\n",
    "def score(pairs):\n",
    "    l_element = defaultdict(int)\n",
    "    r_element = defaultdict(int)\n",
    "    for i in pairs:\n",
    "        l = i[0]\n",
    "        r = i[1]\n",
    "        l_element[l] = l_element[l] + pairs[i]\n",
    "        r_element[r] = r_element[r] + pairs[i]\n",
    "\n",
    "    scores = defaultdict(int)\n",
    "    for i in set(l_element) | set(r_element):\n",
    "        scores[i] = max(l_element[i], r_element[i])\n",
    "    return max(scores.values()) - min(scores.values())"
   ]
  },
  {
   "cell_type": "code",
   "execution_count": 2,
   "id": "c1d09d3e",
   "metadata": {},
   "outputs": [
    {
     "name": "stdout",
     "output_type": "stream",
     "text": [
      "Part 1: 2435\n"
     ]
    }
   ],
   "source": [
    "# Part 1, original implementation: 2435\n",
    "pairs, transitions = parse(\"input_files/day14.txt\")\n",
    "for i in range(10):\n",
    "    pairs = add_poly(pairs, transitions)\n",
    "wordlist = defaultdict(int)\n",
    "for i in range(len(pairs)):\n",
    "    wordlist[pairs[i]] += 1\n",
    "final_list = (sorted(wordlist.items(), key=lambda item: item[1]))\n",
    "print(\"Part 1: %d\" % (final_list[-1][1] - final_list[0][1]))"
   ]
  },
  {
   "cell_type": "code",
   "execution_count": 3,
   "id": "a12d3ed0",
   "metadata": {},
   "outputs": [
    {
     "name": "stdout",
     "output_type": "stream",
     "text": [
      "2435\n"
     ]
    }
   ],
   "source": [
    "# Part 1, faster implementation\n",
    "start_poly, pir = parse(\"input_files/day14.txt\")\n",
    "pairs = defaultdict(int)\n",
    "for l, r in zip(start_poly, start_poly[1:]):\n",
    "    pairs[l + r] += 1\n",
    "\n",
    "for i in range(10):\n",
    "    pairs = poly(pairs, transitions)\n",
    "\n",
    "print(score(pairs))"
   ]
  },
  {
   "cell_type": "code",
   "execution_count": 4,
   "id": "8892e25e",
   "metadata": {},
   "outputs": [
    {
     "name": "stdout",
     "output_type": "stream",
     "text": [
      "2587447599164\n"
     ]
    }
   ],
   "source": [
    "# Part 2, faster implementation: 2587447599164\n",
    "start_poly, pir = parse(\"input_files/day14.txt\")\n",
    "pairs = defaultdict(int)\n",
    "for l, r in zip(start_poly, start_poly[1:]):\n",
    "    pairs[l + r] += 1\n",
    "\n",
    "for i in range(40):\n",
    "    pairs = poly(pairs, transitions)\n",
    "\n",
    "print(score(pairs))"
   ]
  },
  {
   "cell_type": "code",
   "execution_count": null,
   "id": "915801f0",
   "metadata": {},
   "outputs": [],
   "source": []
  }
 ],
 "metadata": {
  "kernelspec": {
   "display_name": "Python 3 (ipykernel)",
   "language": "python",
   "name": "python3"
  },
  "language_info": {
   "codemirror_mode": {
    "name": "ipython",
    "version": 3
   },
   "file_extension": ".py",
   "mimetype": "text/x-python",
   "name": "python",
   "nbconvert_exporter": "python",
   "pygments_lexer": "ipython3",
   "version": "3.9.7"
  }
 },
 "nbformat": 4,
 "nbformat_minor": 5
}
