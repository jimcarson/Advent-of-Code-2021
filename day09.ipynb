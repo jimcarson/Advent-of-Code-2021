{
 "cells": [
  {
   "cell_type": "code",
   "execution_count": 1,
   "id": "3eb6b14a-b529-4eaa-841c-1366837c71ce",
   "metadata": {},
   "outputs": [],
   "source": [
    "# Advent of Code, Day 9 - Jim Carson. \n",
    "import numpy as np\n",
    "import pandas as pd\n",
    "def parse(puzzle_input):\n",
    "    with open(puzzle_input,\"r\") as fp:\n",
    "        f = fp.read()\n",
    "    r = f.splitlines()\n",
    "    return np.array([list(i) for i in r]).astype(int)"
   ]
  },
  {
   "cell_type": "code",
   "execution_count": 2,
   "id": "b6c61ff2",
   "metadata": {},
   "outputs": [],
   "source": [
    "def get_neighbors(d, r, c):\n",
    "    points = set()\n",
    "    for row, column in [ (r - 1, c), (r + 1, c), (r, c - 1), (r, c + 1)]:\n",
    "        if 0 <= row < d.shape[0] and 0 <= column < d.shape[1]:\n",
    "            points.add((row, column))\n",
    "    return points\n",
    "\n",
    "def is_lowpoint(d, r, c):\n",
    "    for p in get_neighbors(d,r,c):\n",
    "        if d[r,c] >= data[p]:\n",
    "            return False\n",
    "    return True"
   ]
  },
  {
   "cell_type": "code",
   "execution_count": 3,
   "id": "ea0243df",
   "metadata": {},
   "outputs": [],
   "source": [
    "def heightmap(data):\n",
    "    x_max = data.shape[0]\n",
    "    y_max = data.shape[1]\n",
    "    z = np.zeros((x_max, y_max), dtype = float)\n",
    "    for i in range(x_max):\n",
    "        for j in range(y_max):\n",
    "            if is_lowpoint(data, i,j):\n",
    "                z[i,j] = data[i,j]\n",
    "            else:\n",
    "                z[i,j] = np.nan\n",
    "    return(z)"
   ]
  },
  {
   "cell_type": "code",
   "execution_count": 4,
   "id": "b13f2f63",
   "metadata": {},
   "outputs": [],
   "source": [
    "# Credit Rodrigo (RojerGS) for the elegant way of doing this in\n",
    "# a while loop and sets.   *much* cleaner than what I had last night@\n",
    "def find_basin(d, p):\n",
    "    todo, done, basin = {p}, set(), set()\n",
    "    while todo:\n",
    "        p = todo.pop()\n",
    "        if d[p] == 9:\n",
    "            continue\n",
    "        basin.add(p)\n",
    "        n = get_neighbors(d, *p)\n",
    "        todo.update(n - done)\n",
    "        done.update(n)\n",
    "    return basin"
   ]
  },
  {
   "cell_type": "code",
   "execution_count": 5,
   "id": "2dc852c8",
   "metadata": {},
   "outputs": [
    {
     "name": "stdout",
     "output_type": "stream",
     "text": [
      "15.0\n"
     ]
    }
   ],
   "source": [
    "# Test case 15\n",
    "data = parse(\"input_files/day09.test.txt\")\n",
    "z = heightmap(data)\n",
    "print(np.nansum(z)+np.sum(z >= 0))"
   ]
  },
  {
   "cell_type": "code",
   "execution_count": 6,
   "id": "427458e7-f5c2-426a-9a80-d2a60ebf72b0",
   "metadata": {},
   "outputs": [
    {
     "name": "stdout",
     "output_type": "stream",
     "text": [
      "566.0\n"
     ]
    }
   ],
   "source": [
    "data = parse(\"input_files/day09.txt\")\n",
    "z = heightmap(data)\n",
    "# part 1: 566\n",
    "print(np.nansum(z)+np.sum(z >= 0))"
   ]
  },
  {
   "cell_type": "code",
   "execution_count": 7,
   "id": "b9982bc4",
   "metadata": {},
   "outputs": [],
   "source": [
    "basin_locations = {}\n",
    "# Number our basins\n",
    "low_number = 0\n",
    "for row in range(z.shape[0]):\n",
    "    for col in range(z.shape[1]):\n",
    "        if not np.isnan(z[row,col]):\n",
    "            basin_locations[low_number] = (row, col)\n",
    "            z[row,col] = low_number\n",
    "            low_number = low_number + 1"
   ]
  },
  {
   "cell_type": "code",
   "execution_count": 8,
   "id": "4a71b358",
   "metadata": {},
   "outputs": [],
   "source": [
    "basin_sizes = {}\n",
    "for k,v in basin_locations.items():\n",
    "    f = find_basin(data, v)\n",
    "    basin_sizes[k] = len(f)"
   ]
  },
  {
   "cell_type": "code",
   "execution_count": 9,
   "id": "4e57aabc",
   "metadata": {},
   "outputs": [],
   "source": [
    "three_smallest_basins = sorted(basin_sizes.items(), key=lambda x: x[1], reverse=True)[:3]"
   ]
  },
  {
   "cell_type": "code",
   "execution_count": 10,
   "id": "fc2d6a17",
   "metadata": {},
   "outputs": [
    {
     "name": "stdout",
     "output_type": "stream",
     "text": [
      "891684\n"
     ]
    }
   ],
   "source": [
    "product = 1\n",
    "for i,v in three_smallest_basins:\n",
    "    # print(\"Basin %d has size %d\" % (i,v))\n",
    "    product *= v\n",
    "    \n",
    "# 891684\n",
    "print(product)"
   ]
  },
  {
   "cell_type": "code",
   "execution_count": null,
   "id": "8a7b9de6",
   "metadata": {},
   "outputs": [],
   "source": []
  }
 ],
 "metadata": {
  "kernelspec": {
   "display_name": "Python 3 (ipykernel)",
   "language": "python",
   "name": "python3"
  },
  "language_info": {
   "codemirror_mode": {
    "name": "ipython",
    "version": 3
   },
   "file_extension": ".py",
   "mimetype": "text/x-python",
   "name": "python",
   "nbconvert_exporter": "python",
   "pygments_lexer": "ipython3",
   "version": "3.9.7"
  }
 },
 "nbformat": 4,
 "nbformat_minor": 5
}
