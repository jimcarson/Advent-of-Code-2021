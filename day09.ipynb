{
 "cells": [
  {
   "cell_type": "code",
   "execution_count": 1,
   "id": "3eb6b14a-b529-4eaa-841c-1366837c71ce",
   "metadata": {},
   "outputs": [],
   "source": [
    "# Advent of Code, Day 9 - Jim Carson. \n",
    "import numpy as np\n",
    "\n",
    "WALL = 9\n",
    "\n",
    "def parse(puzzle_input):\n",
    "    with open(puzzle_input,\"r\") as fp:\n",
    "        f = fp.read().splitlines()\n",
    "    return np.array([list(i) for i in f]).astype(int)\n",
    "\n",
    "# \n",
    "# Given an array and initial point, find the set of points around it.\n",
    "#\n",
    "def get_neighbors(d, r, c):\n",
    "    points = set()\n",
    "    for row, column in [ (r-1, c), (r+1, c), (r, c-1), (r, c+1)]:\n",
    "        if 0 <= row < d.shape[0] and 0 <= column < d.shape[1]:\n",
    "            points.add((row, column))\n",
    "    return points\n",
    "\n",
    "#\n",
    "# Determine whether a given point is the lowest among its cardinal\n",
    "# adjacents.\n",
    "#\n",
    "def is_lowpoint(d, r, c):\n",
    "    for p in get_neighbors(d,r,c):\n",
    "        if d[r,c] >= data[p]:\n",
    "            return False\n",
    "    return True\n",
    "\n",
    "def heightmap(d):\n",
    "    x_max = d.shape[0]\n",
    "    y_max = d.shape[1]\n",
    "    z = np.zeros((x_max, y_max), dtype = float)\n",
    "    for i in range(x_max):\n",
    "        for j in range(y_max):\n",
    "            if is_lowpoint(d, i,j):\n",
    "                z[i,j] = d[i,j]\n",
    "            else:\n",
    "                z[i,j] = np.nan\n",
    "    return(z)\n",
    "#\n",
    "# Given an array and a point, find the \"basin,\" which in this problem\n",
    "# is the set of cardinal adjacent points that are less than 9\n",
    "# Credit Rodrigo (RojerGS) for the elegant way of doing this in\n",
    "# a while loop and sets.  *much* cleaner than what I had last night\n",
    "#\n",
    "def find_basin(d, p):\n",
    "    todo, done, basin = {p}, set(), set()\n",
    "    while todo:\n",
    "        p = todo.pop()\n",
    "        if d[p] == WALL:\n",
    "            continue\n",
    "        basin.add(p)\n",
    "        n = get_neighbors(d, *p)\n",
    "        todo.update(n - done)\n",
    "        done.update(n)\n",
    "    return basin"
   ]
  },
  {
   "cell_type": "code",
   "execution_count": 2,
   "id": "2dc852c8",
   "metadata": {},
   "outputs": [
    {
     "name": "stdout",
     "output_type": "stream",
     "text": [
      "15.0\n",
      "566.0\n"
     ]
    }
   ],
   "source": [
    "# Test case 15\n",
    "data = parse(\"input_files/day09.test.txt\")\n",
    "z = heightmap(data)\n",
    "print(np.nansum(z)+np.sum(z >= 0))\n",
    "\n",
    "# part 1: 566\n",
    "data = parse(\"input_files/day09.txt\")\n",
    "z = heightmap(data)\n",
    "print(np.nansum(z)+np.sum(z >= 0))"
   ]
  },
  {
   "cell_type": "code",
   "execution_count": 3,
   "id": "b9982bc4",
   "metadata": {},
   "outputs": [],
   "source": [
    "# Number our basins based on the low-points we've calculated before.\n",
    "basin_locations = {}\n",
    "low_number = 0\n",
    "for row in range(z.shape[0]):\n",
    "    for col in range(z.shape[1]):\n",
    "        if not np.isnan(z[row,col]):\n",
    "            basin_locations[low_number] = (row, col)\n",
    "            z[row,col] = low_number\n",
    "            low_number = low_number + 1\n",
    "\n",
    "# For each lowpoint, find the basin's size.\n",
    "basin_sizes = { k: len(find_basin(data,v)) for k,v in basin_locations.items()}"
   ]
  },
  {
   "cell_type": "code",
   "execution_count": 4,
   "id": "fc2d6a17",
   "metadata": {},
   "outputs": [
    {
     "data": {
      "text/plain": [
       "891684"
      ]
     },
     "execution_count": 4,
     "metadata": {},
     "output_type": "execute_result"
    }
   ],
   "source": [
    "# Part 2: 891684\n",
    "\n",
    "np.product(sorted(basin_sizes.values(), key=lambda x:x, reverse=True)[:3])"
   ]
  },
  {
   "cell_type": "code",
   "execution_count": null,
   "id": "fa36dbec",
   "metadata": {},
   "outputs": [],
   "source": []
  }
 ],
 "metadata": {
  "kernelspec": {
   "display_name": "Python 3 (ipykernel)",
   "language": "python",
   "name": "python3"
  },
  "language_info": {
   "codemirror_mode": {
    "name": "ipython",
    "version": 3
   },
   "file_extension": ".py",
   "mimetype": "text/x-python",
   "name": "python",
   "nbconvert_exporter": "python",
   "pygments_lexer": "ipython3",
   "version": "3.9.7"
  }
 },
 "nbformat": 4,
 "nbformat_minor": 5
}
