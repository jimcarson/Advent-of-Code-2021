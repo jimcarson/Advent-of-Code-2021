{
 "cells": [
  {
   "cell_type": "code",
   "execution_count": 1,
   "id": "ca19f397",
   "metadata": {},
   "outputs": [],
   "source": [
    "import numpy as np\n",
    "import re\n",
    "from collections import Counter\n",
    "\n",
    "from rich.jupyter import print as rprint\n",
    "\n",
    "def parse(input_file):\n",
    "    with open(input_file,\"r\") as fp:\n",
    "        f = fp.read()\n",
    "    return f.splitlines()\n",
    "\n",
    "def get_range(lo, hi, limits = [-50, 50]):\n",
    "    return range(max(lo, limits[0]), min(hi, limits[1]) + 1)"
   ]
  },
  {
   "cell_type": "code",
   "execution_count": 2,
   "id": "aaa4f3e5",
   "metadata": {},
   "outputs": [
    {
     "data": {
      "text/html": [
       "<pre style=\"white-space:pre;overflow-x:auto;line-height:normal;font-family:Menlo,'DejaVu Sans Mono',consolas,'Courier New',monospace\"><span style=\"color: #008080; text-decoration-color: #008080; font-weight: bold\">590784</span>\n",
       "</pre>\n"
      ],
      "text/plain": [
       "\u001b[1;36m590784\u001b[0m\n"
      ]
     },
     "metadata": {},
     "output_type": "display_data"
    }
   ],
   "source": [
    "lines = parse(\"input_files/day22.test.txt\")\n",
    "cubes = set()\n",
    "\n",
    "for i in lines:\n",
    "    toggle, data = i.split()\n",
    "    (xlo, xhi, ylo, yhi, zlo, zhi) = map(int, re.findall(\"-?\\d+\", data))\n",
    "    # rprint(xlo, xhi, ylo, yhi, zlo, zhi)\n",
    "    f = cubes.add\n",
    "    if toggle == \"off\":\n",
    "        f = cubes.discard # to not generate exception if it's not already on\n",
    "    for x in get_range(xlo,xhi):\n",
    "        for y in get_range(ylo,yhi):\n",
    "            for z in get_range(zlo,zhi):\n",
    "                f((x,y,z))\n",
    "rprint(len(cubes))\n",
    "# 590784"
   ]
  },
  {
   "cell_type": "code",
   "execution_count": 3,
   "id": "b9dc835f",
   "metadata": {},
   "outputs": [
    {
     "data": {
      "text/html": [
       "<pre style=\"white-space:pre;overflow-x:auto;line-height:normal;font-family:Menlo,'DejaVu Sans Mono',consolas,'Courier New',monospace\"><span style=\"color: #008080; text-decoration-color: #008080; font-weight: bold\">527915</span>\n",
       "</pre>\n"
      ],
      "text/plain": [
       "\u001b[1;36m527915\u001b[0m\n"
      ]
     },
     "metadata": {},
     "output_type": "display_data"
    }
   ],
   "source": [
    "lines = parse(\"input_files/day22.txt\")\n",
    "cubes = set()\n",
    "\n",
    "for i in lines:\n",
    "    toggle, data = i.split()\n",
    "    (xlo, xhi, ylo, yhi, zlo, zhi) = map(int, re.findall(\"-?\\d+\", data))\n",
    "    # rprint(xlo, xhi, ylo, yhi, zlo, zhi)\n",
    "    f = cubes.add\n",
    "    if toggle == \"off\":\n",
    "        f = cubes.discard # to not generate exception if it's not already on\n",
    "    for x in get_range(xlo,xhi):\n",
    "        for y in get_range(ylo,yhi):\n",
    "            for z in get_range(zlo,zhi):\n",
    "                f((x,y,z))\n",
    "rprint(len(cubes))\n",
    "# 527915"
   ]
  },
  {
   "cell_type": "code",
   "execution_count": 4,
   "id": "66092130",
   "metadata": {},
   "outputs": [
    {
     "data": {
      "text/html": [
       "<pre style=\"white-space:pre;overflow-x:auto;line-height:normal;font-family:Menlo,'DejaVu Sans Mono',consolas,'Courier New',monospace\"><span style=\"color: #008080; text-decoration-color: #008080; font-weight: bold\">1218645427221987</span>\n",
       "</pre>\n"
      ],
      "text/plain": [
       "\u001b[1;36m1218645427221987\u001b[0m\n"
      ]
     },
     "metadata": {},
     "output_type": "display_data"
    }
   ],
   "source": [
    "lines = parse('input_files/day22.txt')\n",
    "limits = [-np.inf, np.inf]\n",
    "cubes = set()\n",
    "\n",
    "cubes = Counter()\n",
    "for l in lines:\n",
    "    toggle, data = l.split()\n",
    "    (xlo, xhi, ylo, yhi, zlo, zhi) = map(int, re.findall(\"-?\\d+\", data))\n",
    "    sign = 1\n",
    "    if toggle == \"off\":\n",
    "        sign = -1\n",
    "\n",
    "    update = Counter()\n",
    "    for ((l_xlo, l_xhi, l_ylo, l_yhi, l_zlo, l_zhi,), l_sgn) in cubes.items():\n",
    "        tmp_xlo, tmp_xhi = max(xlo, l_xlo), min(xhi, l_xhi)\n",
    "        tmp_ylo, tmp_yhi = max(ylo, l_ylo), min(yhi, l_yhi)\n",
    "        tmp_zlo, tmp_zhi = max(zlo, l_zlo), min(zhi, l_zhi)\n",
    "        if tmp_xlo <= tmp_xhi and tmp_ylo <= tmp_yhi and tmp_zlo <= tmp_zhi:\n",
    "            update[( tmp_xlo, tmp_xhi, tmp_ylo, tmp_yhi, tmp_zlo, tmp_zhi,)] += -l_sgn\n",
    "    if sign > 0:\n",
    "        update[( xlo, xhi, ylo, yhi, zlo, zhi,)] += sign\n",
    "    cubes.update(update)\n",
    "\n",
    "# rprint(cubes)\n",
    "\n",
    "total = 0\n",
    "for ( xlo, xhi, ylo, yhi, zlo, zhi,), sgn in cubes.items():\n",
    "     total = total + ((xhi - xlo + 1) * (yhi - ylo + 1) * (zhi - zlo + 1) * sgn )\n",
    "rprint(total)\n",
    "# 1218645427221987"
   ]
  },
  {
   "cell_type": "code",
   "execution_count": null,
   "id": "236451ec",
   "metadata": {},
   "outputs": [],
   "source": []
  }
 ],
 "metadata": {
  "kernelspec": {
   "display_name": "Python 3 (ipykernel)",
   "language": "python",
   "name": "python3"
  },
  "language_info": {
   "codemirror_mode": {
    "name": "ipython",
    "version": 3
   },
   "file_extension": ".py",
   "mimetype": "text/x-python",
   "name": "python",
   "nbconvert_exporter": "python",
   "pygments_lexer": "ipython3",
   "version": "3.9.7"
  }
 },
 "nbformat": 4,
 "nbformat_minor": 5
}
