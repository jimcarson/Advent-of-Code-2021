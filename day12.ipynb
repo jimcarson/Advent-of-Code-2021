{
 "cells": [
  {
   "cell_type": "code",
   "execution_count": 1,
   "id": "3eb6b14a-b529-4eaa-841c-1366837c71ce",
   "metadata": {},
   "outputs": [],
   "source": [
    "# Advent of Code, Passage Pathing Day 12 - Jim Carson. \n",
    "from collections import defaultdict, deque\n",
    "DEBUG = False\n",
    "def parse(puzzle_input):\n",
    "    Caves = defaultdict(list)\n",
    "    IsSmallCave = defaultdict()\n",
    "    # Start: ['HN', 'kj', 'dc'] True\n",
    "    # End:   ['dc', 'HN'] True\n",
    "    with open(puzzle_input,\"r\") as fp:\n",
    "        f = fp.read()\n",
    "    for _ in f.splitlines():\n",
    "        c1, c2 = _.split(\"-\")\n",
    "        Caves[c1].append(c2)\n",
    "        Caves[c2].append(c1)\n",
    "        IsSmallCave[c1] = c1 == c1.lower()\n",
    "        IsSmallCave[c2] = c2 == c2.lower()\n",
    "    return Caves, IsSmallCave"
   ]
  },
  {
   "cell_type": "code",
   "execution_count": 2,
   "id": "5a3e9eb4",
   "metadata": {},
   "outputs": [],
   "source": [
    "if DEBUG:\n",
    "    Caves, IsSmallCave = parse(\"input_files/day12.test.txt\")\n",
    "    print(Caves[\"start\"], Caves[\"end\"],IsSmallCave[\"start\"])"
   ]
  },
  {
   "cell_type": "code",
   "execution_count": 3,
   "id": "c832b8a9",
   "metadata": {},
   "outputs": [],
   "source": [
    "def count_paths(file, can_revisit_small_caves = False):\n",
    "    Caves, IsSmallCave = parse(file)\n",
    "    start = ('start', set(['start']), None)\n",
    "    todo = deque([start])\n",
    "    pathcount = 0\n",
    "    while todo:\n",
    "        cave, small_caves_todo, already_visited = todo.popleft()\n",
    "        if cave in ['end']:\n",
    "            pathcount = pathcount + 1\n",
    "        else:\n",
    "            for i in Caves[cave]:\n",
    "                if can_revisit_small_caves and \\\n",
    "                    i in small_caves_todo and \\\n",
    "                    not(already_visited) and \\\n",
    "                    i not in ['start', 'end']:\n",
    "                        todo.append((i, small_caves_todo, i))\n",
    "                elif i not in small_caves_todo:\n",
    "                    not_visited_small_cave = set(small_caves_todo)\n",
    "                    if IsSmallCave[i]:\n",
    "                        not_visited_small_cave.add(i)\n",
    "                    todo.append((i, not_visited_small_cave, already_visited))  \n",
    "    print(pathcount)\n",
    "    return pathcount"
   ]
  },
  {
   "cell_type": "code",
   "execution_count": 4,
   "id": "e18ce425",
   "metadata": {},
   "outputs": [
    {
     "name": "stdout",
     "output_type": "stream",
     "text": [
      "10\n"
     ]
    },
    {
     "data": {
      "text/plain": [
       "10"
      ]
     },
     "execution_count": 4,
     "metadata": {},
     "output_type": "execute_result"
    }
   ],
   "source": [
    "count_paths(\"input_files/day12.mini.txt\")"
   ]
  },
  {
   "cell_type": "code",
   "execution_count": 5,
   "id": "ec1e03d0",
   "metadata": {},
   "outputs": [
    {
     "name": "stdout",
     "output_type": "stream",
     "text": [
      "19\n"
     ]
    },
    {
     "data": {
      "text/plain": [
       "19"
      ]
     },
     "execution_count": 5,
     "metadata": {},
     "output_type": "execute_result"
    }
   ],
   "source": [
    "count_paths(\"input_files/day12.test.txt\")"
   ]
  },
  {
   "cell_type": "code",
   "execution_count": 6,
   "id": "f5700e53",
   "metadata": {},
   "outputs": [
    {
     "name": "stdout",
     "output_type": "stream",
     "text": [
      "103\n"
     ]
    },
    {
     "data": {
      "text/plain": [
       "103"
      ]
     },
     "execution_count": 6,
     "metadata": {},
     "output_type": "execute_result"
    }
   ],
   "source": [
    "count_paths(\"input_files/day12.test.txt\", True)"
   ]
  },
  {
   "cell_type": "code",
   "execution_count": 7,
   "id": "3af786ff",
   "metadata": {},
   "outputs": [
    {
     "name": "stdout",
     "output_type": "stream",
     "text": [
      "3779\n"
     ]
    },
    {
     "data": {
      "text/plain": [
       "3779"
      ]
     },
     "execution_count": 7,
     "metadata": {},
     "output_type": "execute_result"
    }
   ],
   "source": [
    "# Part 1\n",
    "count_paths(\"input_files/day12.txt\")"
   ]
  },
  {
   "cell_type": "code",
   "execution_count": 8,
   "id": "6fc62d0d",
   "metadata": {},
   "outputs": [
    {
     "name": "stdout",
     "output_type": "stream",
     "text": [
      "96988\n"
     ]
    },
    {
     "data": {
      "text/plain": [
       "96988"
      ]
     },
     "execution_count": 8,
     "metadata": {},
     "output_type": "execute_result"
    }
   ],
   "source": [
    "# Part 2, can revisit small caves: 96988\n",
    "count_paths(\"input_files/day12.txt\", True)"
   ]
  },
  {
   "cell_type": "code",
   "execution_count": null,
   "id": "85fe1dd5",
   "metadata": {},
   "outputs": [],
   "source": []
  }
 ],
 "metadata": {
  "kernelspec": {
   "display_name": "Python 3 (ipykernel)",
   "language": "python",
   "name": "python3"
  },
  "language_info": {
   "codemirror_mode": {
    "name": "ipython",
    "version": 3
   },
   "file_extension": ".py",
   "mimetype": "text/x-python",
   "name": "python",
   "nbconvert_exporter": "python",
   "pygments_lexer": "ipython3",
   "version": "3.9.5"
  }
 },
 "nbformat": 4,
 "nbformat_minor": 5
}
