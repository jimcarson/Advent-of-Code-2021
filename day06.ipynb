{
 "cells": [
  {
   "cell_type": "code",
   "execution_count": 1,
   "id": "3eb6b14a-b529-4eaa-841c-1366837c71ce",
   "metadata": {},
   "outputs": [],
   "source": [
    "# Advent of Code, Day 6 - Jim Carson. \n",
    "# The first time I worked this, I used a numpy array to track each fish.\n",
    "# The array was appended to with each birth.  This got very slow for the\n",
    "# 300-fish test set & 80 days, then was unworkable for 256 days, which \n",
    "# is the main learning from the second part)\n",
    "# \n",
    "# Instead of tracking fish, track fish lifestage.\n",
    "\n",
    "from collections import Counter, defaultdict\n",
    "SPAWN = 7\n",
    "\n",
    "# Roll up input into lifecycle : quantity\n",
    "def parse(puzzle_input):\n",
    "    with open(puzzle_input,\"r\") as fp:\n",
    "        f = fp.read()\n",
    "    return Counter([int(i) for i in f.split(\",\")])"
   ]
  },
  {
   "cell_type": "code",
   "execution_count": 2,
   "id": "168db038-bb4e-4a00-9122-2f197319c47f",
   "metadata": {},
   "outputs": [],
   "source": [
    "\n",
    "def lanternfish(data, days=80):\n",
    "    f = defaultdict(int, data.items())\n",
    "    # new lanternfish take two days longer.\n",
    "    f = [ f[d] for d in range(SPAWN + 2) ] \n",
    "    for i in range(days):\n",
    "        spawn, *fish = f\n",
    "        # print(spawn, *fish)\n",
    "        f = fish\n",
    "        f[SPAWN - 1] = f[SPAWN - 1] + spawn\n",
    "        f.append(spawn)\n",
    "\n",
    "    return sum(f)"
   ]
  },
  {
   "cell_type": "code",
   "execution_count": 3,
   "id": "3d6e77b8-1c9a-4b47-a75f-aaab041e609b",
   "metadata": {},
   "outputs": [
    {
     "name": "stdout",
     "output_type": "stream",
     "text": [
      "After 80 days, 5,934 fish are alive.\n",
      "After 256 days, 26,984,457,539 fish are alive.\n"
     ]
    }
   ],
   "source": [
    "testdata = parse(\"day06.test.txt\")\n",
    "\n",
    "for i in [80, 256]:\n",
    "    print(\"After {:} days, {:,} fish are alive.\".format(i,lanternfish(testdata,i)))\n",
    "# After 80 days, 5,934 fish are alive.\n",
    "# After 256 days, 26,984,457,539 fish are alive."
   ]
  },
  {
   "cell_type": "code",
   "execution_count": 4,
   "id": "82663df0-fe8f-45fd-815d-de27a45c72f1",
   "metadata": {},
   "outputs": [
    {
     "name": "stdout",
     "output_type": "stream",
     "text": [
      "After 80 days, 390,011 fish are alive.\n",
      "After 256 days, 1,746,710,169,834 fish are alive.\n"
     ]
    }
   ],
   "source": [
    "# 30,911\n",
    "# 1746710169834\n",
    "data = parse(\"day06.txt\")\n",
    "for i in [80, 256]:\n",
    "    print(\"After {:} days, {:,} fish are alive.\".format(i,lanternfish(data,i)))\n",
    "# After 80 days, 390,011 fish are alive.\n",
    "# After 256 days, 1,746,710,169,834 fish are alive."
   ]
  },
  {
   "cell_type": "code",
   "execution_count": null,
   "id": "309db0e0-e5ef-4df6-a363-5fe17e71cc7c",
   "metadata": {},
   "outputs": [],
   "source": []
  }
 ],
 "metadata": {
  "kernelspec": {
   "display_name": "Python 3 (ipykernel)",
   "language": "python",
   "name": "python3"
  },
  "language_info": {
   "codemirror_mode": {
    "name": "ipython",
    "version": 3
   },
   "file_extension": ".py",
   "mimetype": "text/x-python",
   "name": "python",
   "nbconvert_exporter": "python",
   "pygments_lexer": "ipython3",
   "version": "3.9.7"
  }
 },
 "nbformat": 4,
 "nbformat_minor": 5
}
