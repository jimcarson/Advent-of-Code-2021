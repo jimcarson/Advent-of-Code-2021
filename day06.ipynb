{
 "cells": [
  {
   "cell_type": "code",
   "execution_count": 1,
   "id": "3eb6b14a-b529-4eaa-841c-1366837c71ce",
   "metadata": {},
   "outputs": [],
   "source": [
    "# Advent of Code, Day 6 - Jim Carson. \n",
    "from collections import Counter, defaultdict\n",
    "BIRTHDAY = 7\n",
    "\n",
    "def parse(puzzle_input):\n",
    "    with open(puzzle_input,\"r\") as fp:\n",
    "        f = fp.read()\n",
    "    return Counter([int(i) for i in f.split(\",\")])"
   ]
  },
  {
   "cell_type": "code",
   "execution_count": 2,
   "id": "168db038-bb4e-4a00-9122-2f197319c47f",
   "metadata": {},
   "outputs": [],
   "source": [
    "\n",
    "# The first time I worked this, I used a numpy array and appended to it with each birth.\n",
    "# Works great for short lists, but is very slow for the 300-fish test set & 256 days.\n",
    "# We don't need to do all that data for this exercise!\n",
    "\n",
    "def lanternfish(data, days=80):\n",
    "    f = defaultdict(int, data.items())\n",
    "    # new lanternfish take two days longer.\n",
    "    f = [ f[d] for d in range(BIRTHDAY + 2) ] \n",
    "    for i in range(days):\n",
    "        spawn, *fish = f\n",
    "        f = fish\n",
    "        f[BIRTHDAY - 1] = f[BIRTHDAY - 1] + spawn\n",
    "        f.append(spawn)\n",
    "\n",
    "    return sum(f)"
   ]
  },
  {
   "cell_type": "code",
   "execution_count": 3,
   "id": "3d6e77b8-1c9a-4b47-a75f-aaab041e609b",
   "metadata": {},
   "outputs": [
    {
     "name": "stdout",
     "output_type": "stream",
     "text": [
      "After 80 days, 5,934 fish are alive.\n",
      "After 256 days, 26,984,457,539 fish are alive.\n"
     ]
    }
   ],
   "source": [
    "testdata = parse(\"day06.test.txt\")\n",
    "\n",
    "for i in [80, 256]:\n",
    "    print(\"After {:} days, {:,} fish are alive.\".format(i,lanternfish(testdata,i)))\n",
    "# After 80 days, 5,934 fish are alive.\n",
    "# After 256 days, 26,984,457,539 fish are alive."
   ]
  },
  {
   "cell_type": "code",
   "execution_count": 4,
   "id": "82663df0-fe8f-45fd-815d-de27a45c72f1",
   "metadata": {},
   "outputs": [
    {
     "name": "stdout",
     "output_type": "stream",
     "text": [
      "After 80 days, 390,011 fish are alive.\n",
      "After 256 days, 1,746,710,169,834 fish are alive.\n"
     ]
    }
   ],
   "source": [
    "# 30,911\n",
    "# 1746710169834\n",
    "\n",
    "data = parse(\"day06.test.txt\")\n",
    "for i in [80, 256]:\n",
    "    print(\"After {:} days, {:,} fish are alive.\".format(i,lanternfish(parse(\"day06.txt\"),i)))\n",
    "# After 80 days, 390,011 fish are alive.\n",
    "# After 256 days, 1,746,710,169,834 fish are alive."
   ]
  },
  {
   "cell_type": "code",
   "execution_count": null,
   "id": "67254ec1-a12a-4dd0-9069-ba5204a2e9b3",
   "metadata": {},
   "outputs": [],
   "source": []
  }
 ],
 "metadata": {
  "kernelspec": {
   "display_name": "Python 3 (ipykernel)",
   "language": "python",
   "name": "python3"
  },
  "language_info": {
   "codemirror_mode": {
    "name": "ipython",
    "version": 3
   },
   "file_extension": ".py",
   "mimetype": "text/x-python",
   "name": "python",
   "nbconvert_exporter": "python",
   "pygments_lexer": "ipython3",
   "version": "3.9.5"
  }
 },
 "nbformat": 4,
 "nbformat_minor": 5
}
