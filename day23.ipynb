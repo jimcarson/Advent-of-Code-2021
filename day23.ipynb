{
 "cells": [
  {
   "cell_type": "code",
   "execution_count": 1,
   "id": "35833105",
   "metadata": {},
   "outputs": [],
   "source": [
    "# AOC Day 23\n",
    "\n",
    "def parse(input_file):\n",
    "    with open(input_file, \"r\") as fp:\n",
    "        f = fp.read()\n",
    "    return f"
   ]
  },
  {
   "cell_type": "code",
   "execution_count": 2,
   "id": "4e003524",
   "metadata": {},
   "outputs": [],
   "source": [
    "f = parse(\"input_files/day23.test.txt\")"
   ]
  },
  {
   "cell_type": "raw",
   "id": "d7107c96",
   "metadata": {},
   "source": [
    "...........\n",
    " |D|A|D|C|\n",
    " |C|A|B|B|\n",
    "\n",
    "A.........       5\n",
    " |D| |D|C|\n",
    " |C|A|B|B|\n",
    "\n",
    "\n",
    "AA........       5\n",
    " |D| |D|C|\n",
    " |C| |B|B|\n",
    "\n",
    "AA.......C     200\n",
    " |D| |D| |\n",
    " |C| |B|B|\n",
    "\n",
    "AA.......C      80\n",
    " |D| |D| |\n",
    " |C|B|B| |\n",
    "\n",
    "AA.......C    5000\n",
    " |D| | | |\n",
    " |C|B|B|D|\n",
    "\n",
    "AA.......C    8000\n",
    " | | | |D|\n",
    " |C|B|B|D|\n",
    "\n",
    "AA.......C      50\n",
    " | |B| |D|\n",
    " |C|B| |D|\n",
    "\n",
    "AA........     500\n",
    " | |B| |D|\n",
    " |C|B|C|D|\n",
    "\n",
    "AA........     700\n",
    " | |B|C|D|\n",
    " | |B|C|D|\n",
    "\n",
    "..........       6\n",
    " |A|B|C|D|\n",
    " |A|B|C|D|\n",
    "\n",
    "Total is 14546"
   ]
  },
  {
   "cell_type": "markdown",
   "id": "14db4684",
   "metadata": {},
   "source": [
    "I also did this one with pen and paper (much faster than I could code).  \n",
    "![Amphipod](amphipod.png)\n",
    "\n",
    "H1 - H11 - the \"hallway\" at the top.  Pieces cannot stay at H3, H5, H7, or H9.\n",
    "A1-A4, ... D1-D4 -- the rooms where the amphipods end up.\n",
    "\n",
    "Sequence of operations follows:"
   ]
  },
  {
   "cell_type": "raw",
   "id": "c780fa73",
   "metadata": {},
   "source": [
    "Fr\tTo\tRoom\n",
    "D1\tH1\t\n",
    "D2\tH2\t\n",
    "C1\tH8\t\n",
    "D3\tH11\t\n",
    "D4\tH10\t\n",
    "H8\tD4\tD\n",
    "A1\tD3\tD\n",
    "A2\tD2\tD\n",
    "A3\tD1\tD\n",
    "A4\tH8\t\n",
    "H2\tA4\tA\n",
    "B1\tA3\tA\n",
    "C2\tH2\t\n",
    "C3\tA2\tA\n",
    "C4\tH4\t\n",
    "H8\tC4\tC\n",
    "B2\tC3\tC\n",
    "B3\tH8\t\n",
    "B4\tH6\t\n",
    "H4\tB4\tB\n",
    "H2\tB3\tB\n",
    "H6\tA1\tA\n",
    "H8\tB2\tB\n",
    "H1\tC2\tC\n",
    "H10\tB1\tB\n",
    "H11\tC1\tC"
   ]
  },
  {
   "cell_type": "code",
   "execution_count": null,
   "id": "fd4817c1",
   "metadata": {},
   "outputs": [],
   "source": []
  }
 ],
 "metadata": {
  "kernelspec": {
   "display_name": "Python 3 (ipykernel)",
   "language": "python",
   "name": "python3"
  },
  "language_info": {
   "codemirror_mode": {
    "name": "ipython",
    "version": 3
   },
   "file_extension": ".py",
   "mimetype": "text/x-python",
   "name": "python",
   "nbconvert_exporter": "python",
   "pygments_lexer": "ipython3",
   "version": "3.9.7"
  }
 },
 "nbformat": 4,
 "nbformat_minor": 5
}
