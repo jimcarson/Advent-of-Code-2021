{
 "cells": [
  {
   "cell_type": "code",
   "execution_count": 1,
   "id": "35833105",
   "metadata": {},
   "outputs": [],
   "source": [
    "# AOC Day 23\n",
    "\n",
    "def parse(input_file):\n",
    "    with open(input_file, \"r\") as fp:\n",
    "        f = fp.read()\n",
    "    return f"
   ]
  },
  {
   "cell_type": "code",
   "execution_count": 2,
   "id": "4e003524",
   "metadata": {},
   "outputs": [],
   "source": [
    "f = parse(\"input_files/day23.test.txt\")"
   ]
  },
  {
   "cell_type": "raw",
   "id": "d7107c96",
   "metadata": {},
   "source": [
    "...........\n",
    " |D|A|D|C|\n",
    " |C|A|B|B|\n",
    "\n",
    "A.........       5\n",
    " |D| |D|C|\n",
    " |C|A|B|B|\n",
    "\n",
    "\n",
    "AA........       5\n",
    " |D| |D|C|\n",
    " |C| |B|B|\n",
    "\n",
    "AA.......C     200\n",
    " |D| |D| |\n",
    " |C| |B|B|\n",
    "\n",
    "AA.......C      80\n",
    " |D| |D| |\n",
    " |C|B|B| |\n",
    "\n",
    "AA.......C    5000\n",
    " |D| | | |\n",
    " |C|B|B|D|\n",
    "\n",
    "AA.......C    8000\n",
    " | | | |D|\n",
    " |C|B|B|D|\n",
    "\n",
    "AA.......C      50\n",
    " | |B| |D|\n",
    " |C|B| |D|\n",
    "\n",
    "AA........     500\n",
    " | |B| |D|\n",
    " |C|B|C|D|\n",
    "\n",
    "AA........     700\n",
    " | |B|C|D|\n",
    " | |B|C|D|\n",
    "\n",
    "..........       6\n",
    " |A|B|C|D|\n",
    " |A|B|C|D|\n",
    "\n",
    "Total is 14546"
   ]
  },
  {
   "cell_type": "markdown",
   "id": "14db4684",
   "metadata": {},
   "source": [
    "I also did this one with pen and paper (much faster than I could code).  \n",
    "![Amphipod](amphipod.png)\n",
    "\n",
    "H1 - H11 - the \"hallway\" at the top.  Pieces cannot stay at H3, H5, H7, or H9.\n",
    "A1-A4, ... D1-D4 -- the rooms where the amphipods end up.\n",
    "\n",
    "Sequence of operations follows:"
   ]
  },
  {
   "cell_type": "markdown",
   "id": "3df18819",
   "metadata": {},
   "source": [
    "|Fr|To|Room`|\n",
    "|--|--|-----|\n",
    "|D1|H1||\n",
    "|D2|H2||\n",
    "|C1|H8||\n",
    "|D3|H11||\n",
    "|D4|H10||\n",
    "|H8|D4|D|\n",
    "|A1|D3|D|\n",
    "|A2|D2|D|\n",
    "|A3|D1|D|\n",
    "|A4|H8||\n",
    "|H2|A4|A|\n",
    "|B1|A3|A|\n",
    "|C2|H2||\n",
    "|C3|A2|A|\n",
    "|C4|H4||\n",
    "|H8|C4|C|\n",
    "|B2|C3|C|\n",
    "|B3|H8||\n",
    "|B4|H6||\n",
    "|H4|B4|B|\n",
    "|H2|B3|B|\n",
    "|H6|A1|A|\n",
    "|H8|B2|B|\n",
    "|H1|C2|C|\n",
    "|H10|B1|B|\n",
    "|H11|C1|C|\n"
   ]
  },
  {
   "cell_type": "code",
   "execution_count": null,
   "id": "fd4817c1",
   "metadata": {},
   "outputs": [],
   "source": []
  }
 ],
 "metadata": {
  "kernelspec": {
   "display_name": "Python 3 (ipykernel)",
   "language": "python",
   "name": "python3"
  },
  "language_info": {
   "codemirror_mode": {
    "name": "ipython",
    "version": 3
   },
   "file_extension": ".py",
   "mimetype": "text/x-python",
   "name": "python",
   "nbconvert_exporter": "python",
   "pygments_lexer": "ipython3",
   "version": "3.9.5"
  }
 },
 "nbformat": 4,
 "nbformat_minor": 5
}
