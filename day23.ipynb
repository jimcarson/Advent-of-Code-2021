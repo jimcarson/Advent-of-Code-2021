{
 "cells": [
  {
   "cell_type": "code",
   "execution_count": 1,
   "id": "35833105",
   "metadata": {},
   "outputs": [],
   "source": [
    "# AOC Day 23\n",
    "\n",
    "def parse(input_file):\n",
    "    with open(input_file, \"r\") as fp:\n",
    "        f = fp.read()\n",
    "    return f"
   ]
  },
  {
   "cell_type": "code",
   "execution_count": 2,
   "id": "4e003524",
   "metadata": {},
   "outputs": [],
   "source": [
    "f = parse(\"input_files/day23.test.txt\")"
   ]
  },
  {
   "cell_type": "raw",
   "id": "d7107c96",
   "metadata": {},
   "source": [
    "...........\n",
    " |D|A|D|C|\n",
    " |C|A|B|B|\n",
    "\n",
    "A.........       5\n",
    " |D| |D|C|\n",
    " |C|A|B|B|\n",
    "\n",
    "\n",
    "AA........       5\n",
    " |D| |D|C|\n",
    " |C| |B|B|\n",
    "\n",
    "AA.......C     200\n",
    " |D| |D| |\n",
    " |C| |B|B|\n",
    "\n",
    "AA.......C      80\n",
    " |D| |D| |\n",
    " |C|B|B| |\n",
    "\n",
    "AA.......C    5000\n",
    " |D| | | |\n",
    " |C|B|B|D|\n",
    "\n",
    "AA.......C    8000\n",
    " | | | |D|\n",
    " |C|B|B|D|\n",
    "\n",
    "AA.......C      50\n",
    " | |B| |D|\n",
    " |C|B| |D|\n",
    "\n",
    "AA........     500\n",
    " | |B| |D|\n",
    " |C|B|C|D|\n",
    "\n",
    "AA........     700\n",
    " | |B|C|D|\n",
    " | |B|C|D|\n",
    "\n",
    "..........       6\n",
    " |A|B|C|D|\n",
    " |A|B|C|D|\n",
    "\n",
    "Total is 14546"
   ]
  },
  {
   "cell_type": "raw",
   "id": "08dcd191",
   "metadata": {},
   "source": [
    "I also did this one with pen and paper (much faster than I could code).  42308"
   ]
  },
  {
   "cell_type": "code",
   "execution_count": null,
   "id": "15c13525",
   "metadata": {},
   "outputs": [],
   "source": []
  }
 ],
 "metadata": {
  "kernelspec": {
   "display_name": "Python 3 (ipykernel)",
   "language": "python",
   "name": "python3"
  },
  "language_info": {
   "codemirror_mode": {
    "name": "ipython",
    "version": 3
   },
   "file_extension": ".py",
   "mimetype": "text/x-python",
   "name": "python",
   "nbconvert_exporter": "python",
   "pygments_lexer": "ipython3",
   "version": "3.9.7"
  }
 },
 "nbformat": 4,
 "nbformat_minor": 5
}
