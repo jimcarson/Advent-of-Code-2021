{
 "cells": [
  {
   "cell_type": "code",
   "execution_count": 1,
   "id": "3eb6b14a-b529-4eaa-841c-1366837c71ce",
   "metadata": {},
   "outputs": [],
   "source": [
    "# Advent of Code, Day 8 - Jim Carson. \n",
    "def parse(puzzle_input):\n",
    "    r = []\n",
    "    with open(puzzle_input,\"r\") as fp:\n",
    "        f = fp.read()\n",
    "    lines = f.splitlines()\n",
    "    for l in lines:\n",
    "        s, d = l.split(\"|\")\n",
    "        signals = s.split()\n",
    "        displays = d.split()\n",
    "        r.append((signals, displays))\n",
    "    return r"
   ]
  },
  {
   "cell_type": "markdown",
   "id": "29a3227b",
   "metadata": {},
   "source": [
    "Each digit of a seven-segment display is rendered by turning on or off any of seven segments named a through g:\n",
    "\n",
    "![7-segment Display](7_segment.png)\n",
    "\n",
    "Each entry consists of ten unique signal patterns, a | delimiter, and finally the four digit output value. Within an entry, the same wire/segment connections are used (but you don't know what the connections actually are). The unique signal patterns correspond to the ten different ways the submarine tries to render a digit using the current wire/segment connections. "
   ]
  },
  {
   "cell_type": "markdown",
   "id": "fd1d2eb8",
   "metadata": {},
   "source": [
    "acedgfb cdfbe gcdfa fbcad dab cefabd cdfgeb eafb cagedb ab **|**\n",
    "*cdfeb fcadb cdfeb cdbaf*\n"
   ]
  },
  {
   "cell_type": "code",
   "execution_count": 2,
   "id": "427458e7-f5c2-426a-9a80-d2a60ebf72b0",
   "metadata": {},
   "outputs": [
    {
     "name": "stdout",
     "output_type": "stream",
     "text": [
      "470\n"
     ]
    }
   ],
   "source": [
    "data = parse(\"input_files/day08.txt\")\n",
    "num_1478 = 0\n",
    "for i in data:\n",
    "    for j in i[1]:\n",
    "        if len(j) in [2,3,4,7]:\n",
    "            num_1478 += 1\n",
    "print(num_1478)"
   ]
  },
  {
   "cell_type": "markdown",
   "id": "67012ec1",
   "metadata": {},
   "source": [
    "In the output values, how many times do digits 1, 4, 7, or 8 appear?\n",
    "**470**"
   ]
  },
  {
   "cell_type": "code",
   "execution_count": 3,
   "id": "8d49197b-1ae0-443f-b3e3-6cee2e622a8d",
   "metadata": {},
   "outputs": [],
   "source": [
    "#\n",
    "# This works by logically deducing segments based on length and existing segments in other, known\n",
    "# numbers.  Because of timing, there's no error checking.  Rather, you have to call it by length,\n",
    "# skipping length(5) numbers until length(6) are identified.  (I couldn't figure out how to sort a \n",
    "# list by length 2, 3, 4, 7, 6, 5.)\n",
    "#\n",
    "def identify_digit(signal, known):\n",
    "    L = len(signal)\n",
    "    S = set(list(signal))\n",
    "    if L == 2:\n",
    "        return(1,S)\n",
    "    if L == 3:\n",
    "        return(7,S)\n",
    "    if L == 4:\n",
    "        return(4,S)\n",
    "    if L == 7:\n",
    "        return(8,S)\n",
    "    # Ideally, there would be a check here that 1, 4, and 7 are already identified.\n",
    "    if L == 6:\n",
    "        if known[7].issubset(S):\n",
    "            if known[4].issubset(S):\n",
    "                return(9,S)\n",
    "            return(0,S)\n",
    "        return(6,S)\n",
    "    # Ideally, there would be a check here that 9 and 7 are already identified.\n",
    "    if L == 5:\n",
    "        if S.issubset(known[9]) and not known[7].issubset(S):\n",
    "            return(5,S)\n",
    "        elif known[7].issubset(S):\n",
    "            return(3,S)\n",
    "        return(2,S)\n",
    "    # This should never happen as the problem is stated\n",
    "    return(None)\n",
    "\n",
    "def get_key(val, d):\n",
    "    for k, v in d.items():\n",
    "        if val == v:\n",
    "            return k\n",
    "\n",
    "# Sort the list by length, but in this order: 2, 3, 4, 7, 6, 5.\n",
    "def prioritize(signal):\n",
    "    for i in sorted(signal, key=len):\n",
    "        if len(i) != 5:\n",
    "            yield i\n",
    "    for i in sorted(signal, key=len):\n",
    "        if len(i) == 5:\n",
    "            yield i\n",
    "\n",
    "def deduce_numbers(signal, display):\n",
    "    known = {}\n",
    "    for i in prioritize(signal):\n",
    "        num, S = identify_digit(i, known)\n",
    "        known[num] = S\n",
    "    num = []\n",
    "    for i in display:\n",
    "        num.append(get_key(set(list(i)),known))\n",
    "    return int(''.join(map(str, num)))"
   ]
  },
  {
   "cell_type": "markdown",
   "id": "af8c480d",
   "metadata": {},
   "source": [
    "For each entry, determine all of the wire/segment connections and decode the four-digit output values. What do you get if you add up all of the output values?  **989396**"
   ]
  },
  {
   "cell_type": "code",
   "execution_count": 4,
   "id": "92c8b61a-9d1e-4434-9ce3-af76a6edbfb5",
   "metadata": {},
   "outputs": [
    {
     "name": "stdout",
     "output_type": "stream",
     "text": [
      "989396\n"
     ]
    }
   ],
   "source": [
    "outputs = []\n",
    "for signal, display in data:\n",
    "    outputs.append(deduce_numbers(signal, display))\n",
    "print(sum(outputs))\n",
    "# part 2: 989396\n"
   ]
  },
  {
   "cell_type": "code",
   "execution_count": null,
   "id": "edee3cd9",
   "metadata": {},
   "outputs": [],
   "source": []
  }
 ],
 "metadata": {
  "kernelspec": {
   "display_name": "Python 3 (ipykernel)",
   "language": "python",
   "name": "python3"
  },
  "language_info": {
   "codemirror_mode": {
    "name": "ipython",
    "version": 3
   },
   "file_extension": ".py",
   "mimetype": "text/x-python",
   "name": "python",
   "nbconvert_exporter": "python",
   "pygments_lexer": "ipython3",
   "version": "3.9.5"
  }
 },
 "nbformat": 4,
 "nbformat_minor": 5
}
